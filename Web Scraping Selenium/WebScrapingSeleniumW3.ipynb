{
 "cells": [
  {
   "cell_type": "code",
   "execution_count": 1,
   "metadata": {},
   "outputs": [],
   "source": [
    "import selenium\n",
    "from selenium import webdriver\n",
    "import pandas as pd\n",
    "import time"
   ]
  },
  {
   "cell_type": "markdown",
   "metadata": {},
   "source": [
    "Q1. Write a python program which searches all the product under a particular product vertical from www.amazon.in. The product verticals to be searched will be taken as input from user. For e.g. If user input is ‘guitar’. Then search for guitars."
   ]
  },
  {
   "cell_type": "code",
   "execution_count": 3,
   "metadata": {},
   "outputs": [],
   "source": [
    "driver= webdriver.Chrome(\"chromedriver.exe\")"
   ]
  },
  {
   "cell_type": "code",
   "execution_count": 62,
   "metadata": {},
   "outputs": [],
   "source": [
    "# Getting url\n",
    "url= \"https://www.amazon.in/\"\n",
    "driver.get(url)"
   ]
  },
  {
   "cell_type": "code",
   "execution_count": 63,
   "metadata": {},
   "outputs": [
    {
     "name": "stdout",
     "output_type": "stream",
     "text": [
      "Enter the product name : \n",
      "guitar\n"
     ]
    }
   ],
   "source": [
    "prod= input(\"Enter the product name : \\n\")\n",
    "search=driver.find_element_by_id(\"twotabsearchtextbox\")\n",
    "search.send_keys(prod)"
   ]
  },
  {
   "cell_type": "code",
   "execution_count": 64,
   "metadata": {},
   "outputs": [],
   "source": [
    "search_btn=driver.find_element_by_xpath(\"/html/body/div[1]/header/div/div[1]/div[2]/div/form/div[3]/div/span/input\")\n",
    "search_btn.click()"
   ]
  },
  {
   "cell_type": "markdown",
   "metadata": {},
   "source": [
    "2. In the above question, now scrape the following details of each product listed in first 3 pages of your search results and save it in a data frame and csv. In case if any product vertical has less than 3 pages in search results then scrape all the products available under that product vertical. Details to be scraped are: \"Brand Name\", \"Name of the Product\", \"Rating\", \"No. of Ratings\", \"Price\", \"Return/Exchange\", \"Expected Delivery\", \"Availability\", \"Other Details\" and “Product URL”. In case, if any of the details are missing for any of the product then replace it by “-“."
   ]
  },
  {
   "cell_type": "code",
   "execution_count": 65,
   "metadata": {},
   "outputs": [
    {
     "name": "stdout",
     "output_type": "stream",
     "text": [
      "['https://www.amazon.in/gp/slredirect/picassoRedirect.html/ref=pa_sp_atf_aps_sr_pg1_1?ie=UTF8&adId=A0991693PKTLP5CX5W2L&url=%2FMedellin-MED-BLU-C-Linden-Acoustic-Guitar%2Fdp%2FB07NBMWHJW%2Fref%3Dsr_1_1_sspa%3Fdchild%3D1%26keywords%3Dguitar%26qid%3D1627469775%26sr%3D8-1-spons%26psc%3D1%26smid%3DAM04Z7MH4HSDD&qualifier=1627469775&id=8557941832463111&widgetName=sp_atf', 'https://www.amazon.in/gp/slredirect/picassoRedirect.html/ref=pa_sp_atf_aps_sr_pg1_1?ie=UTF8&adId=A02345373MFNVAER3DQNT&url=%2FKadence-Acoustica-Ash-Wood-Equlizer%2Fdp%2FB0757H5P13%2Fref%3Dsr_1_2_sspa%3Fdchild%3D1%26keywords%3Dguitar%26qid%3D1627469775%26sr%3D8-2-spons%26psc%3D1%26smid%3DAM04Z7MH4HSDD&qualifier=1627469775&id=8557941832463111&widgetName=sp_atf', 'https://www.amazon.in/gp/slredirect/picassoRedirect.html/ref=pa_sp_atf_aps_sr_pg1_1?ie=UTF8&adId=A0928654VYD9HPIWAKBZ&url=%2FKadence-Frontier-Natural-Acoustic-Foldable%2Fdp%2FB01CJJGJ04%2Fref%3Dsr_1_3_sspa%3Fdchild%3D1%26keywords%3Dguitar%26qid%3D1627469775%26sr%3D8-3-spons%26psc%3D1&qualifier=1627469775&id=8557941832463111&widgetName=sp_atf', 'https://www.amazon.in/gp/slredirect/picassoRedirect.html/ref=pa_sp_atf_aps_sr_pg1_1?ie=UTF8&adId=A08791823J4GRMJMKDFMU&url=%2FGUITAR-BRO-Acoustic-Beginner-Accessories%2Fdp%2FB07TC7TWCR%2Fref%3Dsr_1_4_sspa%3Fdchild%3D1%26keywords%3Dguitar%26qid%3D1627469775%26sr%3D8-4-spons%26psc%3D1&qualifier=1627469775&id=8557941832463111&widgetName=sp_atf', 'https://www.amazon.in/Juarez-Acoustic-Cutaway-038C-Strings/dp/B017NPCSLI/ref=sr_1_5?dchild=1&keywords=guitar&qid=1627469775&sr=8-5', 'https://www.amazon.in/Intern-INT-38C-Acoustic-Guitar-Black/dp/B073B6TQQY/ref=sr_1_6?dchild=1&keywords=guitar&qid=1627469775&sr=8-6', 'https://www.amazon.in/JUAREZ-JRZ38C-Acoustic-Sunburst-Strings/dp/B01FYYTDS6/ref=sr_1_7?dchild=1&keywords=guitar&qid=1627469775&sr=8-7', 'https://aax-eu.amazon.in/x/c/QtO_JPCT9thdQGTIsQKTPTkAAAF67MIA9wMAAAH2Acxcsck/https://www.amazon.in/dp/B0757H5P13?pd_rd_i=B0757H5P13&pd_rd_w=0vuwC&pf_rd_p=a75ba368-11d2-4ce4-98f8-b19ed03dc54e&pd_rd_wg=gpDGb&pf_rd_r=0QSG3FHZMSQJGJYVJE6B&pd_rd_r=5543feea-deb6-4ed2-aebe-37ff85593b9d', 'https://www.amazon.in/Juarez-Acoustic-Cutaway-038C-Strings/dp/B017NPCSLI/ref=sxin_12?asc_contentid=amzn1.osa.c9f832fe-8720-44a6-bbf1-1744c27d503b.A21TJRUUN4KGV.en_IN&asc_contenttype=article&ascsubtag=amzn1.osa.c9f832fe-8720-44a6-bbf1-1744c27d503b.A21TJRUUN4KGV.en_IN&creativeASIN=B017NPCSLI&cv_ct_cx=guitar&cv_ct_id=amzn1.osa.c9f832fe-8720-44a6-bbf1-1744c27d503b.A21TJRUUN4KGV.en_IN&cv_ct_pg=search&cv_ct_we=asin&cv_ct_wn=osp-single-source-earns-comm&dchild=1&keywords=guitar&linkCode=oas&pd_rd_i=B017NPCSLI&pd_rd_r=5543feea-deb6-4ed2-aebe-37ff85593b9d&pd_rd_w=io3OT&pd_rd_wg=gpDGb&pf_rd_p=85e157eb-8312-4fce-bfb5-78223bced751&pf_rd_r=0QSG3FHZMSQJGJYVJE6B&qid=1627469775&sr=1-1-61f4c597-7a45-4a97-bd75-c52903f8ee93&tag=htsyndicate-21', 'https://www.amazon.in/Intern-INT-38C-Acoustic-Guitar-Black/dp/B073B6TQQY/ref=sxin_12?asc_contentid=amzn1.osa.c9f832fe-8720-44a6-bbf1-1744c27d503b.A21TJRUUN4KGV.en_IN&asc_contenttype=article&ascsubtag=amzn1.osa.c9f832fe-8720-44a6-bbf1-1744c27d503b.A21TJRUUN4KGV.en_IN&creativeASIN=B073B6TQQY&cv_ct_cx=guitar&cv_ct_id=amzn1.osa.c9f832fe-8720-44a6-bbf1-1744c27d503b.A21TJRUUN4KGV.en_IN&cv_ct_pg=search&cv_ct_we=asin&cv_ct_wn=osp-single-source-earns-comm&dchild=1&keywords=guitar&linkCode=oas&pd_rd_i=B073B6TQQY&pd_rd_r=5543feea-deb6-4ed2-aebe-37ff85593b9d&pd_rd_w=io3OT&pd_rd_wg=gpDGb&pf_rd_p=85e157eb-8312-4fce-bfb5-78223bced751&pf_rd_r=0QSG3FHZMSQJGJYVJE6B&qid=1627469775&sr=1-2-61f4c597-7a45-4a97-bd75-c52903f8ee93&tag=htsyndicate-21', 'https://www.amazon.in/JUAREZ-JRZ38C-Acoustic-Sunburst-Strings/dp/B01FYYTDTU/ref=sxin_12?asc_contentid=amzn1.osa.c9f832fe-8720-44a6-bbf1-1744c27d503b.A21TJRUUN4KGV.en_IN&asc_contenttype=article&ascsubtag=amzn1.osa.c9f832fe-8720-44a6-bbf1-1744c27d503b.A21TJRUUN4KGV.en_IN&creativeASIN=B01FYYTDTU&cv_ct_cx=guitar&cv_ct_id=amzn1.osa.c9f832fe-8720-44a6-bbf1-1744c27d503b.A21TJRUUN4KGV.en_IN&cv_ct_pg=search&cv_ct_we=asin&cv_ct_wn=osp-single-source-earns-comm&dchild=1&keywords=guitar&linkCode=oas&pd_rd_i=B01FYYTDTU&pd_rd_r=5543feea-deb6-4ed2-aebe-37ff85593b9d&pd_rd_w=io3OT&pd_rd_wg=gpDGb&pf_rd_p=85e157eb-8312-4fce-bfb5-78223bced751&pf_rd_r=0QSG3FHZMSQJGJYVJE6B&qid=1627469775&sr=1-3-61f4c597-7a45-4a97-bd75-c52903f8ee93&tag=htsyndicate-21', 'https://www.amazon.in/JUAREZ-JRZ38C-Acoustic-Natural-Strings/dp/B01FYYTDWC/ref=sr_1_8?dchild=1&keywords=guitar&qid=1627469775&sr=8-8', 'https://www.amazon.in/Intern-INT-38C-Acoustic-Guitar-Sunburst/dp/B073B5MJRM/ref=sr_1_9?dchild=1&keywords=guitar&qid=1627469775&sr=8-9', 'https://www.amazon.in/Rosewood-Fretboard-Acoustic-Strings-K-Retail/dp/B07KLG8C4P/ref=sr_1_10?dchild=1&keywords=guitar&qid=1627469775&smid=A13OVDGGW6HXSA&sr=8-10', 'https://www.amazon.in/JUAREZ-JRZ38C-Acoustic-Sunburst-Strings/dp/B01FYYTDTU/ref=sr_1_11?dchild=1&keywords=guitar&qid=1627469775&sr=8-11', 'https://www.amazon.in/Intern-INT-38C-Acoustic-Guitar-Blue/dp/B073B5RZBV/ref=sr_1_12?dchild=1&keywords=guitar&qid=1627469775&sr=8-12', 'https://www.amazon.in/Intern-INT-38C-Acoustic-Guitar-Kit/dp/B073B6TF31/ref=sr_1_13?dchild=1&keywords=guitar&qid=1627469775&sr=8-13', 'https://www.amazon.in/Kordz-Luana-Natural-Rosewood-Fretboard/dp/B07V4Y1V9M/ref=sr_1_14?dchild=1&keywords=guitar&qid=1627469775&smid=A13OVDGGW6HXSA&sr=8-14', 'https://www.amazon.in/JUAREZ-JRZ38C-Handed-Acoustic-Strings/dp/B01FYYTDX6/ref=sr_1_15?dchild=1&keywords=guitar&qid=1627469775&sr=8-15', 'https://www.amazon.in/Juarez-Strings-Acoustic-Cutaway-Zebrawood/dp/B072Q9L8DG/ref=sr_1_16?dchild=1&keywords=guitar&qid=1627469775&sr=8-16', 'https://www.amazon.in/Juarez-Acoustic-Cutaway-BK-Strings/dp/B076T3RHMG/ref=sr_1_17?dchild=1&keywords=guitar&qid=1627469775&sr=8-17', 'https://www.amazon.in/Medellin-MED-BLK-C-Linden-Acoustic-Guitar/dp/B07NBMNZS2/ref=sr_1_18?dchild=1&keywords=guitar&qid=1627469775&sr=8-18', 'https://www.amazon.in/Intern-INT-38C-BK-G-Guitar-Kit-Black/dp/B07K9497RC/ref=sr_1_19?dchild=1&keywords=guitar&qid=1627469775&sr=8-19', 'https://www.amazon.in/4-String-Acoustic-Musical-Instrument-Learning/dp/B08QGLQVRN/ref=sr_1_20?dchild=1&keywords=guitar&qid=1627469775&sr=8-20', 'https://www.amazon.in/gp/slredirect/picassoRedirect.html/ref=pa_sp_mtf_aps_sr_pg1_1?ie=UTF8&adId=A04201121DK34WO2CQ71G&url=%2FGUITAR-BRO-Learning-1-Accessories%2Fdp%2FB08BNBYVYL%2Fref%3Dsr_1_21_sspa%3Fdchild%3D1%26keywords%3Dguitar%26qid%3D1627469775%26sr%3D8-21-spons%26psc%3D1&qualifier=1627469775&id=8557941832463111&widgetName=sp_mtf', 'https://www.amazon.in/gp/slredirect/picassoRedirect.html/ref=pa_sp_mtf_aps_sr_pg1_1?ie=UTF8&adId=A056838626T3JJCBUXMY3&url=%2FVD-ENTERPRISE-Adjustable-Classical-Instrument%2Fdp%2FB08S323L6W%2Fref%3Dsr_1_22_sspa%3Fdchild%3D1%26keywords%3Dguitar%26qid%3D1627469775%26sr%3D8-22-spons%26psc%3D1&qualifier=1627469775&id=8557941832463111&widgetName=sp_mtf', 'https://www.amazon.in/gp/slredirect/picassoRedirect.html/ref=pa_sp_mtf_aps_sr_pg1_1?ie=UTF8&adId=A03970931IVRXGHATZ0GC&url=%2FENTERPRISE-Guitar-4-String-Acoustic-Instrument%2Fdp%2FB097YG1ST1%2Fref%3Dsr_1_23_sspa%3Fdchild%3D1%26keywords%3Dguitar%26qid%3D1627469775%26sr%3D8-23-spons%26psc%3D1&qualifier=1627469775&id=8557941832463111&widgetName=sp_mtf', 'https://www.amazon.in/gp/slredirect/picassoRedirect.html/ref=pa_sp_mtf_aps_sr_pg1_1?ie=UTF8&adId=A05120842ID8QK8W1IIXR&url=%2FMUSICALS%25C2%25AE-Guitar-Including-Strings-remover%2Fdp%2FB082Q6C28F%2Fref%3Dsr_1_24_sspa%3Fdchild%3D1%26keywords%3Dguitar%26qid%3D1627469775%26sr%3D8-24-spons%26psc%3D1&qualifier=1627469775&id=8557941832463111&widgetName=sp_mtf', 'https://www.amazon.in/Intern-INT-38C-Natural-Acoustic-Guitar/dp/B07X4LPJ6H/ref=sr_1_25?dchild=1&keywords=guitar&qid=1627469775&sr=8-25', 'https://www.amazon.in/Intern-INT-38C-SB-G-Guitar-Kit-Sunburst/dp/B07K8WLPLH/ref=sr_1_26?dchild=1&keywords=guitar&qid=1627469775&sr=8-26', 'https://www.amazon.in/Acoustic-Cutaway-TBLS-Strings-Sunburst/dp/B098BCCY75/ref=sr_1_27?dchild=1&keywords=guitar&qid=1627469775&sr=8-27', 'https://www.amazon.in/Luximal-Instrument-Acoustic-Learning-Educational/dp/B08SMKVC7Q/ref=sr_1_28?dchild=1&keywords=guitar&qid=1627469775&sr=8-28', 'https://www.amazon.in/Intern-INT-38C-Acoustic-Guitar-Natural/dp/B073B4D22T/ref=sr_1_29?dchild=1&keywords=guitar&qid=1627469775&sr=8-29', 'https://www.amazon.in/JUAREZ-Acoustic-Guitar-Action-Natural/dp/B08FV4GPWY/ref=sr_1_30?dchild=1&keywords=guitar&qid=1627469775&sr=8-30', 'https://www.amazon.in/Acoustic-Cutaway-3TS-Strings-Sunburst/dp/B098BD1MHM/ref=sr_1_31?dchild=1&keywords=guitar&qid=1627469775&sr=8-31', 'https://www.amazon.in/Martin-Smith-W-101-N-PK-Acoustic-Natural/dp/B00UOUK4IE/ref=sr_1_32?dchild=1&keywords=guitar&qid=1627469775&sr=8-32', 'https://www.amazon.in/Guitar-Accessories-Including-acoustic-electric/dp/B08XBZB5RN/ref=sr_1_33?dchild=1&keywords=guitar&qid=1627469775&sr=8-33', 'https://www.amazon.in/Guitar-Ukulele-Chromatic-Rotating-Accurate/dp/B08XBN94LC/ref=sr_1_34?dchild=1&keywords=guitar&qid=1627469775&sr=8-34', 'https://www.amazon.in/Henrix-Cutaway-Acoustic-Die-Cast-Tuners/dp/B07KMXDXBV/ref=sr_1_35?dchild=1&keywords=guitar&qid=1627469775&sr=8-35', 'https://www.amazon.in/JUAREZ-Fi%C3%A9sta-Acoustic-Rosewood-Fretboard/dp/B08GZZVCB7/ref=sr_1_36?dchild=1&keywords=guitar&qid=1627469775&sr=8-36', 'https://www.amazon.in/Yamaha-FS-100C-6-String-Acoustic-without/dp/B00PAS9CK6/ref=sr_1_37?dchild=1&keywords=guitar&qid=1627469775&sr=8-37', 'https://www.amazon.in/JUAREZ-Acoustic-Cutaway-Rosewood-Fretboard/dp/B08GZZ6SQ2/ref=sr_1_38?dchild=1&keywords=guitar&qid=1627469775&sr=8-38', 'https://www.amazon.in/JUAREZ-Arpeggio-Acoustic-Rosewood-Fretboard/dp/B08LBHB547/ref=sr_1_39?dchild=1&keywords=guitar&qid=1627469775&sr=8-39', 'https://www.amazon.in/JUAREZ-Acoustic-Guitar-3TS-Sunburst/dp/B08FV1KHTT/ref=sr_1_40?dchild=1&keywords=guitar&qid=1627469775&sr=8-40', 'https://www.amazon.in/JUAREZ-GUITAR-JRZ41VG-BK-BLACK/dp/B08MWB6TG7/ref=sr_1_41?dchild=1&keywords=guitar&qid=1627469775&sr=8-41', 'https://www.amazon.in/DEVICE-URBAN-INFOTECH-Acoustic-Semi-closed/dp/B08Y7LMRBR/ref=sr_1_42?dchild=1&keywords=guitar&qid=1627469775&sr=8-42', 'https://www.amazon.in/Yamaha-Acoustic-Guitar-Tobacco-Sunburst/dp/B08VXR74Q2/ref=sr_1_43?dchild=1&keywords=guitar&qid=1627469775&sr=8-43', 'https://www.amazon.in/Henrix-Handed-Cutway-Acoustic-Polishing/dp/B08R3DKYGM/ref=sr_1_44?dchild=1&keywords=guitar&qid=1627469775&sr=8-44', 'https://www.amazon.in/SG-MUSICAL-Strings-Stainless-Acoustic/dp/B095K71PBW/ref=sr_1_45?dchild=1&keywords=guitar&qid=1627469775&sr=8-45', 'https://www.amazon.in/Intern-INT-38C-NT-G-Guitar-Kit-Natural/dp/B07K9MZZH9/ref=sr_1_46?dchild=1&keywords=guitar&qid=1627469775&sr=8-46', 'https://www.amazon.in/LAPREX-Excellent-Guitar-Adjustable-Toys-Brown/dp/B08WRF1JGZ/ref=sr_1_47?dchild=1&keywords=guitar&qid=1627469775&sr=8-47', 'https://www.amazon.in/JUAREZ-Acoustic-Rosewood-Fretboard-3TS/dp/B08GZXNSBG/ref=sr_1_48?dchild=1&keywords=guitar&qid=1627469775&sr=8-48', 'https://www.amazon.in/DAddario-EZ900-Acoustic-Guitar-Strings/dp/B016BPK3QI/ref=sr_1_49?dchild=1&keywords=guitar&qid=1627469775&sr=8-49', 'https://www.amazon.in/RetroStyle-4-String-Acoustic-Instrument-Learning/dp/B092S4M41Q/ref=sr_1_50?dchild=1&keywords=guitar&qid=1627469775&sr=8-50', 'https://www.amazon.in/Blueberry-Trussrod-Acoustic-Guitar-Sunburst/dp/B08WH5553T/ref=sr_1_51?dchild=1&keywords=guitar&qid=1627469775&sr=8-51', 'https://www.amazon.in/Givson-Special-Guitar-VS-BLK-Acoustic/dp/B07SZ5KR61/ref=sr_1_52?dchild=1&keywords=guitar&qid=1627469775&sr=8-52', 'https://www.amazon.in/HYMET-4-String-Acoustic-Guitar-Learning/dp/B093QDX9MR/ref=sr_1_53?dchild=1&keywords=guitar&qid=1627469775&sr=8-53', 'https://www.amazon.in/JRZ-ST01-6-String-Electric-Sunburst-Without/dp/B01FYZSOEE/ref=sr_1_54?dchild=1&keywords=guitar&qid=1627469775&sr=8-54', 'https://www.amazon.in/ENTERPRISE-Guitar-4-String-Acoustic-Instrument/dp/B097YG1ST1/ref=sr_1_55?dchild=1&keywords=guitar&qid=1627469775&sr=8-55', 'https://www.amazon.in/Cort-AD810-Dreadnought-Acoustic-Guitar/dp/B07KMBVR6V/ref=sr_1_56?dchild=1&keywords=guitar&qid=1627469775&sr=8-56', 'https://www.amazon.in/gp/slredirect/picassoRedirect.html/ref=pa_sp_btf_aps_sr_pg1_1?ie=UTF8&adId=A05431372N1Y6KMFTYW6Y&url=%2FDEVICE-URBAN-INFOTECH-Rotational-Electronic%2Fdp%2FB081LG3X5H%2Fref%3Dsr_1_57_sspa%3Fdchild%3D1%26keywords%3Dguitar%26qid%3D1627469775%26sr%3D8-57-spons%26psc%3D1&qualifier=1627469775&id=8557941832463111&widgetName=sp_btf', 'https://www.amazon.in/gp/slredirect/picassoRedirect.html/ref=pa_sp_btf_aps_sr_pg1_1?ie=UTF8&adId=A07383108ZZXB8MLBJ6G&url=%2FDurable-Control-Material-Electric-Lettering%2Fdp%2FB095832Y4M%2Fref%3Dsr_1_58_sspa%3Fdchild%3D1%26keywords%3Dguitar%26qid%3D1627469775%26sr%3D8-58-spons%26psc%3D1&qualifier=1627469775&id=8557941832463111&widgetName=sp_btf', 'https://www.amazon.in/gp/slredirect/picassoRedirect.html/ref=pa_sp_btf_aps_sr_pg1_1?ie=UTF8&adId=A05703491HTBA8CLBYZGC&url=%2FDEVICE-URBAN-INFOTECH-Acoustic-Semi-closed%2Fdp%2FB08P1JS4DF%2Fref%3Dsr_1_59_sspa%3Fdchild%3D1%26keywords%3Dguitar%26qid%3D1627469775%26sr%3D8-59-spons%26psc%3D1&qualifier=1627469775&id=8557941832463111&widgetName=sp_btf', 'https://www.amazon.in/gp/slredirect/picassoRedirect.html/ref=pa_sp_btf_aps_sr_pg1_1?ie=UTF8&adId=A051423610CBS22LQAVES&url=%2FHRB-MUSICALS-5-Piece-Plectrum-Guitar-String%2Fdp%2FB07Y5QMVK9%2Fref%3Dsr_1_60_sspa%3Fdchild%3D1%26keywords%3Dguitar%26qid%3D1627469775%26sr%3D8-60-spons%26psc%3D1&qualifier=1627469775&id=8557941832463111&widgetName=sp_btf', 'https://www.amazon.in/gp/slredirect/picassoRedirect.html/ref=pa_sp_atf_aps_sr_pg1_1?ie=UTF8&adId=A0991693PKTLP5CX5W2L&url=%2FMedellin-MED-BLU-C-Linden-Acoustic-Guitar%2Fdp%2FB07NBMWHJW%2Fref%3Dsr_1_1_sspa%3Fdchild%3D1%26keywords%3Dguitar%26qid%3D1627469775%26sr%3D8-1-spons%26psc%3D1%26smid%3DAM04Z7MH4HSDD&qualifier=1627469775&id=8557941832463111&widgetName=sp_atf', 'https://www.amazon.in/gp/slredirect/picassoRedirect.html/ref=pa_sp_atf_aps_sr_pg1_1?ie=UTF8&adId=A02345373MFNVAER3DQNT&url=%2FKadence-Acoustica-Ash-Wood-Equlizer%2Fdp%2FB0757H5P13%2Fref%3Dsr_1_2_sspa%3Fdchild%3D1%26keywords%3Dguitar%26qid%3D1627469775%26sr%3D8-2-spons%26psc%3D1%26smid%3DAM04Z7MH4HSDD&qualifier=1627469775&id=8557941832463111&widgetName=sp_atf', 'https://www.amazon.in/gp/slredirect/picassoRedirect.html/ref=pa_sp_atf_aps_sr_pg1_1?ie=UTF8&adId=A0928654VYD9HPIWAKBZ&url=%2FKadence-Frontier-Natural-Acoustic-Foldable%2Fdp%2FB01CJJGJ04%2Fref%3Dsr_1_3_sspa%3Fdchild%3D1%26keywords%3Dguitar%26qid%3D1627469775%26sr%3D8-3-spons%26psc%3D1&qualifier=1627469775&id=8557941832463111&widgetName=sp_atf', 'https://www.amazon.in/gp/slredirect/picassoRedirect.html/ref=pa_sp_atf_aps_sr_pg1_1?ie=UTF8&adId=A08791823J4GRMJMKDFMU&url=%2FGUITAR-BRO-Acoustic-Beginner-Accessories%2Fdp%2FB07TC7TWCR%2Fref%3Dsr_1_4_sspa%3Fdchild%3D1%26keywords%3Dguitar%26qid%3D1627469775%26sr%3D8-4-spons%26psc%3D1&qualifier=1627469775&id=8557941832463111&widgetName=sp_atf', 'https://www.amazon.in/Juarez-Acoustic-Cutaway-038C-Strings/dp/B017NPCSLI/ref=sr_1_5?dchild=1&keywords=guitar&qid=1627469775&sr=8-5', 'https://www.amazon.in/Intern-INT-38C-Acoustic-Guitar-Black/dp/B073B6TQQY/ref=sr_1_6?dchild=1&keywords=guitar&qid=1627469775&sr=8-6', 'https://www.amazon.in/JUAREZ-JRZ38C-Acoustic-Sunburst-Strings/dp/B01FYYTDS6/ref=sr_1_7?dchild=1&keywords=guitar&qid=1627469775&sr=8-7', 'https://aax-eu.amazon.in/x/c/QtO_JPCT9thdQGTIsQKTPTkAAAF67MIA9wMAAAH2Acxcsck/https://www.amazon.in/dp/B0757H5P13?pd_rd_i=B0757H5P13&pd_rd_w=0vuwC&pf_rd_p=a75ba368-11d2-4ce4-98f8-b19ed03dc54e&pd_rd_wg=gpDGb&pf_rd_r=0QSG3FHZMSQJGJYVJE6B&pd_rd_r=5543feea-deb6-4ed2-aebe-37ff85593b9d', 'https://www.amazon.in/Juarez-Acoustic-Cutaway-038C-Strings/dp/B017NPCSLI/ref=sxin_12?asc_contentid=amzn1.osa.c9f832fe-8720-44a6-bbf1-1744c27d503b.A21TJRUUN4KGV.en_IN&asc_contenttype=article&ascsubtag=amzn1.osa.c9f832fe-8720-44a6-bbf1-1744c27d503b.A21TJRUUN4KGV.en_IN&creativeASIN=B017NPCSLI&cv_ct_cx=guitar&cv_ct_id=amzn1.osa.c9f832fe-8720-44a6-bbf1-1744c27d503b.A21TJRUUN4KGV.en_IN&cv_ct_pg=search&cv_ct_we=asin&cv_ct_wn=osp-single-source-earns-comm&dchild=1&keywords=guitar&linkCode=oas&pd_rd_i=B017NPCSLI&pd_rd_r=5543feea-deb6-4ed2-aebe-37ff85593b9d&pd_rd_w=io3OT&pd_rd_wg=gpDGb&pf_rd_p=85e157eb-8312-4fce-bfb5-78223bced751&pf_rd_r=0QSG3FHZMSQJGJYVJE6B&qid=1627469775&sr=1-1-61f4c597-7a45-4a97-bd75-c52903f8ee93&tag=htsyndicate-21', 'https://www.amazon.in/Intern-INT-38C-Acoustic-Guitar-Black/dp/B073B6TQQY/ref=sxin_12?asc_contentid=amzn1.osa.c9f832fe-8720-44a6-bbf1-1744c27d503b.A21TJRUUN4KGV.en_IN&asc_contenttype=article&ascsubtag=amzn1.osa.c9f832fe-8720-44a6-bbf1-1744c27d503b.A21TJRUUN4KGV.en_IN&creativeASIN=B073B6TQQY&cv_ct_cx=guitar&cv_ct_id=amzn1.osa.c9f832fe-8720-44a6-bbf1-1744c27d503b.A21TJRUUN4KGV.en_IN&cv_ct_pg=search&cv_ct_we=asin&cv_ct_wn=osp-single-source-earns-comm&dchild=1&keywords=guitar&linkCode=oas&pd_rd_i=B073B6TQQY&pd_rd_r=5543feea-deb6-4ed2-aebe-37ff85593b9d&pd_rd_w=io3OT&pd_rd_wg=gpDGb&pf_rd_p=85e157eb-8312-4fce-bfb5-78223bced751&pf_rd_r=0QSG3FHZMSQJGJYVJE6B&qid=1627469775&sr=1-2-61f4c597-7a45-4a97-bd75-c52903f8ee93&tag=htsyndicate-21', 'https://www.amazon.in/JUAREZ-JRZ38C-Acoustic-Sunburst-Strings/dp/B01FYYTDTU/ref=sxin_12?asc_contentid=amzn1.osa.c9f832fe-8720-44a6-bbf1-1744c27d503b.A21TJRUUN4KGV.en_IN&asc_contenttype=article&ascsubtag=amzn1.osa.c9f832fe-8720-44a6-bbf1-1744c27d503b.A21TJRUUN4KGV.en_IN&creativeASIN=B01FYYTDTU&cv_ct_cx=guitar&cv_ct_id=amzn1.osa.c9f832fe-8720-44a6-bbf1-1744c27d503b.A21TJRUUN4KGV.en_IN&cv_ct_pg=search&cv_ct_we=asin&cv_ct_wn=osp-single-source-earns-comm&dchild=1&keywords=guitar&linkCode=oas&pd_rd_i=B01FYYTDTU&pd_rd_r=5543feea-deb6-4ed2-aebe-37ff85593b9d&pd_rd_w=io3OT&pd_rd_wg=gpDGb&pf_rd_p=85e157eb-8312-4fce-bfb5-78223bced751&pf_rd_r=0QSG3FHZMSQJGJYVJE6B&qid=1627469775&sr=1-3-61f4c597-7a45-4a97-bd75-c52903f8ee93&tag=htsyndicate-21', 'https://www.amazon.in/JUAREZ-JRZ38C-Acoustic-Natural-Strings/dp/B01FYYTDWC/ref=sr_1_8?dchild=1&keywords=guitar&qid=1627469775&sr=8-8', 'https://www.amazon.in/Intern-INT-38C-Acoustic-Guitar-Sunburst/dp/B073B5MJRM/ref=sr_1_9?dchild=1&keywords=guitar&qid=1627469775&sr=8-9', 'https://www.amazon.in/Rosewood-Fretboard-Acoustic-Strings-K-Retail/dp/B07KLG8C4P/ref=sr_1_10?dchild=1&keywords=guitar&qid=1627469775&smid=A13OVDGGW6HXSA&sr=8-10', 'https://www.amazon.in/JUAREZ-JRZ38C-Acoustic-Sunburst-Strings/dp/B01FYYTDTU/ref=sr_1_11?dchild=1&keywords=guitar&qid=1627469775&sr=8-11', 'https://www.amazon.in/Intern-INT-38C-Acoustic-Guitar-Blue/dp/B073B5RZBV/ref=sr_1_12?dchild=1&keywords=guitar&qid=1627469775&sr=8-12', 'https://www.amazon.in/Intern-INT-38C-Acoustic-Guitar-Kit/dp/B073B6TF31/ref=sr_1_13?dchild=1&keywords=guitar&qid=1627469775&sr=8-13', 'https://www.amazon.in/Kordz-Luana-Natural-Rosewood-Fretboard/dp/B07V4Y1V9M/ref=sr_1_14?dchild=1&keywords=guitar&qid=1627469775&smid=A13OVDGGW6HXSA&sr=8-14', 'https://www.amazon.in/JUAREZ-JRZ38C-Handed-Acoustic-Strings/dp/B01FYYTDX6/ref=sr_1_15?dchild=1&keywords=guitar&qid=1627469775&sr=8-15', 'https://www.amazon.in/Juarez-Strings-Acoustic-Cutaway-Zebrawood/dp/B072Q9L8DG/ref=sr_1_16?dchild=1&keywords=guitar&qid=1627469775&sr=8-16', 'https://www.amazon.in/Juarez-Acoustic-Cutaway-BK-Strings/dp/B076T3RHMG/ref=sr_1_17?dchild=1&keywords=guitar&qid=1627469775&sr=8-17', 'https://www.amazon.in/Medellin-MED-BLK-C-Linden-Acoustic-Guitar/dp/B07NBMNZS2/ref=sr_1_18?dchild=1&keywords=guitar&qid=1627469775&sr=8-18', 'https://www.amazon.in/Intern-INT-38C-BK-G-Guitar-Kit-Black/dp/B07K9497RC/ref=sr_1_19?dchild=1&keywords=guitar&qid=1627469775&sr=8-19', 'https://www.amazon.in/4-String-Acoustic-Musical-Instrument-Learning/dp/B08QGLQVRN/ref=sr_1_20?dchild=1&keywords=guitar&qid=1627469775&sr=8-20', 'https://www.amazon.in/gp/slredirect/picassoRedirect.html/ref=pa_sp_mtf_aps_sr_pg1_1?ie=UTF8&adId=A04201121DK34WO2CQ71G&url=%2FGUITAR-BRO-Learning-1-Accessories%2Fdp%2FB08BNBYVYL%2Fref%3Dsr_1_21_sspa%3Fdchild%3D1%26keywords%3Dguitar%26qid%3D1627469775%26sr%3D8-21-spons%26psc%3D1&qualifier=1627469775&id=8557941832463111&widgetName=sp_mtf', 'https://www.amazon.in/gp/slredirect/picassoRedirect.html/ref=pa_sp_mtf_aps_sr_pg1_1?ie=UTF8&adId=A056838626T3JJCBUXMY3&url=%2FVD-ENTERPRISE-Adjustable-Classical-Instrument%2Fdp%2FB08S323L6W%2Fref%3Dsr_1_22_sspa%3Fdchild%3D1%26keywords%3Dguitar%26qid%3D1627469775%26sr%3D8-22-spons%26psc%3D1&qualifier=1627469775&id=8557941832463111&widgetName=sp_mtf', 'https://www.amazon.in/gp/slredirect/picassoRedirect.html/ref=pa_sp_mtf_aps_sr_pg1_1?ie=UTF8&adId=A03970931IVRXGHATZ0GC&url=%2FENTERPRISE-Guitar-4-String-Acoustic-Instrument%2Fdp%2FB097YG1ST1%2Fref%3Dsr_1_23_sspa%3Fdchild%3D1%26keywords%3Dguitar%26qid%3D1627469775%26sr%3D8-23-spons%26psc%3D1&qualifier=1627469775&id=8557941832463111&widgetName=sp_mtf', 'https://www.amazon.in/gp/slredirect/picassoRedirect.html/ref=pa_sp_mtf_aps_sr_pg1_1?ie=UTF8&adId=A05120842ID8QK8W1IIXR&url=%2FMUSICALS%25C2%25AE-Guitar-Including-Strings-remover%2Fdp%2FB082Q6C28F%2Fref%3Dsr_1_24_sspa%3Fdchild%3D1%26keywords%3Dguitar%26qid%3D1627469775%26sr%3D8-24-spons%26psc%3D1&qualifier=1627469775&id=8557941832463111&widgetName=sp_mtf', 'https://www.amazon.in/Intern-INT-38C-Natural-Acoustic-Guitar/dp/B07X4LPJ6H/ref=sr_1_25?dchild=1&keywords=guitar&qid=1627469775&sr=8-25', 'https://www.amazon.in/Intern-INT-38C-SB-G-Guitar-Kit-Sunburst/dp/B07K8WLPLH/ref=sr_1_26?dchild=1&keywords=guitar&qid=1627469775&sr=8-26', 'https://www.amazon.in/Acoustic-Cutaway-TBLS-Strings-Sunburst/dp/B098BCCY75/ref=sr_1_27?dchild=1&keywords=guitar&qid=1627469775&sr=8-27', 'https://www.amazon.in/Luximal-Instrument-Acoustic-Learning-Educational/dp/B08SMKVC7Q/ref=sr_1_28?dchild=1&keywords=guitar&qid=1627469775&sr=8-28', 'https://www.amazon.in/Intern-INT-38C-Acoustic-Guitar-Natural/dp/B073B4D22T/ref=sr_1_29?dchild=1&keywords=guitar&qid=1627469775&sr=8-29', 'https://www.amazon.in/JUAREZ-Acoustic-Guitar-Action-Natural/dp/B08FV4GPWY/ref=sr_1_30?dchild=1&keywords=guitar&qid=1627469775&sr=8-30', 'https://www.amazon.in/Acoustic-Cutaway-3TS-Strings-Sunburst/dp/B098BD1MHM/ref=sr_1_31?dchild=1&keywords=guitar&qid=1627469775&sr=8-31', 'https://www.amazon.in/Martin-Smith-W-101-N-PK-Acoustic-Natural/dp/B00UOUK4IE/ref=sr_1_32?dchild=1&keywords=guitar&qid=1627469775&sr=8-32', 'https://www.amazon.in/Guitar-Accessories-Including-acoustic-electric/dp/B08XBZB5RN/ref=sr_1_33?dchild=1&keywords=guitar&qid=1627469775&sr=8-33', 'https://www.amazon.in/Guitar-Ukulele-Chromatic-Rotating-Accurate/dp/B08XBN94LC/ref=sr_1_34?dchild=1&keywords=guitar&qid=1627469775&sr=8-34', 'https://www.amazon.in/Henrix-Cutaway-Acoustic-Die-Cast-Tuners/dp/B07KMXDXBV/ref=sr_1_35?dchild=1&keywords=guitar&qid=1627469775&sr=8-35', 'https://www.amazon.in/JUAREZ-Fi%C3%A9sta-Acoustic-Rosewood-Fretboard/dp/B08GZZVCB7/ref=sr_1_36?dchild=1&keywords=guitar&qid=1627469775&sr=8-36', 'https://www.amazon.in/Yamaha-FS-100C-6-String-Acoustic-without/dp/B00PAS9CK6/ref=sr_1_37?dchild=1&keywords=guitar&qid=1627469775&sr=8-37', 'https://www.amazon.in/JUAREZ-Acoustic-Cutaway-Rosewood-Fretboard/dp/B08GZZ6SQ2/ref=sr_1_38?dchild=1&keywords=guitar&qid=1627469775&sr=8-38', 'https://www.amazon.in/JUAREZ-Arpeggio-Acoustic-Rosewood-Fretboard/dp/B08LBHB547/ref=sr_1_39?dchild=1&keywords=guitar&qid=1627469775&sr=8-39', 'https://www.amazon.in/JUAREZ-Acoustic-Guitar-3TS-Sunburst/dp/B08FV1KHTT/ref=sr_1_40?dchild=1&keywords=guitar&qid=1627469775&sr=8-40', 'https://www.amazon.in/JUAREZ-GUITAR-JRZ41VG-BK-BLACK/dp/B08MWB6TG7/ref=sr_1_41?dchild=1&keywords=guitar&qid=1627469775&sr=8-41', 'https://www.amazon.in/DEVICE-URBAN-INFOTECH-Acoustic-Semi-closed/dp/B08Y7LMRBR/ref=sr_1_42?dchild=1&keywords=guitar&qid=1627469775&sr=8-42', 'https://www.amazon.in/Yamaha-Acoustic-Guitar-Tobacco-Sunburst/dp/B08VXR74Q2/ref=sr_1_43?dchild=1&keywords=guitar&qid=1627469775&sr=8-43', 'https://www.amazon.in/Henrix-Handed-Cutway-Acoustic-Polishing/dp/B08R3DKYGM/ref=sr_1_44?dchild=1&keywords=guitar&qid=1627469775&sr=8-44', 'https://www.amazon.in/SG-MUSICAL-Strings-Stainless-Acoustic/dp/B095K71PBW/ref=sr_1_45?dchild=1&keywords=guitar&qid=1627469775&sr=8-45', 'https://www.amazon.in/Intern-INT-38C-NT-G-Guitar-Kit-Natural/dp/B07K9MZZH9/ref=sr_1_46?dchild=1&keywords=guitar&qid=1627469775&sr=8-46', 'https://www.amazon.in/LAPREX-Excellent-Guitar-Adjustable-Toys-Brown/dp/B08WRF1JGZ/ref=sr_1_47?dchild=1&keywords=guitar&qid=1627469775&sr=8-47', 'https://www.amazon.in/JUAREZ-Acoustic-Rosewood-Fretboard-3TS/dp/B08GZXNSBG/ref=sr_1_48?dchild=1&keywords=guitar&qid=1627469775&sr=8-48', 'https://www.amazon.in/DAddario-EZ900-Acoustic-Guitar-Strings/dp/B016BPK3QI/ref=sr_1_49?dchild=1&keywords=guitar&qid=1627469775&sr=8-49', 'https://www.amazon.in/RetroStyle-4-String-Acoustic-Instrument-Learning/dp/B092S4M41Q/ref=sr_1_50?dchild=1&keywords=guitar&qid=1627469775&sr=8-50', 'https://www.amazon.in/Blueberry-Trussrod-Acoustic-Guitar-Sunburst/dp/B08WH5553T/ref=sr_1_51?dchild=1&keywords=guitar&qid=1627469775&sr=8-51', 'https://www.amazon.in/Givson-Special-Guitar-VS-BLK-Acoustic/dp/B07SZ5KR61/ref=sr_1_52?dchild=1&keywords=guitar&qid=1627469775&sr=8-52', 'https://www.amazon.in/HYMET-4-String-Acoustic-Guitar-Learning/dp/B093QDX9MR/ref=sr_1_53?dchild=1&keywords=guitar&qid=1627469775&sr=8-53', 'https://www.amazon.in/JRZ-ST01-6-String-Electric-Sunburst-Without/dp/B01FYZSOEE/ref=sr_1_54?dchild=1&keywords=guitar&qid=1627469775&sr=8-54', 'https://www.amazon.in/ENTERPRISE-Guitar-4-String-Acoustic-Instrument/dp/B097YG1ST1/ref=sr_1_55?dchild=1&keywords=guitar&qid=1627469775&sr=8-55', 'https://www.amazon.in/Cort-AD810-Dreadnought-Acoustic-Guitar/dp/B07KMBVR6V/ref=sr_1_56?dchild=1&keywords=guitar&qid=1627469775&sr=8-56', 'https://www.amazon.in/gp/slredirect/picassoRedirect.html/ref=pa_sp_btf_aps_sr_pg1_1?ie=UTF8&adId=A05431372N1Y6KMFTYW6Y&url=%2FDEVICE-URBAN-INFOTECH-Rotational-Electronic%2Fdp%2FB081LG3X5H%2Fref%3Dsr_1_57_sspa%3Fdchild%3D1%26keywords%3Dguitar%26qid%3D1627469775%26sr%3D8-57-spons%26psc%3D1&qualifier=1627469775&id=8557941832463111&widgetName=sp_btf', 'https://www.amazon.in/gp/slredirect/picassoRedirect.html/ref=pa_sp_btf_aps_sr_pg1_1?ie=UTF8&adId=A07383108ZZXB8MLBJ6G&url=%2FDurable-Control-Material-Electric-Lettering%2Fdp%2FB095832Y4M%2Fref%3Dsr_1_58_sspa%3Fdchild%3D1%26keywords%3Dguitar%26qid%3D1627469775%26sr%3D8-58-spons%26psc%3D1&qualifier=1627469775&id=8557941832463111&widgetName=sp_btf', 'https://www.amazon.in/gp/slredirect/picassoRedirect.html/ref=pa_sp_btf_aps_sr_pg1_1?ie=UTF8&adId=A05703491HTBA8CLBYZGC&url=%2FDEVICE-URBAN-INFOTECH-Acoustic-Semi-closed%2Fdp%2FB08P1JS4DF%2Fref%3Dsr_1_59_sspa%3Fdchild%3D1%26keywords%3Dguitar%26qid%3D1627469775%26sr%3D8-59-spons%26psc%3D1&qualifier=1627469775&id=8557941832463111&widgetName=sp_btf', 'https://www.amazon.in/gp/slredirect/picassoRedirect.html/ref=pa_sp_btf_aps_sr_pg1_1?ie=UTF8&adId=A051423610CBS22LQAVES&url=%2FHRB-MUSICALS-5-Piece-Plectrum-Guitar-String%2Fdp%2FB07Y5QMVK9%2Fref%3Dsr_1_60_sspa%3Fdchild%3D1%26keywords%3Dguitar%26qid%3D1627469775%26sr%3D8-60-spons%26psc%3D1&qualifier=1627469775&id=8557941832463111&widgetName=sp_btf']\n",
      "128\n",
      "[<selenium.webdriver.remote.webelement.WebElement (session=\"88fa2ed37302c4e57bfcee7d3e66831b\", element=\"461d6265-1e20-4c15-a8b4-0469763ded6c\")>]\n"
     ]
    }
   ],
   "source": [
    "# Scraping urls for each url of product\n",
    "time.sleep(5)\n",
    "urls=[]\n",
    "for i in range(1,3):\n",
    "    url_tags=driver.find_elements_by_xpath(\"//a[@class='a-link-normal a-text-normal']\")\n",
    "    for j in url_tags:\n",
    "        urls.append(j.get_attribute(\"href\"))\n",
    "    nxt_button=driver.find_elements_by_xpath(\"//li[@class='a-last']\")     #scraping the list of buttons from the page\n",
    "    try:\n",
    "        driver.get(nxt_button.get_attribute('href'))       #getting the link from the list for next page\n",
    "    except:\n",
    "        (\"-\")\n",
    "print(urls)\n",
    "print(len(urls))\n",
    "print(nxt_button)"
   ]
  },
  {
   "cell_type": "code",
   "execution_count": 66,
   "metadata": {},
   "outputs": [],
   "source": [
    "brand=[]\n",
    "product_name=[]\n",
    "ratings=[]\n",
    "numb_ratings=[]\n",
    "price=[]\n",
    "prod_url=[]\n",
    "Return=[]\n",
    "exp_delivery=[]\n",
    "availability=[]\n",
    "other=[]"
   ]
  },
  {
   "cell_type": "code",
   "execution_count": 67,
   "metadata": {
    "scrolled": true
   },
   "outputs": [
    {
     "data": {
      "text/plain": [
       "['https://www.amazon.in/gp/slredirect/picassoRedirect.html/ref=pa_sp_atf_aps_sr_pg1_1?ie=UTF8&adId=A0991693PKTLP5CX5W2L&url=%2FMedellin-MED-BLU-C-Linden-Acoustic-Guitar%2Fdp%2FB07NBMWHJW%2Fref%3Dsr_1_1_sspa%3Fdchild%3D1%26keywords%3Dguitar%26qid%3D1627469775%26sr%3D8-1-spons%26psc%3D1%26smid%3DAM04Z7MH4HSDD&qualifier=1627469775&id=8557941832463111&widgetName=sp_atf',\n",
       " 'https://www.amazon.in/gp/slredirect/picassoRedirect.html/ref=pa_sp_atf_aps_sr_pg1_1?ie=UTF8&adId=A02345373MFNVAER3DQNT&url=%2FKadence-Acoustica-Ash-Wood-Equlizer%2Fdp%2FB0757H5P13%2Fref%3Dsr_1_2_sspa%3Fdchild%3D1%26keywords%3Dguitar%26qid%3D1627469775%26sr%3D8-2-spons%26psc%3D1%26smid%3DAM04Z7MH4HSDD&qualifier=1627469775&id=8557941832463111&widgetName=sp_atf',\n",
       " 'https://www.amazon.in/gp/slredirect/picassoRedirect.html/ref=pa_sp_atf_aps_sr_pg1_1?ie=UTF8&adId=A0928654VYD9HPIWAKBZ&url=%2FKadence-Frontier-Natural-Acoustic-Foldable%2Fdp%2FB01CJJGJ04%2Fref%3Dsr_1_3_sspa%3Fdchild%3D1%26keywords%3Dguitar%26qid%3D1627469775%26sr%3D8-3-spons%26psc%3D1&qualifier=1627469775&id=8557941832463111&widgetName=sp_atf',\n",
       " 'https://www.amazon.in/gp/slredirect/picassoRedirect.html/ref=pa_sp_atf_aps_sr_pg1_1?ie=UTF8&adId=A08791823J4GRMJMKDFMU&url=%2FGUITAR-BRO-Acoustic-Beginner-Accessories%2Fdp%2FB07TC7TWCR%2Fref%3Dsr_1_4_sspa%3Fdchild%3D1%26keywords%3Dguitar%26qid%3D1627469775%26sr%3D8-4-spons%26psc%3D1&qualifier=1627469775&id=8557941832463111&widgetName=sp_atf',\n",
       " 'https://www.amazon.in/Juarez-Acoustic-Cutaway-038C-Strings/dp/B017NPCSLI/ref=sr_1_5?dchild=1&keywords=guitar&qid=1627469775&sr=8-5',\n",
       " 'https://www.amazon.in/Intern-INT-38C-Acoustic-Guitar-Black/dp/B073B6TQQY/ref=sr_1_6?dchild=1&keywords=guitar&qid=1627469775&sr=8-6',\n",
       " 'https://www.amazon.in/JUAREZ-JRZ38C-Acoustic-Sunburst-Strings/dp/B01FYYTDS6/ref=sr_1_7?dchild=1&keywords=guitar&qid=1627469775&sr=8-7',\n",
       " 'https://aax-eu.amazon.in/x/c/QtO_JPCT9thdQGTIsQKTPTkAAAF67MIA9wMAAAH2Acxcsck/https://www.amazon.in/dp/B0757H5P13?pd_rd_i=B0757H5P13&pd_rd_w=0vuwC&pf_rd_p=a75ba368-11d2-4ce4-98f8-b19ed03dc54e&pd_rd_wg=gpDGb&pf_rd_r=0QSG3FHZMSQJGJYVJE6B&pd_rd_r=5543feea-deb6-4ed2-aebe-37ff85593b9d',\n",
       " 'https://www.amazon.in/Juarez-Acoustic-Cutaway-038C-Strings/dp/B017NPCSLI/ref=sxin_12?asc_contentid=amzn1.osa.c9f832fe-8720-44a6-bbf1-1744c27d503b.A21TJRUUN4KGV.en_IN&asc_contenttype=article&ascsubtag=amzn1.osa.c9f832fe-8720-44a6-bbf1-1744c27d503b.A21TJRUUN4KGV.en_IN&creativeASIN=B017NPCSLI&cv_ct_cx=guitar&cv_ct_id=amzn1.osa.c9f832fe-8720-44a6-bbf1-1744c27d503b.A21TJRUUN4KGV.en_IN&cv_ct_pg=search&cv_ct_we=asin&cv_ct_wn=osp-single-source-earns-comm&dchild=1&keywords=guitar&linkCode=oas&pd_rd_i=B017NPCSLI&pd_rd_r=5543feea-deb6-4ed2-aebe-37ff85593b9d&pd_rd_w=io3OT&pd_rd_wg=gpDGb&pf_rd_p=85e157eb-8312-4fce-bfb5-78223bced751&pf_rd_r=0QSG3FHZMSQJGJYVJE6B&qid=1627469775&sr=1-1-61f4c597-7a45-4a97-bd75-c52903f8ee93&tag=htsyndicate-21',\n",
       " 'https://www.amazon.in/Intern-INT-38C-Acoustic-Guitar-Black/dp/B073B6TQQY/ref=sxin_12?asc_contentid=amzn1.osa.c9f832fe-8720-44a6-bbf1-1744c27d503b.A21TJRUUN4KGV.en_IN&asc_contenttype=article&ascsubtag=amzn1.osa.c9f832fe-8720-44a6-bbf1-1744c27d503b.A21TJRUUN4KGV.en_IN&creativeASIN=B073B6TQQY&cv_ct_cx=guitar&cv_ct_id=amzn1.osa.c9f832fe-8720-44a6-bbf1-1744c27d503b.A21TJRUUN4KGV.en_IN&cv_ct_pg=search&cv_ct_we=asin&cv_ct_wn=osp-single-source-earns-comm&dchild=1&keywords=guitar&linkCode=oas&pd_rd_i=B073B6TQQY&pd_rd_r=5543feea-deb6-4ed2-aebe-37ff85593b9d&pd_rd_w=io3OT&pd_rd_wg=gpDGb&pf_rd_p=85e157eb-8312-4fce-bfb5-78223bced751&pf_rd_r=0QSG3FHZMSQJGJYVJE6B&qid=1627469775&sr=1-2-61f4c597-7a45-4a97-bd75-c52903f8ee93&tag=htsyndicate-21',\n",
       " 'https://www.amazon.in/JUAREZ-JRZ38C-Acoustic-Sunburst-Strings/dp/B01FYYTDTU/ref=sxin_12?asc_contentid=amzn1.osa.c9f832fe-8720-44a6-bbf1-1744c27d503b.A21TJRUUN4KGV.en_IN&asc_contenttype=article&ascsubtag=amzn1.osa.c9f832fe-8720-44a6-bbf1-1744c27d503b.A21TJRUUN4KGV.en_IN&creativeASIN=B01FYYTDTU&cv_ct_cx=guitar&cv_ct_id=amzn1.osa.c9f832fe-8720-44a6-bbf1-1744c27d503b.A21TJRUUN4KGV.en_IN&cv_ct_pg=search&cv_ct_we=asin&cv_ct_wn=osp-single-source-earns-comm&dchild=1&keywords=guitar&linkCode=oas&pd_rd_i=B01FYYTDTU&pd_rd_r=5543feea-deb6-4ed2-aebe-37ff85593b9d&pd_rd_w=io3OT&pd_rd_wg=gpDGb&pf_rd_p=85e157eb-8312-4fce-bfb5-78223bced751&pf_rd_r=0QSG3FHZMSQJGJYVJE6B&qid=1627469775&sr=1-3-61f4c597-7a45-4a97-bd75-c52903f8ee93&tag=htsyndicate-21',\n",
       " 'https://www.amazon.in/JUAREZ-JRZ38C-Acoustic-Natural-Strings/dp/B01FYYTDWC/ref=sr_1_8?dchild=1&keywords=guitar&qid=1627469775&sr=8-8',\n",
       " 'https://www.amazon.in/Intern-INT-38C-Acoustic-Guitar-Sunburst/dp/B073B5MJRM/ref=sr_1_9?dchild=1&keywords=guitar&qid=1627469775&sr=8-9',\n",
       " 'https://www.amazon.in/Rosewood-Fretboard-Acoustic-Strings-K-Retail/dp/B07KLG8C4P/ref=sr_1_10?dchild=1&keywords=guitar&qid=1627469775&smid=A13OVDGGW6HXSA&sr=8-10',\n",
       " 'https://www.amazon.in/JUAREZ-JRZ38C-Acoustic-Sunburst-Strings/dp/B01FYYTDTU/ref=sr_1_11?dchild=1&keywords=guitar&qid=1627469775&sr=8-11',\n",
       " 'https://www.amazon.in/Intern-INT-38C-Acoustic-Guitar-Blue/dp/B073B5RZBV/ref=sr_1_12?dchild=1&keywords=guitar&qid=1627469775&sr=8-12',\n",
       " 'https://www.amazon.in/Intern-INT-38C-Acoustic-Guitar-Kit/dp/B073B6TF31/ref=sr_1_13?dchild=1&keywords=guitar&qid=1627469775&sr=8-13',\n",
       " 'https://www.amazon.in/Kordz-Luana-Natural-Rosewood-Fretboard/dp/B07V4Y1V9M/ref=sr_1_14?dchild=1&keywords=guitar&qid=1627469775&smid=A13OVDGGW6HXSA&sr=8-14',\n",
       " 'https://www.amazon.in/JUAREZ-JRZ38C-Handed-Acoustic-Strings/dp/B01FYYTDX6/ref=sr_1_15?dchild=1&keywords=guitar&qid=1627469775&sr=8-15',\n",
       " 'https://www.amazon.in/Juarez-Strings-Acoustic-Cutaway-Zebrawood/dp/B072Q9L8DG/ref=sr_1_16?dchild=1&keywords=guitar&qid=1627469775&sr=8-16',\n",
       " 'https://www.amazon.in/Juarez-Acoustic-Cutaway-BK-Strings/dp/B076T3RHMG/ref=sr_1_17?dchild=1&keywords=guitar&qid=1627469775&sr=8-17',\n",
       " 'https://www.amazon.in/Medellin-MED-BLK-C-Linden-Acoustic-Guitar/dp/B07NBMNZS2/ref=sr_1_18?dchild=1&keywords=guitar&qid=1627469775&sr=8-18',\n",
       " 'https://www.amazon.in/Intern-INT-38C-BK-G-Guitar-Kit-Black/dp/B07K9497RC/ref=sr_1_19?dchild=1&keywords=guitar&qid=1627469775&sr=8-19',\n",
       " 'https://www.amazon.in/4-String-Acoustic-Musical-Instrument-Learning/dp/B08QGLQVRN/ref=sr_1_20?dchild=1&keywords=guitar&qid=1627469775&sr=8-20',\n",
       " 'https://www.amazon.in/gp/slredirect/picassoRedirect.html/ref=pa_sp_mtf_aps_sr_pg1_1?ie=UTF8&adId=A04201121DK34WO2CQ71G&url=%2FGUITAR-BRO-Learning-1-Accessories%2Fdp%2FB08BNBYVYL%2Fref%3Dsr_1_21_sspa%3Fdchild%3D1%26keywords%3Dguitar%26qid%3D1627469775%26sr%3D8-21-spons%26psc%3D1&qualifier=1627469775&id=8557941832463111&widgetName=sp_mtf',\n",
       " 'https://www.amazon.in/gp/slredirect/picassoRedirect.html/ref=pa_sp_mtf_aps_sr_pg1_1?ie=UTF8&adId=A056838626T3JJCBUXMY3&url=%2FVD-ENTERPRISE-Adjustable-Classical-Instrument%2Fdp%2FB08S323L6W%2Fref%3Dsr_1_22_sspa%3Fdchild%3D1%26keywords%3Dguitar%26qid%3D1627469775%26sr%3D8-22-spons%26psc%3D1&qualifier=1627469775&id=8557941832463111&widgetName=sp_mtf',\n",
       " 'https://www.amazon.in/gp/slredirect/picassoRedirect.html/ref=pa_sp_mtf_aps_sr_pg1_1?ie=UTF8&adId=A03970931IVRXGHATZ0GC&url=%2FENTERPRISE-Guitar-4-String-Acoustic-Instrument%2Fdp%2FB097YG1ST1%2Fref%3Dsr_1_23_sspa%3Fdchild%3D1%26keywords%3Dguitar%26qid%3D1627469775%26sr%3D8-23-spons%26psc%3D1&qualifier=1627469775&id=8557941832463111&widgetName=sp_mtf',\n",
       " 'https://www.amazon.in/gp/slredirect/picassoRedirect.html/ref=pa_sp_mtf_aps_sr_pg1_1?ie=UTF8&adId=A05120842ID8QK8W1IIXR&url=%2FMUSICALS%25C2%25AE-Guitar-Including-Strings-remover%2Fdp%2FB082Q6C28F%2Fref%3Dsr_1_24_sspa%3Fdchild%3D1%26keywords%3Dguitar%26qid%3D1627469775%26sr%3D8-24-spons%26psc%3D1&qualifier=1627469775&id=8557941832463111&widgetName=sp_mtf',\n",
       " 'https://www.amazon.in/Intern-INT-38C-Natural-Acoustic-Guitar/dp/B07X4LPJ6H/ref=sr_1_25?dchild=1&keywords=guitar&qid=1627469775&sr=8-25',\n",
       " 'https://www.amazon.in/Intern-INT-38C-SB-G-Guitar-Kit-Sunburst/dp/B07K8WLPLH/ref=sr_1_26?dchild=1&keywords=guitar&qid=1627469775&sr=8-26',\n",
       " 'https://www.amazon.in/Acoustic-Cutaway-TBLS-Strings-Sunburst/dp/B098BCCY75/ref=sr_1_27?dchild=1&keywords=guitar&qid=1627469775&sr=8-27',\n",
       " 'https://www.amazon.in/Luximal-Instrument-Acoustic-Learning-Educational/dp/B08SMKVC7Q/ref=sr_1_28?dchild=1&keywords=guitar&qid=1627469775&sr=8-28',\n",
       " 'https://www.amazon.in/Intern-INT-38C-Acoustic-Guitar-Natural/dp/B073B4D22T/ref=sr_1_29?dchild=1&keywords=guitar&qid=1627469775&sr=8-29',\n",
       " 'https://www.amazon.in/JUAREZ-Acoustic-Guitar-Action-Natural/dp/B08FV4GPWY/ref=sr_1_30?dchild=1&keywords=guitar&qid=1627469775&sr=8-30',\n",
       " 'https://www.amazon.in/Acoustic-Cutaway-3TS-Strings-Sunburst/dp/B098BD1MHM/ref=sr_1_31?dchild=1&keywords=guitar&qid=1627469775&sr=8-31',\n",
       " 'https://www.amazon.in/Martin-Smith-W-101-N-PK-Acoustic-Natural/dp/B00UOUK4IE/ref=sr_1_32?dchild=1&keywords=guitar&qid=1627469775&sr=8-32',\n",
       " 'https://www.amazon.in/Guitar-Accessories-Including-acoustic-electric/dp/B08XBZB5RN/ref=sr_1_33?dchild=1&keywords=guitar&qid=1627469775&sr=8-33',\n",
       " 'https://www.amazon.in/Guitar-Ukulele-Chromatic-Rotating-Accurate/dp/B08XBN94LC/ref=sr_1_34?dchild=1&keywords=guitar&qid=1627469775&sr=8-34',\n",
       " 'https://www.amazon.in/Henrix-Cutaway-Acoustic-Die-Cast-Tuners/dp/B07KMXDXBV/ref=sr_1_35?dchild=1&keywords=guitar&qid=1627469775&sr=8-35',\n",
       " 'https://www.amazon.in/JUAREZ-Fi%C3%A9sta-Acoustic-Rosewood-Fretboard/dp/B08GZZVCB7/ref=sr_1_36?dchild=1&keywords=guitar&qid=1627469775&sr=8-36',\n",
       " 'https://www.amazon.in/Yamaha-FS-100C-6-String-Acoustic-without/dp/B00PAS9CK6/ref=sr_1_37?dchild=1&keywords=guitar&qid=1627469775&sr=8-37',\n",
       " 'https://www.amazon.in/JUAREZ-Acoustic-Cutaway-Rosewood-Fretboard/dp/B08GZZ6SQ2/ref=sr_1_38?dchild=1&keywords=guitar&qid=1627469775&sr=8-38',\n",
       " 'https://www.amazon.in/JUAREZ-Arpeggio-Acoustic-Rosewood-Fretboard/dp/B08LBHB547/ref=sr_1_39?dchild=1&keywords=guitar&qid=1627469775&sr=8-39',\n",
       " 'https://www.amazon.in/JUAREZ-Acoustic-Guitar-3TS-Sunburst/dp/B08FV1KHTT/ref=sr_1_40?dchild=1&keywords=guitar&qid=1627469775&sr=8-40',\n",
       " 'https://www.amazon.in/JUAREZ-GUITAR-JRZ41VG-BK-BLACK/dp/B08MWB6TG7/ref=sr_1_41?dchild=1&keywords=guitar&qid=1627469775&sr=8-41',\n",
       " 'https://www.amazon.in/DEVICE-URBAN-INFOTECH-Acoustic-Semi-closed/dp/B08Y7LMRBR/ref=sr_1_42?dchild=1&keywords=guitar&qid=1627469775&sr=8-42',\n",
       " 'https://www.amazon.in/Yamaha-Acoustic-Guitar-Tobacco-Sunburst/dp/B08VXR74Q2/ref=sr_1_43?dchild=1&keywords=guitar&qid=1627469775&sr=8-43',\n",
       " 'https://www.amazon.in/Henrix-Handed-Cutway-Acoustic-Polishing/dp/B08R3DKYGM/ref=sr_1_44?dchild=1&keywords=guitar&qid=1627469775&sr=8-44',\n",
       " 'https://www.amazon.in/SG-MUSICAL-Strings-Stainless-Acoustic/dp/B095K71PBW/ref=sr_1_45?dchild=1&keywords=guitar&qid=1627469775&sr=8-45',\n",
       " 'https://www.amazon.in/Intern-INT-38C-NT-G-Guitar-Kit-Natural/dp/B07K9MZZH9/ref=sr_1_46?dchild=1&keywords=guitar&qid=1627469775&sr=8-46',\n",
       " 'https://www.amazon.in/LAPREX-Excellent-Guitar-Adjustable-Toys-Brown/dp/B08WRF1JGZ/ref=sr_1_47?dchild=1&keywords=guitar&qid=1627469775&sr=8-47',\n",
       " 'https://www.amazon.in/JUAREZ-Acoustic-Rosewood-Fretboard-3TS/dp/B08GZXNSBG/ref=sr_1_48?dchild=1&keywords=guitar&qid=1627469775&sr=8-48',\n",
       " 'https://www.amazon.in/DAddario-EZ900-Acoustic-Guitar-Strings/dp/B016BPK3QI/ref=sr_1_49?dchild=1&keywords=guitar&qid=1627469775&sr=8-49',\n",
       " 'https://www.amazon.in/RetroStyle-4-String-Acoustic-Instrument-Learning/dp/B092S4M41Q/ref=sr_1_50?dchild=1&keywords=guitar&qid=1627469775&sr=8-50',\n",
       " 'https://www.amazon.in/Blueberry-Trussrod-Acoustic-Guitar-Sunburst/dp/B08WH5553T/ref=sr_1_51?dchild=1&keywords=guitar&qid=1627469775&sr=8-51',\n",
       " 'https://www.amazon.in/Givson-Special-Guitar-VS-BLK-Acoustic/dp/B07SZ5KR61/ref=sr_1_52?dchild=1&keywords=guitar&qid=1627469775&sr=8-52',\n",
       " 'https://www.amazon.in/HYMET-4-String-Acoustic-Guitar-Learning/dp/B093QDX9MR/ref=sr_1_53?dchild=1&keywords=guitar&qid=1627469775&sr=8-53',\n",
       " 'https://www.amazon.in/JRZ-ST01-6-String-Electric-Sunburst-Without/dp/B01FYZSOEE/ref=sr_1_54?dchild=1&keywords=guitar&qid=1627469775&sr=8-54',\n",
       " 'https://www.amazon.in/ENTERPRISE-Guitar-4-String-Acoustic-Instrument/dp/B097YG1ST1/ref=sr_1_55?dchild=1&keywords=guitar&qid=1627469775&sr=8-55',\n",
       " 'https://www.amazon.in/Cort-AD810-Dreadnought-Acoustic-Guitar/dp/B07KMBVR6V/ref=sr_1_56?dchild=1&keywords=guitar&qid=1627469775&sr=8-56',\n",
       " 'https://www.amazon.in/gp/slredirect/picassoRedirect.html/ref=pa_sp_btf_aps_sr_pg1_1?ie=UTF8&adId=A05431372N1Y6KMFTYW6Y&url=%2FDEVICE-URBAN-INFOTECH-Rotational-Electronic%2Fdp%2FB081LG3X5H%2Fref%3Dsr_1_57_sspa%3Fdchild%3D1%26keywords%3Dguitar%26qid%3D1627469775%26sr%3D8-57-spons%26psc%3D1&qualifier=1627469775&id=8557941832463111&widgetName=sp_btf',\n",
       " 'https://www.amazon.in/gp/slredirect/picassoRedirect.html/ref=pa_sp_btf_aps_sr_pg1_1?ie=UTF8&adId=A07383108ZZXB8MLBJ6G&url=%2FDurable-Control-Material-Electric-Lettering%2Fdp%2FB095832Y4M%2Fref%3Dsr_1_58_sspa%3Fdchild%3D1%26keywords%3Dguitar%26qid%3D1627469775%26sr%3D8-58-spons%26psc%3D1&qualifier=1627469775&id=8557941832463111&widgetName=sp_btf',\n",
       " 'https://www.amazon.in/gp/slredirect/picassoRedirect.html/ref=pa_sp_btf_aps_sr_pg1_1?ie=UTF8&adId=A05703491HTBA8CLBYZGC&url=%2FDEVICE-URBAN-INFOTECH-Acoustic-Semi-closed%2Fdp%2FB08P1JS4DF%2Fref%3Dsr_1_59_sspa%3Fdchild%3D1%26keywords%3Dguitar%26qid%3D1627469775%26sr%3D8-59-spons%26psc%3D1&qualifier=1627469775&id=8557941832463111&widgetName=sp_btf',\n",
       " 'https://www.amazon.in/gp/slredirect/picassoRedirect.html/ref=pa_sp_btf_aps_sr_pg1_1?ie=UTF8&adId=A051423610CBS22LQAVES&url=%2FHRB-MUSICALS-5-Piece-Plectrum-Guitar-String%2Fdp%2FB07Y5QMVK9%2Fref%3Dsr_1_60_sspa%3Fdchild%3D1%26keywords%3Dguitar%26qid%3D1627469775%26sr%3D8-60-spons%26psc%3D1&qualifier=1627469775&id=8557941832463111&widgetName=sp_btf',\n",
       " 'https://www.amazon.in/gp/slredirect/picassoRedirect.html/ref=pa_sp_atf_aps_sr_pg1_1?ie=UTF8&adId=A0991693PKTLP5CX5W2L&url=%2FMedellin-MED-BLU-C-Linden-Acoustic-Guitar%2Fdp%2FB07NBMWHJW%2Fref%3Dsr_1_1_sspa%3Fdchild%3D1%26keywords%3Dguitar%26qid%3D1627469775%26sr%3D8-1-spons%26psc%3D1%26smid%3DAM04Z7MH4HSDD&qualifier=1627469775&id=8557941832463111&widgetName=sp_atf',\n",
       " 'https://www.amazon.in/gp/slredirect/picassoRedirect.html/ref=pa_sp_atf_aps_sr_pg1_1?ie=UTF8&adId=A02345373MFNVAER3DQNT&url=%2FKadence-Acoustica-Ash-Wood-Equlizer%2Fdp%2FB0757H5P13%2Fref%3Dsr_1_2_sspa%3Fdchild%3D1%26keywords%3Dguitar%26qid%3D1627469775%26sr%3D8-2-spons%26psc%3D1%26smid%3DAM04Z7MH4HSDD&qualifier=1627469775&id=8557941832463111&widgetName=sp_atf',\n",
       " 'https://www.amazon.in/gp/slredirect/picassoRedirect.html/ref=pa_sp_atf_aps_sr_pg1_1?ie=UTF8&adId=A0928654VYD9HPIWAKBZ&url=%2FKadence-Frontier-Natural-Acoustic-Foldable%2Fdp%2FB01CJJGJ04%2Fref%3Dsr_1_3_sspa%3Fdchild%3D1%26keywords%3Dguitar%26qid%3D1627469775%26sr%3D8-3-spons%26psc%3D1&qualifier=1627469775&id=8557941832463111&widgetName=sp_atf',\n",
       " 'https://www.amazon.in/gp/slredirect/picassoRedirect.html/ref=pa_sp_atf_aps_sr_pg1_1?ie=UTF8&adId=A08791823J4GRMJMKDFMU&url=%2FGUITAR-BRO-Acoustic-Beginner-Accessories%2Fdp%2FB07TC7TWCR%2Fref%3Dsr_1_4_sspa%3Fdchild%3D1%26keywords%3Dguitar%26qid%3D1627469775%26sr%3D8-4-spons%26psc%3D1&qualifier=1627469775&id=8557941832463111&widgetName=sp_atf',\n",
       " 'https://www.amazon.in/Juarez-Acoustic-Cutaway-038C-Strings/dp/B017NPCSLI/ref=sr_1_5?dchild=1&keywords=guitar&qid=1627469775&sr=8-5',\n",
       " 'https://www.amazon.in/Intern-INT-38C-Acoustic-Guitar-Black/dp/B073B6TQQY/ref=sr_1_6?dchild=1&keywords=guitar&qid=1627469775&sr=8-6',\n",
       " 'https://www.amazon.in/JUAREZ-JRZ38C-Acoustic-Sunburst-Strings/dp/B01FYYTDS6/ref=sr_1_7?dchild=1&keywords=guitar&qid=1627469775&sr=8-7',\n",
       " 'https://aax-eu.amazon.in/x/c/QtO_JPCT9thdQGTIsQKTPTkAAAF67MIA9wMAAAH2Acxcsck/https://www.amazon.in/dp/B0757H5P13?pd_rd_i=B0757H5P13&pd_rd_w=0vuwC&pf_rd_p=a75ba368-11d2-4ce4-98f8-b19ed03dc54e&pd_rd_wg=gpDGb&pf_rd_r=0QSG3FHZMSQJGJYVJE6B&pd_rd_r=5543feea-deb6-4ed2-aebe-37ff85593b9d',\n",
       " 'https://www.amazon.in/Juarez-Acoustic-Cutaway-038C-Strings/dp/B017NPCSLI/ref=sxin_12?asc_contentid=amzn1.osa.c9f832fe-8720-44a6-bbf1-1744c27d503b.A21TJRUUN4KGV.en_IN&asc_contenttype=article&ascsubtag=amzn1.osa.c9f832fe-8720-44a6-bbf1-1744c27d503b.A21TJRUUN4KGV.en_IN&creativeASIN=B017NPCSLI&cv_ct_cx=guitar&cv_ct_id=amzn1.osa.c9f832fe-8720-44a6-bbf1-1744c27d503b.A21TJRUUN4KGV.en_IN&cv_ct_pg=search&cv_ct_we=asin&cv_ct_wn=osp-single-source-earns-comm&dchild=1&keywords=guitar&linkCode=oas&pd_rd_i=B017NPCSLI&pd_rd_r=5543feea-deb6-4ed2-aebe-37ff85593b9d&pd_rd_w=io3OT&pd_rd_wg=gpDGb&pf_rd_p=85e157eb-8312-4fce-bfb5-78223bced751&pf_rd_r=0QSG3FHZMSQJGJYVJE6B&qid=1627469775&sr=1-1-61f4c597-7a45-4a97-bd75-c52903f8ee93&tag=htsyndicate-21',\n",
       " 'https://www.amazon.in/Intern-INT-38C-Acoustic-Guitar-Black/dp/B073B6TQQY/ref=sxin_12?asc_contentid=amzn1.osa.c9f832fe-8720-44a6-bbf1-1744c27d503b.A21TJRUUN4KGV.en_IN&asc_contenttype=article&ascsubtag=amzn1.osa.c9f832fe-8720-44a6-bbf1-1744c27d503b.A21TJRUUN4KGV.en_IN&creativeASIN=B073B6TQQY&cv_ct_cx=guitar&cv_ct_id=amzn1.osa.c9f832fe-8720-44a6-bbf1-1744c27d503b.A21TJRUUN4KGV.en_IN&cv_ct_pg=search&cv_ct_we=asin&cv_ct_wn=osp-single-source-earns-comm&dchild=1&keywords=guitar&linkCode=oas&pd_rd_i=B073B6TQQY&pd_rd_r=5543feea-deb6-4ed2-aebe-37ff85593b9d&pd_rd_w=io3OT&pd_rd_wg=gpDGb&pf_rd_p=85e157eb-8312-4fce-bfb5-78223bced751&pf_rd_r=0QSG3FHZMSQJGJYVJE6B&qid=1627469775&sr=1-2-61f4c597-7a45-4a97-bd75-c52903f8ee93&tag=htsyndicate-21',\n",
       " 'https://www.amazon.in/JUAREZ-JRZ38C-Acoustic-Sunburst-Strings/dp/B01FYYTDTU/ref=sxin_12?asc_contentid=amzn1.osa.c9f832fe-8720-44a6-bbf1-1744c27d503b.A21TJRUUN4KGV.en_IN&asc_contenttype=article&ascsubtag=amzn1.osa.c9f832fe-8720-44a6-bbf1-1744c27d503b.A21TJRUUN4KGV.en_IN&creativeASIN=B01FYYTDTU&cv_ct_cx=guitar&cv_ct_id=amzn1.osa.c9f832fe-8720-44a6-bbf1-1744c27d503b.A21TJRUUN4KGV.en_IN&cv_ct_pg=search&cv_ct_we=asin&cv_ct_wn=osp-single-source-earns-comm&dchild=1&keywords=guitar&linkCode=oas&pd_rd_i=B01FYYTDTU&pd_rd_r=5543feea-deb6-4ed2-aebe-37ff85593b9d&pd_rd_w=io3OT&pd_rd_wg=gpDGb&pf_rd_p=85e157eb-8312-4fce-bfb5-78223bced751&pf_rd_r=0QSG3FHZMSQJGJYVJE6B&qid=1627469775&sr=1-3-61f4c597-7a45-4a97-bd75-c52903f8ee93&tag=htsyndicate-21',\n",
       " 'https://www.amazon.in/JUAREZ-JRZ38C-Acoustic-Natural-Strings/dp/B01FYYTDWC/ref=sr_1_8?dchild=1&keywords=guitar&qid=1627469775&sr=8-8',\n",
       " 'https://www.amazon.in/Intern-INT-38C-Acoustic-Guitar-Sunburst/dp/B073B5MJRM/ref=sr_1_9?dchild=1&keywords=guitar&qid=1627469775&sr=8-9',\n",
       " 'https://www.amazon.in/Rosewood-Fretboard-Acoustic-Strings-K-Retail/dp/B07KLG8C4P/ref=sr_1_10?dchild=1&keywords=guitar&qid=1627469775&smid=A13OVDGGW6HXSA&sr=8-10',\n",
       " 'https://www.amazon.in/JUAREZ-JRZ38C-Acoustic-Sunburst-Strings/dp/B01FYYTDTU/ref=sr_1_11?dchild=1&keywords=guitar&qid=1627469775&sr=8-11',\n",
       " 'https://www.amazon.in/Intern-INT-38C-Acoustic-Guitar-Blue/dp/B073B5RZBV/ref=sr_1_12?dchild=1&keywords=guitar&qid=1627469775&sr=8-12',\n",
       " 'https://www.amazon.in/Intern-INT-38C-Acoustic-Guitar-Kit/dp/B073B6TF31/ref=sr_1_13?dchild=1&keywords=guitar&qid=1627469775&sr=8-13',\n",
       " 'https://www.amazon.in/Kordz-Luana-Natural-Rosewood-Fretboard/dp/B07V4Y1V9M/ref=sr_1_14?dchild=1&keywords=guitar&qid=1627469775&smid=A13OVDGGW6HXSA&sr=8-14',\n",
       " 'https://www.amazon.in/JUAREZ-JRZ38C-Handed-Acoustic-Strings/dp/B01FYYTDX6/ref=sr_1_15?dchild=1&keywords=guitar&qid=1627469775&sr=8-15',\n",
       " 'https://www.amazon.in/Juarez-Strings-Acoustic-Cutaway-Zebrawood/dp/B072Q9L8DG/ref=sr_1_16?dchild=1&keywords=guitar&qid=1627469775&sr=8-16',\n",
       " 'https://www.amazon.in/Juarez-Acoustic-Cutaway-BK-Strings/dp/B076T3RHMG/ref=sr_1_17?dchild=1&keywords=guitar&qid=1627469775&sr=8-17',\n",
       " 'https://www.amazon.in/Medellin-MED-BLK-C-Linden-Acoustic-Guitar/dp/B07NBMNZS2/ref=sr_1_18?dchild=1&keywords=guitar&qid=1627469775&sr=8-18',\n",
       " 'https://www.amazon.in/Intern-INT-38C-BK-G-Guitar-Kit-Black/dp/B07K9497RC/ref=sr_1_19?dchild=1&keywords=guitar&qid=1627469775&sr=8-19',\n",
       " 'https://www.amazon.in/4-String-Acoustic-Musical-Instrument-Learning/dp/B08QGLQVRN/ref=sr_1_20?dchild=1&keywords=guitar&qid=1627469775&sr=8-20',\n",
       " 'https://www.amazon.in/gp/slredirect/picassoRedirect.html/ref=pa_sp_mtf_aps_sr_pg1_1?ie=UTF8&adId=A04201121DK34WO2CQ71G&url=%2FGUITAR-BRO-Learning-1-Accessories%2Fdp%2FB08BNBYVYL%2Fref%3Dsr_1_21_sspa%3Fdchild%3D1%26keywords%3Dguitar%26qid%3D1627469775%26sr%3D8-21-spons%26psc%3D1&qualifier=1627469775&id=8557941832463111&widgetName=sp_mtf',\n",
       " 'https://www.amazon.in/gp/slredirect/picassoRedirect.html/ref=pa_sp_mtf_aps_sr_pg1_1?ie=UTF8&adId=A056838626T3JJCBUXMY3&url=%2FVD-ENTERPRISE-Adjustable-Classical-Instrument%2Fdp%2FB08S323L6W%2Fref%3Dsr_1_22_sspa%3Fdchild%3D1%26keywords%3Dguitar%26qid%3D1627469775%26sr%3D8-22-spons%26psc%3D1&qualifier=1627469775&id=8557941832463111&widgetName=sp_mtf',\n",
       " 'https://www.amazon.in/gp/slredirect/picassoRedirect.html/ref=pa_sp_mtf_aps_sr_pg1_1?ie=UTF8&adId=A03970931IVRXGHATZ0GC&url=%2FENTERPRISE-Guitar-4-String-Acoustic-Instrument%2Fdp%2FB097YG1ST1%2Fref%3Dsr_1_23_sspa%3Fdchild%3D1%26keywords%3Dguitar%26qid%3D1627469775%26sr%3D8-23-spons%26psc%3D1&qualifier=1627469775&id=8557941832463111&widgetName=sp_mtf',\n",
       " 'https://www.amazon.in/gp/slredirect/picassoRedirect.html/ref=pa_sp_mtf_aps_sr_pg1_1?ie=UTF8&adId=A05120842ID8QK8W1IIXR&url=%2FMUSICALS%25C2%25AE-Guitar-Including-Strings-remover%2Fdp%2FB082Q6C28F%2Fref%3Dsr_1_24_sspa%3Fdchild%3D1%26keywords%3Dguitar%26qid%3D1627469775%26sr%3D8-24-spons%26psc%3D1&qualifier=1627469775&id=8557941832463111&widgetName=sp_mtf',\n",
       " 'https://www.amazon.in/Intern-INT-38C-Natural-Acoustic-Guitar/dp/B07X4LPJ6H/ref=sr_1_25?dchild=1&keywords=guitar&qid=1627469775&sr=8-25',\n",
       " 'https://www.amazon.in/Intern-INT-38C-SB-G-Guitar-Kit-Sunburst/dp/B07K8WLPLH/ref=sr_1_26?dchild=1&keywords=guitar&qid=1627469775&sr=8-26',\n",
       " 'https://www.amazon.in/Acoustic-Cutaway-TBLS-Strings-Sunburst/dp/B098BCCY75/ref=sr_1_27?dchild=1&keywords=guitar&qid=1627469775&sr=8-27',\n",
       " 'https://www.amazon.in/Luximal-Instrument-Acoustic-Learning-Educational/dp/B08SMKVC7Q/ref=sr_1_28?dchild=1&keywords=guitar&qid=1627469775&sr=8-28',\n",
       " 'https://www.amazon.in/Intern-INT-38C-Acoustic-Guitar-Natural/dp/B073B4D22T/ref=sr_1_29?dchild=1&keywords=guitar&qid=1627469775&sr=8-29',\n",
       " 'https://www.amazon.in/JUAREZ-Acoustic-Guitar-Action-Natural/dp/B08FV4GPWY/ref=sr_1_30?dchild=1&keywords=guitar&qid=1627469775&sr=8-30',\n",
       " 'https://www.amazon.in/Acoustic-Cutaway-3TS-Strings-Sunburst/dp/B098BD1MHM/ref=sr_1_31?dchild=1&keywords=guitar&qid=1627469775&sr=8-31',\n",
       " 'https://www.amazon.in/Martin-Smith-W-101-N-PK-Acoustic-Natural/dp/B00UOUK4IE/ref=sr_1_32?dchild=1&keywords=guitar&qid=1627469775&sr=8-32',\n",
       " 'https://www.amazon.in/Guitar-Accessories-Including-acoustic-electric/dp/B08XBZB5RN/ref=sr_1_33?dchild=1&keywords=guitar&qid=1627469775&sr=8-33',\n",
       " 'https://www.amazon.in/Guitar-Ukulele-Chromatic-Rotating-Accurate/dp/B08XBN94LC/ref=sr_1_34?dchild=1&keywords=guitar&qid=1627469775&sr=8-34',\n",
       " 'https://www.amazon.in/Henrix-Cutaway-Acoustic-Die-Cast-Tuners/dp/B07KMXDXBV/ref=sr_1_35?dchild=1&keywords=guitar&qid=1627469775&sr=8-35',\n",
       " 'https://www.amazon.in/JUAREZ-Fi%C3%A9sta-Acoustic-Rosewood-Fretboard/dp/B08GZZVCB7/ref=sr_1_36?dchild=1&keywords=guitar&qid=1627469775&sr=8-36',\n",
       " 'https://www.amazon.in/Yamaha-FS-100C-6-String-Acoustic-without/dp/B00PAS9CK6/ref=sr_1_37?dchild=1&keywords=guitar&qid=1627469775&sr=8-37',\n",
       " 'https://www.amazon.in/JUAREZ-Acoustic-Cutaway-Rosewood-Fretboard/dp/B08GZZ6SQ2/ref=sr_1_38?dchild=1&keywords=guitar&qid=1627469775&sr=8-38',\n",
       " 'https://www.amazon.in/JUAREZ-Arpeggio-Acoustic-Rosewood-Fretboard/dp/B08LBHB547/ref=sr_1_39?dchild=1&keywords=guitar&qid=1627469775&sr=8-39',\n",
       " 'https://www.amazon.in/JUAREZ-Acoustic-Guitar-3TS-Sunburst/dp/B08FV1KHTT/ref=sr_1_40?dchild=1&keywords=guitar&qid=1627469775&sr=8-40',\n",
       " 'https://www.amazon.in/JUAREZ-GUITAR-JRZ41VG-BK-BLACK/dp/B08MWB6TG7/ref=sr_1_41?dchild=1&keywords=guitar&qid=1627469775&sr=8-41',\n",
       " 'https://www.amazon.in/DEVICE-URBAN-INFOTECH-Acoustic-Semi-closed/dp/B08Y7LMRBR/ref=sr_1_42?dchild=1&keywords=guitar&qid=1627469775&sr=8-42',\n",
       " 'https://www.amazon.in/Yamaha-Acoustic-Guitar-Tobacco-Sunburst/dp/B08VXR74Q2/ref=sr_1_43?dchild=1&keywords=guitar&qid=1627469775&sr=8-43',\n",
       " 'https://www.amazon.in/Henrix-Handed-Cutway-Acoustic-Polishing/dp/B08R3DKYGM/ref=sr_1_44?dchild=1&keywords=guitar&qid=1627469775&sr=8-44',\n",
       " 'https://www.amazon.in/SG-MUSICAL-Strings-Stainless-Acoustic/dp/B095K71PBW/ref=sr_1_45?dchild=1&keywords=guitar&qid=1627469775&sr=8-45',\n",
       " 'https://www.amazon.in/Intern-INT-38C-NT-G-Guitar-Kit-Natural/dp/B07K9MZZH9/ref=sr_1_46?dchild=1&keywords=guitar&qid=1627469775&sr=8-46',\n",
       " 'https://www.amazon.in/LAPREX-Excellent-Guitar-Adjustable-Toys-Brown/dp/B08WRF1JGZ/ref=sr_1_47?dchild=1&keywords=guitar&qid=1627469775&sr=8-47',\n",
       " 'https://www.amazon.in/JUAREZ-Acoustic-Rosewood-Fretboard-3TS/dp/B08GZXNSBG/ref=sr_1_48?dchild=1&keywords=guitar&qid=1627469775&sr=8-48',\n",
       " 'https://www.amazon.in/DAddario-EZ900-Acoustic-Guitar-Strings/dp/B016BPK3QI/ref=sr_1_49?dchild=1&keywords=guitar&qid=1627469775&sr=8-49',\n",
       " 'https://www.amazon.in/RetroStyle-4-String-Acoustic-Instrument-Learning/dp/B092S4M41Q/ref=sr_1_50?dchild=1&keywords=guitar&qid=1627469775&sr=8-50',\n",
       " 'https://www.amazon.in/Blueberry-Trussrod-Acoustic-Guitar-Sunburst/dp/B08WH5553T/ref=sr_1_51?dchild=1&keywords=guitar&qid=1627469775&sr=8-51',\n",
       " 'https://www.amazon.in/Givson-Special-Guitar-VS-BLK-Acoustic/dp/B07SZ5KR61/ref=sr_1_52?dchild=1&keywords=guitar&qid=1627469775&sr=8-52',\n",
       " 'https://www.amazon.in/HYMET-4-String-Acoustic-Guitar-Learning/dp/B093QDX9MR/ref=sr_1_53?dchild=1&keywords=guitar&qid=1627469775&sr=8-53',\n",
       " 'https://www.amazon.in/JRZ-ST01-6-String-Electric-Sunburst-Without/dp/B01FYZSOEE/ref=sr_1_54?dchild=1&keywords=guitar&qid=1627469775&sr=8-54',\n",
       " 'https://www.amazon.in/ENTERPRISE-Guitar-4-String-Acoustic-Instrument/dp/B097YG1ST1/ref=sr_1_55?dchild=1&keywords=guitar&qid=1627469775&sr=8-55',\n",
       " 'https://www.amazon.in/Cort-AD810-Dreadnought-Acoustic-Guitar/dp/B07KMBVR6V/ref=sr_1_56?dchild=1&keywords=guitar&qid=1627469775&sr=8-56',\n",
       " 'https://www.amazon.in/gp/slredirect/picassoRedirect.html/ref=pa_sp_btf_aps_sr_pg1_1?ie=UTF8&adId=A05431372N1Y6KMFTYW6Y&url=%2FDEVICE-URBAN-INFOTECH-Rotational-Electronic%2Fdp%2FB081LG3X5H%2Fref%3Dsr_1_57_sspa%3Fdchild%3D1%26keywords%3Dguitar%26qid%3D1627469775%26sr%3D8-57-spons%26psc%3D1&qualifier=1627469775&id=8557941832463111&widgetName=sp_btf',\n",
       " 'https://www.amazon.in/gp/slredirect/picassoRedirect.html/ref=pa_sp_btf_aps_sr_pg1_1?ie=UTF8&adId=A07383108ZZXB8MLBJ6G&url=%2FDurable-Control-Material-Electric-Lettering%2Fdp%2FB095832Y4M%2Fref%3Dsr_1_58_sspa%3Fdchild%3D1%26keywords%3Dguitar%26qid%3D1627469775%26sr%3D8-58-spons%26psc%3D1&qualifier=1627469775&id=8557941832463111&widgetName=sp_btf',\n",
       " 'https://www.amazon.in/gp/slredirect/picassoRedirect.html/ref=pa_sp_btf_aps_sr_pg1_1?ie=UTF8&adId=A05703491HTBA8CLBYZGC&url=%2FDEVICE-URBAN-INFOTECH-Acoustic-Semi-closed%2Fdp%2FB08P1JS4DF%2Fref%3Dsr_1_59_sspa%3Fdchild%3D1%26keywords%3Dguitar%26qid%3D1627469775%26sr%3D8-59-spons%26psc%3D1&qualifier=1627469775&id=8557941832463111&widgetName=sp_btf',\n",
       " 'https://www.amazon.in/gp/slredirect/picassoRedirect.html/ref=pa_sp_btf_aps_sr_pg1_1?ie=UTF8&adId=A051423610CBS22LQAVES&url=%2FHRB-MUSICALS-5-Piece-Plectrum-Guitar-String%2Fdp%2FB07Y5QMVK9%2Fref%3Dsr_1_60_sspa%3Fdchild%3D1%26keywords%3Dguitar%26qid%3D1627469775%26sr%3D8-60-spons%26psc%3D1&qualifier=1627469775&id=8557941832463111&widgetName=sp_btf']"
      ]
     },
     "execution_count": 67,
     "metadata": {},
     "output_type": "execute_result"
    }
   ],
   "source": [
    "for i in range(len(urls)):\n",
    "    driver.get(urls[i])\n",
    "    time.sleep(2)\n",
    "    prod_url.append(urls[i])\n",
    "    try:\n",
    "        brand_tag= driver.find_element_by_xpath(\"//td[@class='a-size-base prodDetAttrValue']\")\n",
    "        brand.append(brand_tag.text)\n",
    "    except:\n",
    "        brand.append(\"-\")\n",
    "    try:\n",
    "        name= driver.find_element_by_id(\"productTitle\")\n",
    "        product_name.append(name.text)\n",
    "    except:\n",
    "        product_name.append(\"-\")\n",
    "    try:\n",
    "        rate_tag= driver.find_element_by_xpath(\"//span[@class='a-size-medium a-color-base']\")\n",
    "        ratings.append(rate_tag.text)\n",
    "    except:\n",
    "        ratings.append(\"-\")\n",
    "    try:\n",
    "        num_rate= driver.find_element_by_xpath(\"//div[@class='a-row a-spacing-medium averageStarRatingNumerical']\")\n",
    "        numb_ratings.append(num_rate.text)\n",
    "    except:\n",
    "        numb_ratings.append(\"-\")\n",
    "    try:\n",
    "        price_tag= driver.find_element_by_id(\"priceblock_ourprice\")\n",
    "        price.append(price_tag.text)\n",
    "    except:\n",
    "        price.append(\"-\")\n",
    "    try:\n",
    "        retrn= driver.find_element_by_xpath(\"//a[2][@class='a-size-small a-link-normal a-text-normal']\")\n",
    "        Return.append(retrn.text)\n",
    "    except:\n",
    "        Return.append(\"-\")\n",
    "    try:\n",
    "        deliver= driver.find_element_by_id(\"ddmDeliveryMessage\")\n",
    "        exp_delivery.append(deliver.text)\n",
    "    except:\n",
    "        exp_delivery.append(\"-\")\n",
    "    try:\n",
    "        avail= driver.find_element_by_id(\"availability\")\n",
    "        availability.append(avail.text)\n",
    "    except:\n",
    "        availability.append(\"-\")\n",
    "    try:\n",
    "        tag= driver.find_element_by_xpath(\"//div[@id='productDescription']//p\")\n",
    "        other.append(tag.text)\n",
    "    except:\n",
    "        other.append(\"-\")\n",
    "prod_url"
   ]
  },
  {
   "cell_type": "code",
   "execution_count": 71,
   "metadata": {},
   "outputs": [
    {
     "name": "stdout",
     "output_type": "stream",
     "text": [
      "['-', '-', '-', '-', '-', '-', '-', '-', '-', '-', '-', '-', '-', '-', '-', '-', '-', '-', '-', '-', '-', '-', '-', '-', '-', '-', '-', '-', '-', '-', '-', '-', '-', '-', '-', '-', '-', '-', '-', '-', '-', '-', '-', '-', '-', '-', '-', '-', '-', '-', '-', '-', '-', '-', '-', '-', '-', '-', '-', '-', '-', '-', '-', '-', '-', '-', '-', '-', '-', '-', '-', '-', '-', '-', '-', '-', '-', '-', '-', '-', '-', '-', '-', '-', '-', '-', '-', '-', '-', '-', '-', '-', '-', '-', '-', '-', '-', '-', '-', '-', '-', '-', '-', '-', '-', '-', '-', '-', '-', '-', '-', '-', '-', '-', '-', '-', '-', '-', '-', '-', '-', '-', '-', '-', '-', '-', '-', '-']\n"
     ]
    }
   ],
   "source": [
    "print(Return)"
   ]
  },
  {
   "cell_type": "code",
   "execution_count": 69,
   "metadata": {},
   "outputs": [
    {
     "data": {
      "text/html": [
       "<div>\n",
       "<style scoped>\n",
       "    .dataframe tbody tr th:only-of-type {\n",
       "        vertical-align: middle;\n",
       "    }\n",
       "\n",
       "    .dataframe tbody tr th {\n",
       "        vertical-align: top;\n",
       "    }\n",
       "\n",
       "    .dataframe thead th {\n",
       "        text-align: right;\n",
       "    }\n",
       "</style>\n",
       "<table border=\"1\" class=\"dataframe\">\n",
       "  <thead>\n",
       "    <tr style=\"text-align: right;\">\n",
       "      <th></th>\n",
       "      <th>Brand</th>\n",
       "      <th>Product_Name</th>\n",
       "      <th>Ratings</th>\n",
       "      <th>NumberOfRatings</th>\n",
       "      <th>Availability</th>\n",
       "      <th>Expected_Delivery</th>\n",
       "      <th>Return</th>\n",
       "      <th>Price</th>\n",
       "      <th>Other_Details</th>\n",
       "    </tr>\n",
       "  </thead>\n",
       "  <tbody>\n",
       "    <tr>\n",
       "      <th>0</th>\n",
       "      <td>Medellin</td>\n",
       "      <td>Medellin MED-BLU-C Linden Wood Acoustic Guitar</td>\n",
       "      <td>3.9 out of 5</td>\n",
       "      <td>476 global ratings</td>\n",
       "      <td>In stock.</td>\n",
       "      <td>FREE delivery: Sunday, Aug 1 Details</td>\n",
       "      <td>-</td>\n",
       "      <td>₹2,399.00</td>\n",
       "      <td>-</td>\n",
       "    </tr>\n",
       "    <tr>\n",
       "      <th>1</th>\n",
       "      <td>Kadence</td>\n",
       "      <td>Kadence Acoustica Series Semi Acoustic Ash Woo...</td>\n",
       "      <td>3.9 out of 5</td>\n",
       "      <td>610 global ratings</td>\n",
       "      <td>In stock.</td>\n",
       "      <td>FREE delivery: Sunday, Aug 1 Details</td>\n",
       "      <td>-</td>\n",
       "      <td>₹7,199.00</td>\n",
       "      <td>-</td>\n",
       "    </tr>\n",
       "    <tr>\n",
       "      <th>2</th>\n",
       "      <td>Kadence</td>\n",
       "      <td>Kadence Frontier Series, Natural Acoustic Guit...</td>\n",
       "      <td>3.8 out of 5</td>\n",
       "      <td>71 global ratings</td>\n",
       "      <td>In stock.</td>\n",
       "      <td>FREE delivery: Sunday, Aug 1 Details</td>\n",
       "      <td>-</td>\n",
       "      <td>₹5,999.00</td>\n",
       "      <td>-</td>\n",
       "    </tr>\n",
       "    <tr>\n",
       "      <th>3</th>\n",
       "      <td>Guitar Bro</td>\n",
       "      <td>GUITAR BRO - COMBO (Blue Acoustic Guitar for B...</td>\n",
       "      <td>3.7 out of 5</td>\n",
       "      <td>27 global ratings</td>\n",
       "      <td>In stock.</td>\n",
       "      <td>FREE delivery: Aug 3 - 6 Details\\nFastest deli...</td>\n",
       "      <td>-</td>\n",
       "      <td>₹6,499.00</td>\n",
       "      <td>-</td>\n",
       "    </tr>\n",
       "    <tr>\n",
       "      <th>4</th>\n",
       "      <td>98 x 40 x 10 cm; 2.06 Kilograms</td>\n",
       "      <td>Juârez Acoustic Guitar, 38 Inch Cutaway, 038C ...</td>\n",
       "      <td>3.9 out of 5</td>\n",
       "      <td>11,490 global ratings</td>\n",
       "      <td>In stock.</td>\n",
       "      <td>FREE delivery: Friday, July 30 Details\\nFastes...</td>\n",
       "      <td>-</td>\n",
       "      <td>₹2,649.00</td>\n",
       "      <td></td>\n",
       "    </tr>\n",
       "  </tbody>\n",
       "</table>\n",
       "</div>"
      ],
      "text/plain": [
       "                             Brand  \\\n",
       "0                         Medellin   \n",
       "1                          Kadence   \n",
       "2                          Kadence   \n",
       "3                       Guitar Bro   \n",
       "4  98 x 40 x 10 cm; 2.06 Kilograms   \n",
       "\n",
       "                                        Product_Name       Ratings  \\\n",
       "0     Medellin MED-BLU-C Linden Wood Acoustic Guitar  3.9 out of 5   \n",
       "1  Kadence Acoustica Series Semi Acoustic Ash Woo...  3.9 out of 5   \n",
       "2  Kadence Frontier Series, Natural Acoustic Guit...  3.8 out of 5   \n",
       "3  GUITAR BRO - COMBO (Blue Acoustic Guitar for B...  3.7 out of 5   \n",
       "4  Juârez Acoustic Guitar, 38 Inch Cutaway, 038C ...  3.9 out of 5   \n",
       "\n",
       "         NumberOfRatings Availability  \\\n",
       "0     476 global ratings    In stock.   \n",
       "1     610 global ratings    In stock.   \n",
       "2      71 global ratings    In stock.   \n",
       "3      27 global ratings    In stock.   \n",
       "4  11,490 global ratings    In stock.   \n",
       "\n",
       "                                   Expected_Delivery Return      Price  \\\n",
       "0               FREE delivery: Sunday, Aug 1 Details      -  ₹2,399.00   \n",
       "1               FREE delivery: Sunday, Aug 1 Details      -  ₹7,199.00   \n",
       "2               FREE delivery: Sunday, Aug 1 Details      -  ₹5,999.00   \n",
       "3  FREE delivery: Aug 3 - 6 Details\\nFastest deli...      -  ₹6,499.00   \n",
       "4  FREE delivery: Friday, July 30 Details\\nFastes...      -  ₹2,649.00   \n",
       "\n",
       "  Other_Details  \n",
       "0             -  \n",
       "1             -  \n",
       "2             -  \n",
       "3             -  \n",
       "4                "
      ]
     },
     "execution_count": 69,
     "metadata": {},
     "output_type": "execute_result"
    }
   ],
   "source": [
    "## Creating dataframe\n",
    "prod_details=pd.DataFrame()\n",
    "prod_details[\"Brand\"]=brand\n",
    "prod_details[\"Product_Name\"]=product_name\n",
    "prod_details[\"Ratings\"]=ratings\n",
    "prod_details[\"NumberOfRatings\"]=numb_ratings\n",
    "prod_details[\"Availability\"]=availability\n",
    "prod_details[\"Expected_Delivery\"]=exp_delivery\n",
    "prod_details[\"Return\"]=Return\n",
    "prod_details[\"Price\"]=price\n",
    "prod_details[\"Other_Details\"]=other\n",
    "prod_details.head()"
   ]
  },
  {
   "cell_type": "code",
   "execution_count": 73,
   "metadata": {},
   "outputs": [],
   "source": [
    "# Saving File\n",
    "prod_details.to_csv(\"Product_Details\")\n",
    "driver.close()"
   ]
  },
  {
   "cell_type": "markdown",
   "metadata": {},
   "source": [
    "3. Write a python program to access the search bar and search button on images.google.com and scrape 100 images each for keywords ‘fruits’, ‘cars’ and ‘Machine Learning’."
   ]
  },
  {
   "cell_type": "code",
   "execution_count": null,
   "metadata": {},
   "outputs": [],
   "source": [
    "driver=webdriver.Chrome(\"chromedriver.exe\")\n",
    "\n",
    "url='https://images.google.com/'\n",
    "driver.get(url)\n",
    "driver.maximize_window()\n",
    "\n",
    "search_prod=driver.find_element_by_xpath(\"//input[@class='gLFyf gsfi']\")\n",
    "search_prod.clear()\n",
    "search_prod.send_keys('fruits')\n",
    "\n",
    "search_btn=driver.find_element_by_xpath(\"//span[@class='z1asCe MZy1Rb']\")\n",
    "search_btn.click()\n",
    "\n",
    "\n",
    "scroll_pause_time = 5\n",
    "\n",
    "# Get scroll height\n",
    "last_height = driver.execute_script(\"return document.body.scrollHeight\")\n",
    "\n",
    "while True:\n",
    "    # Scroll down to bottom\n",
    "    driver.execute_script(\"window.scrollTo(0, document.body.scrollHeight);\")\n",
    "\n",
    "    # Wait to load page\n",
    "    time.sleep(scroll_pause_time)\n",
    "\n",
    "    # Calculate new scroll height and compare with last scroll height\n",
    "    new_height = driver.execute_script(\"return document.body.scrollHeight\")\n",
    "    if new_height == last_height:\n",
    "        # If heights are the same it will exit the function\n",
    "        break\n",
    "    last_height = new_height\n",
    "\n",
    "fruimg=driver.find_elements_by_xpath(\"//div[@class='bRMDJf islir']//img\")\n",
    "\n",
    "fru_src=[]\n",
    "for i in fruimg[:100]:\n",
    "    fru_src.append(i.get_attribute(\"src\"))\n",
    "\n",
    "print(fru_src)\n",
    "print(len(fru_src))\n",
    "driver.close()"
   ]
  },
  {
   "cell_type": "code",
   "execution_count": null,
   "metadata": {},
   "outputs": [],
   "source": [
    "driver=webdriver.Chrome(\"chromedriver.exe\")\n",
    "\n",
    "url='https://images.google.com/'\n",
    "driver.get(url)\n",
    "driver.maximize_window()\n",
    "\n",
    "search_prod=driver.find_element_by_xpath(\"//input[@class='gLFyf gsfi']\")\n",
    "search_prod.clear()\n",
    "search_prod.send_keys('cars')\n",
    "\n",
    "search_btn=driver.find_element_by_xpath(\"//span[@class='z1asCe MZy1Rb']\")\n",
    "search_btn.click()\n",
    "\n",
    "\n",
    "scroll_pause_time = 5\n",
    "\n",
    "# Get scroll height\n",
    "last_height = driver.execute_script(\"return document.body.scrollHeight\")\n",
    "\n",
    "while True:\n",
    "    # Scroll down to bottom\n",
    "    driver.execute_script(\"window.scrollTo(0, document.body.scrollHeight);\")\n",
    "\n",
    "    # Wait to load page\n",
    "    time.sleep(scroll_pause_time)\n",
    "\n",
    "    # Calculate new scroll height and compare with last scroll height\n",
    "    new_height = driver.execute_script(\"return document.body.scrollHeight\")\n",
    "    if new_height == last_height:\n",
    "        # If heights are the same it will exit the function\n",
    "        break\n",
    "    last_height = new_height\n",
    "\n",
    "carimg=driver.find_elements_by_xpath(\"//div[@class='bRMDJf islir']//img\")\n",
    "\n",
    "car_src=[]\n",
    "for i in carimg[:100]:\n",
    "    car_src.append(i.get_attribute(\"src\"))\n",
    "\n",
    "print(car_src)\n",
    "print(len(car_src))\n",
    "driver.close()"
   ]
  },
  {
   "cell_type": "code",
   "execution_count": null,
   "metadata": {},
   "outputs": [],
   "source": [
    "driver=webdriver.Chrome(\"chromedriver.exe\")\n",
    "\n",
    "url='https://images.google.com/'\n",
    "driver.get(url)\n",
    "driver.maximize_window()\n",
    "\n",
    "search_prod=driver.find_element_by_xpath(\"//input[@class='gLFyf gsfi']\")\n",
    "search_prod.clear()\n",
    "search_prod.send_keys('Machine Learning')\n",
    "\n",
    "search_btn=driver.find_element_by_xpath(\"//span[@class='z1asCe MZy1Rb']\")\n",
    "search_btn.click()\n",
    "\n",
    "\n",
    "scroll_pause_time = 5\n",
    "\n",
    "# Get scroll height\n",
    "last_height = driver.execute_script(\"return document.body.scrollHeight\")\n",
    "\n",
    "while True:\n",
    "    # Scroll down to bottom\n",
    "    driver.execute_script(\"window.scrollTo(0, document.body.scrollHeight);\")\n",
    "\n",
    "    # Wait to load page\n",
    "    time.sleep(scroll_pause_time)\n",
    "\n",
    "    # Calculate new scroll height and compare with last scroll height\n",
    "    new_height = driver.execute_script(\"return document.body.scrollHeight\")\n",
    "    if new_height == last_height:\n",
    "        # If heights are the same it will exit the function\n",
    "        break\n",
    "    last_height = new_height\n",
    "\n",
    "mlimg=driver.find_elements_by_xpath(\"//div[@class='bRMDJf islir']//img\")\n",
    "\n",
    "ml_src=[]\n",
    "for i in mlimg[:100]:\n",
    "    ml_src.append(i.get_attribute(\"src\"))\n",
    "\n",
    "print(ml_src)\n",
    "print(len(ml_src))\n",
    "driver.close()"
   ]
  },
  {
   "cell_type": "markdown",
   "metadata": {},
   "source": [
    "4. Write a python program to search for a smartphone(e.g.: Oneplus Nord, pixel 4A, etc.) on www.flipkart.com and scrape following details for all the search results displayed on 1st page. Details to be scraped: “Brand Name”, “Smartphone name”, “Colour”, “RAM”, “Storage(ROM)”, “Primary Camera”, “Secondary Camera”, “Display Size”, “Display Resolution”, “Processor”, “Processor Cores”, “Battery Capacity”, “Price”, “Product URL”. Incase if any of the details is missing then replace it by “- “. Save your results in a dataframe and CSV."
   ]
  },
  {
   "cell_type": "code",
   "execution_count": null,
   "metadata": {},
   "outputs": [],
   "source": [
    "driver=webdriver.Chrome(\"chromedriver.exe\")\n",
    "\n",
    "url='https://www.flipkart.com/'\n",
    "driver.get(url)\n",
    "driver.maximize_window()\n",
    "\n",
    "pop_btn=driver.find_element_by_xpath(\"//button[@class='_2KpZ6l _2doB4z']\")\n",
    "pop_btn.click()\n",
    "\n",
    "search_prod=driver.find_element_by_xpath(\"//input[@class='_3704LK']\")\n",
    "search_prod.clear()\n",
    "search_prod.send_keys('smartphone')\n",
    "\n",
    "search_btn=driver.find_element_by_xpath(\"//button[@class='L0Z3Pu']\")\n",
    "search_btn.click()\n",
    "\n",
    "time.sleep(2)\n",
    "driver.implicitly_wait(5)\n",
    "brandurl=driver.find_elements_by_xpath(\"//div[@class='_2kHMtA']//a\")\n",
    "\n",
    "urls=[]\n",
    "brand=[]\n",
    "colour=[]\n",
    "ram=[]\n",
    "rom=[]\n",
    "pcam=[]\n",
    "scam=[]\n",
    "dsize=[]\n",
    "dres=[]\n",
    "proc=[]\n",
    "procor=[]\n",
    "bat=[]\n",
    "price=[]\n",
    "\n",
    "\n",
    "for i in brandurl:\n",
    "    urls.append(i.get_attribute(\"href\"))\n",
    "\n",
    "for i in urls:\n",
    "    driver.get(i)\n",
    "    brandname=driver.find_element_by_xpath(\"//span[@class='B_NuCI']\")\n",
    "    brand.append(brandname.text)\n",
    "    read_btn=driver.find_element_by_xpath(\"//button[@class='_2KpZ6l _1FH0tX']\")\n",
    "    read_btn.click()\n",
    "    \n",
    "    try:\n",
    "        colr=driver.find_element_by_xpath(\"//*[text()='Color']/following-sibling::td\")\n",
    "        colour.append(colr.text)\n",
    "    except:\n",
    "        colour.append(\"-\")\n",
    "    \n",
    "    try:\n",
    "        rm=driver.find_element_by_xpath(\"//*[text()='RAM']/following-sibling::td\")\n",
    "        ram.append(rm.text)\n",
    "    except:\n",
    "        ram.append(\"-\")\n",
    "        \n",
    "    try:\n",
    "        roms=driver.find_element_by_xpath(\"//tr[contains(text()='Brand')]/following-sibling::span\")\n",
    "        rom.append(roms.text)\n",
    "    except:\n",
    "        rom.append(\"-\")\n",
    "        \n",
    "    try:\n",
    "        pc=driver.find_element_by_xpath(\"//*[text()='Primary Camera']/following-sibling::td\")\n",
    "        pcam.append(pc.text)\n",
    "    except:\n",
    "        pcam.append(\"-\")    \n",
    "\n",
    "    try:\n",
    "        sc=driver.find_element_by_xpath(\"//*[text()='Secondary Camera']/following-sibling::td\")\n",
    "        scam.append(sc.text)\n",
    "    except:\n",
    "        scam.append(\"-\")\n",
    "    \n",
    "    try:\n",
    "        ds=driver.find_element_by_xpath(\"//*[text()='Display Size']/following-sibling::td\")\n",
    "        dsize.append(ds.text)\n",
    "    except:\n",
    "        dsize.append(\"-\")\n",
    "     \n",
    "    try:\n",
    "        dr=driver.find_element_by_xpath(\"//*[text()='Resolution']/following-sibling::td\")\n",
    "        dres.append(dr.text)\n",
    "    except:\n",
    "        dres.append(\"-\")\n",
    "\n",
    "    try:\n",
    "        pro=driver.find_element_by_xpath(\"//*[text()='Processor Type']/following-sibling::td\")\n",
    "        proc.append(pro.text)\n",
    "    except:\n",
    "        proc.append(\"-\")\n",
    "\n",
    "    try:\n",
    "        prc=driver.find_element_by_xpath(\"//*[text()='Processor Core']/following-sibling::td\")\n",
    "        procor.append(prc.text)\n",
    "    except:\n",
    "        procor.append(\"-\")\n",
    "\n",
    "    try:\n",
    "        bt=driver.find_element_by_xpath(\"//*[text()='Battery Capacity']/following-sibling::td\")\n",
    "        bat.append(bt.text)\n",
    "    except:\n",
    "        bat.append(\"-\")\n",
    "\n",
    "    try:\n",
    "        rate=driver.find_element_by_xpath(\"//div[@class='_30jeq3 _16Jk6d']\")\n",
    "        price.append(rate.text.replace('₹',''))\n",
    "    except:\n",
    "        price.append(\"-\")\n",
    "\n",
    "print(brand)\n",
    "print(colour)\n",
    "print(ram)\n",
    "print(rom)\n",
    "print(pcam)\n",
    "print(scam)\n",
    "print(dsize)\n",
    "print(dres)\n",
    "print(proc)\n",
    "print(procor)\n",
    "print(bat)\n",
    "print(price)\n",
    "\n",
    "\n",
    "driver.close()"
   ]
  },
  {
   "cell_type": "code",
   "execution_count": null,
   "metadata": {},
   "outputs": [],
   "source": [
    "proddata=pd.DataFrame({})\n",
    "proddata['Product Name']=brand\n",
    "proddata['Colour']=colour\n",
    "proddata['RAM']=ram\n",
    "proddata['Internal Storage']=rom\n",
    "proddata['Primary Camera']=pcam\n",
    "proddata['Secondry Camera']=scam\n",
    "proddata['Display Size']=dsize\n",
    "proddata['Display Resolution']=dres\n",
    "proddata['Processor']=proc\n",
    "proddata['Processor Cores']=procor\n",
    "proddata['Battery']=bat\n",
    "proddata['Price']=price\n",
    "proddata['Product URL']=urls\n",
    "proddata"
   ]
  },
  {
   "cell_type": "code",
   "execution_count": null,
   "metadata": {},
   "outputs": [],
   "source": [
    "proddata.to_csv('Flipkart Product Data.csv', index=False)"
   ]
  },
  {
   "cell_type": "markdown",
   "metadata": {},
   "source": [
    "5. Write a program to scrap geospatial coordinates (latitude, longitude) of a city searched on google maps."
   ]
  },
  {
   "cell_type": "code",
   "execution_count": null,
   "metadata": {},
   "outputs": [],
   "source": [
    "driver=webdriver.Chrome(\"chromedriver.exe\")"
   ]
  },
  {
   "cell_type": "code",
   "execution_count": 29,
   "metadata": {},
   "outputs": [],
   "source": [
    "url='https://maps.google.com/'\n",
    "driver.get(url)\n",
    "time.sleep(5)\n",
    "driver.maximize_window()\n"
   ]
  },
  {
   "cell_type": "code",
   "execution_count": 30,
   "metadata": {},
   "outputs": [
    {
     "name": "stdout",
     "output_type": "stream",
     "text": [
      "Enter City Name: \n",
      "delhi\n"
     ]
    }
   ],
   "source": [
    "search_prod=driver.find_element_by_xpath(\"//input[@id='searchboxinput']\")\n",
    "search_prod.clear()\n",
    "print(\"Enter keyword\")\n",
    "keyword=input()\n",
    "search_prod.send_keys(keyword)"
   ]
  },
  {
   "cell_type": "code",
   "execution_count": 31,
   "metadata": {},
   "outputs": [],
   "source": [
    "search_btn=driver.find_element_by_xpath(\"//button[@id='searchbox-searchbutton']\")\n",
    "search_btn.click()"
   ]
  },
  {
   "cell_type": "code",
   "execution_count": 32,
   "metadata": {},
   "outputs": [
    {
     "name": "stdout",
     "output_type": "stream",
     "text": [
      "URL Extracted:  https://www.google.com/maps/@28.6425021,77.3037791,13z\n"
     ]
    }
   ],
   "source": [
    "time.sleep(5)\n",
    "loc=driver.current_url\n",
    "\n",
    "try:\n",
    "    found = re.search('/@(.+?)/', loc).group(1)\n",
    "except AttributeError:\n",
    "    found = ''\n",
    "\n",
    "location=found.split(',')\n",
    "locat=location[:2]\n",
    "lat=location[0]\n",
    "lng=location[1]\n",
    "print(\"Geocordinates = \",locat)\n",
    "print(\"Latitude = \",lat)\n",
    "print(\"Longitude = \",lng)\n",
    "\n",
    "\n",
    "driver.close"
   ]
  },
  {
   "cell_type": "markdown",
   "metadata": {},
   "source": [
    "6. Write a program to scrap details of all the funding deals for second quarter (i.e. July 20 – September 20) from trak.in."
   ]
  },
  {
   "cell_type": "code",
   "execution_count": 36,
   "metadata": {},
   "outputs": [],
   "source": [
    "url= \"https://www.trak.in\"\n",
    "driver.get(url)"
   ]
  },
  {
   "cell_type": "code",
   "execution_count": 38,
   "metadata": {},
   "outputs": [],
   "source": [
    "more_btn=driver.find_element_by_xpath(\"//li[@class='bs-pretty-tabs-container menu-item-has-children menu-item better-anim-fade bsm-leave']\")\n",
    "more_btn.click()\n",
    "\n",
    "btn=driver.find_element_by_xpath(\"/html/body/div[1]/header/div[2]/div/div/div/div/nav/ul/li[8]/ul/li[2]/a\")\n",
    "btn.click()"
   ]
  },
  {
   "cell_type": "code",
   "execution_count": 39,
   "metadata": {},
   "outputs": [],
   "source": [
    "detail_tags=driver.find_elements_by_xpath(\"//div[@class='dataTables_wrapper no-footer']\")\n",
    "details=[]\n",
    "for i in detail_tags:\n",
    "    details.append(i.text.replace(\"\\n\",\" \"))"
   ]
  },
  {
   "cell_type": "markdown",
   "metadata": {},
   "source": [
    "7. Write a program to scrap all the available details of best gaming laptops from digit.in."
   ]
  },
  {
   "cell_type": "code",
   "execution_count": 40,
   "metadata": {},
   "outputs": [],
   "source": [
    "driver=webdriver.Chrome(\"chromedriver.exe\")\n",
    "\n",
    "url='https://www.digit.in/top-products/best-gaming-laptops-40.html'\n",
    "driver.get(url)\n",
    "time.sleep(5)\n",
    "driver.maximize_window()\n",
    "\n",
    "try:\n",
    "    pop_btn=driver.find_element_by_xpath(\"//button[@class='_2KpZ6l _2doB4z']\")\n",
    "    pop_btn.click()\n",
    "except:\n",
    "    pass\n",
    "\n",
    "\n",
    "brand=[]\n",
    "OS=[]\n",
    "gpr=[]\n",
    "rom=[]\n",
    "dsize=[]\n",
    "proc=[]\n",
    "price=[]\n",
    "wgt=[]\n",
    "dms=[]\n",
    "\n",
    "rate=driver.find_elements_by_xpath(\"//td[@class='smprice']\")\n",
    "\n",
    "for i in rate:\n",
    "    price.append(i.text)\n",
    "        \n",
    "brandname=driver.find_elements_by_xpath(\"//div[@class='right-container']//h3\")\n",
    "\n",
    "for i in brandname:\n",
    "    brand.append(i.text)\n",
    "    \n",
    "os=driver.find_elements_by_xpath(\"//td[text()='OS']/following-sibling::td[2]\")\n",
    "\n",
    "for i in os:\n",
    "    OS.append(i.text)\n",
    "\n",
    "ds=driver.find_elements_by_xpath(\"//td[text()='Display']/following-sibling::td[2]\")\n",
    "\n",
    "for i in ds:\n",
    "    dsize.append(i.text)\n",
    "\n",
    "pro=driver.find_elements_by_xpath(\"//td[text()='Processor']/following-sibling::td[2]\")\n",
    "\n",
    "for i in pro:\n",
    "    proc.append(i.text)\n",
    "\n",
    "    \n",
    "roms=driver.find_elements_by_xpath(\"//td[text()='Memory']/following-sibling::td[2]\")\n",
    "\n",
    "for i in roms:\n",
    "    rom.append(i.text)\n",
    "\n",
    "wg=driver.find_elements_by_xpath(\"//td[text()='Weight']/following-sibling::td[2]\")\n",
    "\n",
    "for i in wg:\n",
    "    wgt.append(i.text)\n",
    "\n",
    "dm=driver.find_elements_by_xpath(\"//td[text()='Dimension']/following-sibling::td[2]\")\n",
    "\n",
    "for i in dm:\n",
    "    dms.append(i.text)\n",
    "\n",
    "gp=driver.find_elements_by_xpath(\"//td[text()='Graphics Processor']/following-sibling::td[2]\")\n",
    "\n",
    "for i in gp:\n",
    "    gpr.append(i.text)\n",
    "    \n",
    "print(brand)\n",
    "print(OS)\n",
    "print(dms)\n",
    "print(rom)\n",
    "print(gpr)\n",
    "print(dsize)\n",
    "print(proc)\n",
    "print(price)\n",
    "print(wgt)\n",
    "\n",
    "driver.close()"
   ]
  },
  {
   "cell_type": "markdown",
   "metadata": {},
   "source": [
    "8. Write a python program to scrape the details for all billionaires from www.forbes.com. Details to be scrapped: “Rank”, “Name”, “Net worth”, “Age”, “Citizenship”, “Source”, “Industry”."
   ]
  },
  {
   "cell_type": "code",
   "execution_count": 48,
   "metadata": {},
   "outputs": [],
   "source": [
    "url=\"https://www.forbes.com\"\n",
    "driver.get(url)"
   ]
  },
  {
   "cell_type": "code",
   "execution_count": 49,
   "metadata": {},
   "outputs": [],
   "source": [
    "exp= driver.find_element_by_xpath(\"/html/body/div[1]/header/nav/div[1]/button[1]\")\n",
    "exp.click()\n",
    "btn= driver.find_element_by_xpath(\"//li[@class='header__channel header__color--centennial-silver header__hoverable']\")\n",
    "btn.click()\n",
    "btn1= driver.find_element_by_xpath(\"/html/body/div[1]/header/nav/div[3]/ul/li[1]/div[2]/ul/li[2]/a\")\n",
    "btn1.click()"
   ]
  },
  {
   "cell_type": "code",
   "execution_count": 50,
   "metadata": {},
   "outputs": [],
   "source": [
    "nm=driver.find_elements_by_xpath(\"//div[@class='personName']\")\n",
    "name=[]\n",
    "for i in nm:\n",
    "    name.append(i.text)"
   ]
  },
  {
   "cell_type": "code",
   "execution_count": 51,
   "metadata": {},
   "outputs": [],
   "source": [
    "worth= driver.find_elements_by_xpath(\"//div[@class='netWorth']\")\n",
    "n_worth=[]\n",
    "for i in worth:\n",
    "    n_worth.append(i.text)"
   ]
  },
  {
   "cell_type": "code",
   "execution_count": 52,
   "metadata": {},
   "outputs": [],
   "source": [
    "citz= driver.find_elements_by_xpath(\"//div[@class='countryOfCitizenship']\")\n",
    "citzn=[]\n",
    "for i in citz:\n",
    "    citzn.append(i.text)"
   ]
  },
  {
   "cell_type": "code",
   "execution_count": 53,
   "metadata": {},
   "outputs": [],
   "source": [
    "src_t= driver.find_elements_by_xpath(\"//div[@class='source-column']\")\n",
    "src=[]\n",
    "for i in src_t:\n",
    "    src.append(i.text)"
   ]
  },
  {
   "cell_type": "code",
   "execution_count": 54,
   "metadata": {},
   "outputs": [],
   "source": [
    "rnk_t= driver.find_elements_by_xpath(\"//div[@class='rank']\")\n",
    "rnk=[]\n",
    "for i in rnk_t:\n",
    "    rnk.append(i.text)"
   ]
  },
  {
   "cell_type": "code",
   "execution_count": 55,
   "metadata": {},
   "outputs": [
    {
     "data": {
      "text/html": [
       "<div>\n",
       "<style scoped>\n",
       "    .dataframe tbody tr th:only-of-type {\n",
       "        vertical-align: middle;\n",
       "    }\n",
       "\n",
       "    .dataframe tbody tr th {\n",
       "        vertical-align: top;\n",
       "    }\n",
       "\n",
       "    .dataframe thead th {\n",
       "        text-align: right;\n",
       "    }\n",
       "</style>\n",
       "<table border=\"1\" class=\"dataframe\">\n",
       "  <thead>\n",
       "    <tr style=\"text-align: right;\">\n",
       "      <th></th>\n",
       "      <th>Rank</th>\n",
       "      <th>Name</th>\n",
       "      <th>Citezenship</th>\n",
       "      <th>Source</th>\n",
       "    </tr>\n",
       "  </thead>\n",
       "  <tbody>\n",
       "    <tr>\n",
       "      <th>0</th>\n",
       "      <td>1.</td>\n",
       "      <td>Jeff Bezos</td>\n",
       "      <td>United States</td>\n",
       "      <td>Amazon</td>\n",
       "    </tr>\n",
       "    <tr>\n",
       "      <th>1</th>\n",
       "      <td>2.</td>\n",
       "      <td>Elon Musk</td>\n",
       "      <td>United States</td>\n",
       "      <td>Tesla, SpaceX</td>\n",
       "    </tr>\n",
       "    <tr>\n",
       "      <th>2</th>\n",
       "      <td>3.</td>\n",
       "      <td>Bernard Arnault &amp; family</td>\n",
       "      <td>France</td>\n",
       "      <td>LVMH</td>\n",
       "    </tr>\n",
       "    <tr>\n",
       "      <th>3</th>\n",
       "      <td>4.</td>\n",
       "      <td>Bill Gates</td>\n",
       "      <td>United States</td>\n",
       "      <td>Microsoft</td>\n",
       "    </tr>\n",
       "    <tr>\n",
       "      <th>4</th>\n",
       "      <td>5.</td>\n",
       "      <td>Mark Zuckerberg</td>\n",
       "      <td>United States</td>\n",
       "      <td>Facebook</td>\n",
       "    </tr>\n",
       "  </tbody>\n",
       "</table>\n",
       "</div>"
      ],
      "text/plain": [
       "  Rank                      Name    Citezenship         Source\n",
       "0   1.                Jeff Bezos  United States         Amazon\n",
       "1   2.                 Elon Musk  United States  Tesla, SpaceX\n",
       "2   3.  Bernard Arnault & family         France           LVMH\n",
       "3   4.                Bill Gates  United States      Microsoft\n",
       "4   5.           Mark Zuckerberg  United States       Facebook"
      ]
     },
     "execution_count": 55,
     "metadata": {},
     "output_type": "execute_result"
    }
   ],
   "source": [
    "billionaires=pd.DataFrame()\n",
    "billionaires[\"Rank\"]=rnk\n",
    "billionaires[\"Name\"]=name\n",
    "billionaires[\"Citezenship\"]=citzn\n",
    "billionaires[\"Source\"]=src\n",
    "billionaires.head()"
   ]
  },
  {
   "cell_type": "markdown",
   "metadata": {},
   "source": [
    "9. Write a program to extract at least 500 Comments, Comment upvote and time when comment was posted from any YouTube Video."
   ]
  },
  {
   "cell_type": "code",
   "execution_count": 56,
   "metadata": {},
   "outputs": [],
   "source": [
    "url=\"https://www.youtube.com\"\n",
    "driver.get(url)"
   ]
  },
  {
   "cell_type": "code",
   "execution_count": 57,
   "metadata": {},
   "outputs": [],
   "source": [
    "vid=driver.find_element_by_xpath(\"/html/body/ytd-app/div/ytd-page-manager/ytd-browse/ytd-two-column-browse-results-renderer/div[1]/ytd-rich-grid-renderer/div[6]/ytd-rich-section-renderer[1]/div/ytd-rich-shelf-renderer/div[1]/div[2]/ytd-rich-item-renderer[1]/div/ytd-rich-grid-media/div[1]/div\")\n",
    "vid.click()"
   ]
  },
  {
   "cell_type": "code",
   "execution_count": 58,
   "metadata": {},
   "outputs": [],
   "source": [
    "cmnt=driver.find_elements_by_id(\"content-text\")\n",
    "comnt=[]\n",
    "for i in cmnt:\n",
    "    comnt.append(i.text)"
   ]
  },
  {
   "cell_type": "code",
   "execution_count": 59,
   "metadata": {},
   "outputs": [],
   "source": [
    "vote=driver.find_elements_by_id(\"vote-count-middle\")\n",
    "upvote=[]\n",
    "for i in vote:\n",
    "    upvote.append(i.text)"
   ]
  },
  {
   "cell_type": "code",
   "execution_count": 60,
   "metadata": {},
   "outputs": [],
   "source": [
    "time_t=driver.find_elements_by_xpath(\"//a[@class='yt-simple-endpoint style-scope yt-formatted-string']\")\n",
    "time=[]\n",
    "for i in time_t:\n",
    "    time.append(i.text)"
   ]
  },
  {
   "cell_type": "markdown",
   "metadata": {},
   "source": [
    "10. Write a python program to scrape a data for all available Hostels from https://www.hostelworld.com/ in “London” location. You have to scrape hostel name, distance from city centre, ratings, total reviews, overall reviews, privates from price, dorms from price, facilities and property description."
   ]
  },
  {
   "cell_type": "code",
   "execution_count": 61,
   "metadata": {},
   "outputs": [],
   "source": [
    "url=\"https://www.hostelworld.com/\"\n",
    "driver.get(url)"
   ]
  },
  {
   "cell_type": "code",
   "execution_count": 63,
   "metadata": {},
   "outputs": [],
   "source": [
    "loc= driver.find_element_by_id(\"search-input-field\")\n",
    "loc.send_keys(\"London\")"
   ]
  },
  {
   "cell_type": "code",
   "execution_count": 64,
   "metadata": {},
   "outputs": [],
   "source": [
    "btn=driver.find_element_by_xpath(\"/html/body/div[1]/div/div/div[1]/div[1]/div/div[2]/div[4]/div/div[2]/div/div[1]/div/div/ul/li[2]/div\")\n",
    "btn.click()"
   ]
  },
  {
   "cell_type": "code",
   "execution_count": 65,
   "metadata": {},
   "outputs": [],
   "source": [
    "search_btn=driver.find_element_by_id(\"search-button\")\n",
    "search_btn.click()"
   ]
  },
  {
   "cell_type": "code",
   "execution_count": 66,
   "metadata": {},
   "outputs": [],
   "source": [
    "nm=driver.find_elements_by_xpath(\"//h2[@class='title title-6']\")\n",
    "name=[]\n",
    "for i in nm:\n",
    "    name.append(i.text)"
   ]
  },
  {
   "cell_type": "code",
   "execution_count": 67,
   "metadata": {},
   "outputs": [],
   "source": [
    "dist=driver.find_elements_by_xpath(\"//span[@class='description']\")\n",
    "distnc=[]\n",
    "for i in dist:\n",
    "    distnc.append(i.text)"
   ]
  },
  {
   "cell_type": "code",
   "execution_count": 68,
   "metadata": {},
   "outputs": [],
   "source": [
    "ovral=driver.find_elements_by_xpath(\"//div[@class='keyword']\")\n",
    "overall=[]\n",
    "for i in ovral:\n",
    "    overall.append(i.text)"
   ]
  },
  {
   "cell_type": "code",
   "execution_count": 69,
   "metadata": {},
   "outputs": [],
   "source": [
    "rtng=driver.find_elements_by_xpath(\"//div[@class='reviews']\")\n",
    "rating=[]\n",
    "for i in rtng:\n",
    "    rating.append(i.text)"
   ]
  },
  {
   "cell_type": "code",
   "execution_count": 71,
   "metadata": {},
   "outputs": [],
   "source": [
    "prc=driver.find_elements_by_xpath(\"//div[@class='reviews' and @class='no-price body-3 no-privates' and @class='no-price body-3 no-dorms']\")\n",
    "price=[]\n",
    "for i in prc:\n",
    "    price.append(i.text)"
   ]
  },
  {
   "cell_type": "code",
   "execution_count": 74,
   "metadata": {},
   "outputs": [
    {
     "data": {
      "text/html": [
       "<div>\n",
       "<style scoped>\n",
       "    .dataframe tbody tr th:only-of-type {\n",
       "        vertical-align: middle;\n",
       "    }\n",
       "\n",
       "    .dataframe tbody tr th {\n",
       "        vertical-align: top;\n",
       "    }\n",
       "\n",
       "    .dataframe thead th {\n",
       "        text-align: right;\n",
       "    }\n",
       "</style>\n",
       "<table border=\"1\" class=\"dataframe\">\n",
       "  <thead>\n",
       "    <tr style=\"text-align: right;\">\n",
       "      <th></th>\n",
       "      <th>Name</th>\n",
       "      <th>Distance</th>\n",
       "      <th>Overall_Review</th>\n",
       "      <th>Number_of_review</th>\n",
       "    </tr>\n",
       "  </thead>\n",
       "  <tbody>\n",
       "  </tbody>\n",
       "</table>\n",
       "</div>"
      ],
      "text/plain": [
       "Empty DataFrame\n",
       "Columns: [Name, Distance, Overall_Review, Number_of_review]\n",
       "Index: []"
      ]
     },
     "execution_count": 74,
     "metadata": {},
     "output_type": "execute_result"
    }
   ],
   "source": [
    "hostels=pd.DataFrame()\n",
    "hostels[\"Name\"]=name\n",
    "hostels[\"Distance\"]=dist\n",
    "hostels[\"Overall_Review\"]=overall\n",
    "hostels[\"Number_of_review\"]=rating\n",
    "hostels.head()"
   ]
  },
  {
   "cell_type": "code",
   "execution_count": null,
   "metadata": {},
   "outputs": [],
   "source": []
  }
 ],
 "metadata": {
  "kernelspec": {
   "display_name": "Python 3",
   "language": "python",
   "name": "python3"
  },
  "language_info": {
   "codemirror_mode": {
    "name": "ipython",
    "version": 3
   },
   "file_extension": ".py",
   "mimetype": "text/x-python",
   "name": "python",
   "nbconvert_exporter": "python",
   "pygments_lexer": "ipython3",
   "version": "3.8.8"
  }
 },
 "nbformat": 4,
 "nbformat_minor": 2
}
