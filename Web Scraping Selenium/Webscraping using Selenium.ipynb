{
 "cells": [
  {
   "cell_type": "markdown",
   "id": "8bf025cd",
   "metadata": {},
   "source": [
    "### Q1: Write a python program to scrape data for “Data Analyst” Job position in “Bangalore” location. You have to scrape the job-title, job-location, company_name, experience_required. "
   ]
  },
  {
   "cell_type": "code",
   "execution_count": 1,
   "id": "5c2db791",
   "metadata": {},
   "outputs": [
    {
     "data": {
      "text/plain": [
       "1"
      ]
     },
     "execution_count": 1,
     "metadata": {},
     "output_type": "execute_result"
    }
   ],
   "source": [
    "a=1\n",
    "a"
   ]
  },
  {
   "cell_type": "code",
   "execution_count": 1,
   "id": "b2eeaaa3",
   "metadata": {},
   "outputs": [
    {
     "data": {
      "text/plain": [
       "2"
      ]
     },
     "execution_count": 1,
     "metadata": {},
     "output_type": "execute_result"
    }
   ],
   "source": [
    "b=2\n",
    "b"
   ]
  },
  {
   "cell_type": "code",
   "execution_count": 1,
   "id": "01674596",
   "metadata": {},
   "outputs": [
    {
     "name": "stdout",
     "output_type": "stream",
     "text": [
      "Requirement already satisfied: selenium in c:\\users\\krunal\\anaconda3\\lib\\site-packages (3.141.0)\n",
      "Requirement already satisfied: urllib3 in c:\\users\\krunal\\anaconda3\\lib\\site-packages (from selenium) (1.26.4)\n"
     ]
    }
   ],
   "source": [
    "!pip install selenium"
   ]
  },
  {
   "cell_type": "code",
   "execution_count": 2,
   "id": "47556310",
   "metadata": {},
   "outputs": [],
   "source": [
    "import pandas as pd\n",
    "import selenium\n",
    "from selenium import webdriver"
   ]
  },
  {
   "cell_type": "code",
   "execution_count": 3,
   "id": "5c40e2ca",
   "metadata": {},
   "outputs": [],
   "source": [
    "driver=webdriver.Chrome(\"chromedriver.exe\")"
   ]
  },
  {
   "cell_type": "code",
   "execution_count": 4,
   "id": "993d0592",
   "metadata": {},
   "outputs": [],
   "source": [
    "url='https://www.naukri.com/'\n",
    "driver.get(url)"
   ]
  },
  {
   "cell_type": "code",
   "execution_count": 5,
   "id": "42680bbb",
   "metadata": {},
   "outputs": [],
   "source": [
    "search_job=driver.find_element_by_id(\"qsb-keyword-sugg\")\n",
    "search_job.send_keys(\"Data Analyst\")"
   ]
  },
  {
   "cell_type": "code",
   "execution_count": 6,
   "id": "1be4d352",
   "metadata": {},
   "outputs": [],
   "source": [
    "search_loc=driver.find_element_by_id(\"qsb-location-sugg\")\n",
    "search_loc.send_keys(\"Bangalore\")"
   ]
  },
  {
   "cell_type": "code",
   "execution_count": 7,
   "id": "32baadd1",
   "metadata": {},
   "outputs": [],
   "source": [
    "search_btn=driver.find_element_by_xpath(\"//button[@class='btn']\")\n",
    "search_btn.click()"
   ]
  },
  {
   "cell_type": "code",
   "execution_count": 8,
   "id": "6e5750df",
   "metadata": {},
   "outputs": [
    {
     "data": {
      "text/plain": [
       "['Data Scientist / Data Analyst -Business Analyst',\n",
       " 'Junior Data Analyst',\n",
       " 'Junior Data Analyst',\n",
       " 'Network Design & Data Analyst',\n",
       " 'Data analysts',\n",
       " 'Data Analyst',\n",
       " 'Excel VBA Jobs Bangalore | VBA data analyst Jobs',\n",
       " 'Consultant - Data Analyst',\n",
       " 'Assistant Vice President - MIS & Reporting ( Business Data Analyst)',\n",
       " 'Data Analyst',\n",
       " 'Data Analyst',\n",
       " 'Data Analyst Azure',\n",
       " 'Urgently Looking For Data Analyst',\n",
       " 'Business Data Analyst - MIS & Reporting',\n",
       " 'Senior Security Specialist - CS Awareness & Data Analyst',\n",
       " 'Data Analyst',\n",
       " 'Data Analyst',\n",
       " 'Market Data Business Analyst,',\n",
       " 'Senior Data Analyst Python, ML - Bangalore',\n",
       " 'Software Developer / Web Developer/data analyst']"
      ]
     },
     "execution_count": 8,
     "metadata": {},
     "output_type": "execute_result"
    }
   ],
   "source": [
    "title_tags=driver.find_elements_by_xpath(\"//a[@class='title fw500 ellipsis']\")\n",
    "\n",
    "job_titles=[]\n",
    "for i in title_tags:\n",
    "    job_titles.append(i.text)\n",
    "job_titles\n"
   ]
  },
  {
   "cell_type": "code",
   "execution_count": 14,
   "id": "364c094e",
   "metadata": {},
   "outputs": [
    {
     "data": {
      "text/plain": [
       "['Hyderabad/Secunderabad, Chennai, Bangalore/Bengaluru',\n",
       " 'Bangalore/Bengaluru(Sector 2 HSR Layout)',\n",
       " 'Bangalore/Bengaluru(Sector 2 HSR Layout)',\n",
       " 'Bangalore/Bengaluru',\n",
       " 'Bangalore/Bengaluru',\n",
       " 'Lucknow, Bangalore/Bengaluru',\n",
       " 'Coimbatore, Bangalore/Bengaluru, Trivandrum/Thiruvananthapuram',\n",
       " 'Bangalore/Bengaluru',\n",
       " 'Mumbai, Bangalore/Bengaluru',\n",
       " 'Bangalore/Bengaluru',\n",
       " 'Bangalore/Bengaluru',\n",
       " 'Bangalore/Bengaluru',\n",
       " 'Bangalore/Bengaluru',\n",
       " 'Mumbai, Bangalore/Bengaluru',\n",
       " 'Bangalore/Bengaluru',\n",
       " 'Bangalore/Bengaluru',\n",
       " 'Bangalore/Bengaluru',\n",
       " 'Bangalore/Bengaluru',\n",
       " 'Bangalore/Bengaluru, Bangalore',\n",
       " 'Hyderabad/Secunderabad, Bangalore/Bengaluru']"
      ]
     },
     "execution_count": 14,
     "metadata": {},
     "output_type": "execute_result"
    }
   ],
   "source": [
    "location=driver.find_elements_by_xpath(\"//li[@class='fleft grey-text br2 placeHolderLi location']//span[1]\")\n",
    "\n",
    "job_location=[]\n",
    "for i in location:\n",
    "    job_location.append(i.text)\n",
    "job_location"
   ]
  },
  {
   "cell_type": "code",
   "execution_count": 10,
   "id": "6a472eca",
   "metadata": {},
   "outputs": [
    {
     "data": {
      "text/plain": [
       "['Inflexion Analytix Private Limited',\n",
       " 'Simplilearn',\n",
       " 'Simplilearn',\n",
       " 'Dell International Services India Private Limited',\n",
       " 'IBM India Pvt. Limited',\n",
       " 'CARNATION INFOTECH PRIVATE LIMITED',\n",
       " 'Mind Circus Innovation',\n",
       " 'Flipkart Internet Private Limited',\n",
       " 'INTERTRUSTVITEOS CORPORATE AND FUND SERVICES PVT. LTD.',\n",
       " 'Flipkart Internet Private Limited',\n",
       " 'Uber',\n",
       " 'CONDUENT BUSINESS SERVICES INDIA LLP',\n",
       " 'Flipkart Internet Private Limited',\n",
       " 'INTERTRUST GROUP',\n",
       " 'Cognizant Technology Solutions India Pvt Ltd',\n",
       " 'Clarivate Analytics',\n",
       " 'Clarivate Analytics (TRCPL Projects Pvt Ltd.)',\n",
       " 'Luxoft',\n",
       " '2coms',\n",
       " 'Edubridgeindia']"
      ]
     },
     "execution_count": 10,
     "metadata": {},
     "output_type": "execute_result"
    }
   ],
   "source": [
    "company_name=driver.find_elements_by_xpath(\"//a[@class='subTitle ellipsis fleft']\")\n",
    "\n",
    "company_names=[]\n",
    "for i in company_name:\n",
    "    company_names.append(i.text)\n",
    "company_names"
   ]
  },
  {
   "cell_type": "code",
   "execution_count": 11,
   "id": "589c9422",
   "metadata": {},
   "outputs": [
    {
     "data": {
      "text/plain": [
       "['0-3 Yrs',\n",
       " '0-2 Yrs',\n",
       " '0-2 Yrs',\n",
       " '0-2 Yrs',\n",
       " '5-10 Yrs',\n",
       " '0-5 Yrs',\n",
       " '0-2 Yrs',\n",
       " '0-2 Yrs',\n",
       " '10-15 Yrs',\n",
       " '3-5 Yrs',\n",
       " '1-3 Yrs',\n",
       " '3-6 Yrs',\n",
       " '2-3 Yrs',\n",
       " '3-8 Yrs',\n",
       " '4-7 Yrs',\n",
       " '1-2 Yrs',\n",
       " '1-2 Yrs',\n",
       " '2-6 Yrs',\n",
       " '2-7 Yrs',\n",
       " '0-1 Yrs']"
      ]
     },
     "execution_count": 11,
     "metadata": {},
     "output_type": "execute_result"
    }
   ],
   "source": [
    "exp=driver.find_elements_by_xpath(\"//li[@class='fleft grey-text br2 placeHolderLi experience']//span\")\n",
    "\n",
    "experience=[]\n",
    "for i in exp:\n",
    "    experience.append(i.text)\n",
    "experience"
   ]
  },
  {
   "cell_type": "code",
   "execution_count": 15,
   "id": "6c874b91",
   "metadata": {},
   "outputs": [
    {
     "data": {
      "text/html": [
       "<div>\n",
       "<style scoped>\n",
       "    .dataframe tbody tr th:only-of-type {\n",
       "        vertical-align: middle;\n",
       "    }\n",
       "\n",
       "    .dataframe tbody tr th {\n",
       "        vertical-align: top;\n",
       "    }\n",
       "\n",
       "    .dataframe thead th {\n",
       "        text-align: right;\n",
       "    }\n",
       "</style>\n",
       "<table border=\"1\" class=\"dataframe\">\n",
       "  <thead>\n",
       "    <tr style=\"text-align: right;\">\n",
       "      <th></th>\n",
       "      <th>Job Title</th>\n",
       "      <th>Location</th>\n",
       "      <th>Company Name</th>\n",
       "      <th>Experience Required</th>\n",
       "    </tr>\n",
       "  </thead>\n",
       "  <tbody>\n",
       "    <tr>\n",
       "      <th>0</th>\n",
       "      <td>Data Scientist / Data Analyst -Business Analyst</td>\n",
       "      <td>Hyderabad/Secunderabad, Chennai, Bangalore/Ben...</td>\n",
       "      <td>Inflexion Analytix Private Limited</td>\n",
       "      <td>0-3 Yrs</td>\n",
       "    </tr>\n",
       "    <tr>\n",
       "      <th>1</th>\n",
       "      <td>Junior Data Analyst</td>\n",
       "      <td>Bangalore/Bengaluru(Sector 2 HSR Layout)</td>\n",
       "      <td>Simplilearn</td>\n",
       "      <td>0-2 Yrs</td>\n",
       "    </tr>\n",
       "    <tr>\n",
       "      <th>2</th>\n",
       "      <td>Junior Data Analyst</td>\n",
       "      <td>Bangalore/Bengaluru(Sector 2 HSR Layout)</td>\n",
       "      <td>Simplilearn</td>\n",
       "      <td>0-2 Yrs</td>\n",
       "    </tr>\n",
       "    <tr>\n",
       "      <th>3</th>\n",
       "      <td>Network Design &amp; Data Analyst</td>\n",
       "      <td>Bangalore/Bengaluru</td>\n",
       "      <td>Dell International Services India Private Limited</td>\n",
       "      <td>0-2 Yrs</td>\n",
       "    </tr>\n",
       "    <tr>\n",
       "      <th>4</th>\n",
       "      <td>Data analysts</td>\n",
       "      <td>Bangalore/Bengaluru</td>\n",
       "      <td>IBM India Pvt. Limited</td>\n",
       "      <td>5-10 Yrs</td>\n",
       "    </tr>\n",
       "    <tr>\n",
       "      <th>5</th>\n",
       "      <td>Data Analyst</td>\n",
       "      <td>Lucknow, Bangalore/Bengaluru</td>\n",
       "      <td>CARNATION INFOTECH PRIVATE LIMITED</td>\n",
       "      <td>0-5 Yrs</td>\n",
       "    </tr>\n",
       "    <tr>\n",
       "      <th>6</th>\n",
       "      <td>Excel VBA Jobs Bangalore | VBA data analyst Jobs</td>\n",
       "      <td>Coimbatore, Bangalore/Bengaluru, Trivandrum/Th...</td>\n",
       "      <td>Mind Circus Innovation</td>\n",
       "      <td>0-2 Yrs</td>\n",
       "    </tr>\n",
       "    <tr>\n",
       "      <th>7</th>\n",
       "      <td>Consultant - Data Analyst</td>\n",
       "      <td>Bangalore/Bengaluru</td>\n",
       "      <td>Flipkart Internet Private Limited</td>\n",
       "      <td>0-2 Yrs</td>\n",
       "    </tr>\n",
       "    <tr>\n",
       "      <th>8</th>\n",
       "      <td>Assistant Vice President - MIS &amp; Reporting ( B...</td>\n",
       "      <td>Mumbai, Bangalore/Bengaluru</td>\n",
       "      <td>INTERTRUSTVITEOS CORPORATE AND FUND SERVICES P...</td>\n",
       "      <td>10-15 Yrs</td>\n",
       "    </tr>\n",
       "    <tr>\n",
       "      <th>9</th>\n",
       "      <td>Data Analyst</td>\n",
       "      <td>Bangalore/Bengaluru</td>\n",
       "      <td>Flipkart Internet Private Limited</td>\n",
       "      <td>3-5 Yrs</td>\n",
       "    </tr>\n",
       "  </tbody>\n",
       "</table>\n",
       "</div>"
      ],
      "text/plain": [
       "                                           Job Title  \\\n",
       "0    Data Scientist / Data Analyst -Business Analyst   \n",
       "1                                Junior Data Analyst   \n",
       "2                                Junior Data Analyst   \n",
       "3                      Network Design & Data Analyst   \n",
       "4                                      Data analysts   \n",
       "5                                       Data Analyst   \n",
       "6   Excel VBA Jobs Bangalore | VBA data analyst Jobs   \n",
       "7                          Consultant - Data Analyst   \n",
       "8  Assistant Vice President - MIS & Reporting ( B...   \n",
       "9                                       Data Analyst   \n",
       "\n",
       "                                            Location  \\\n",
       "0  Hyderabad/Secunderabad, Chennai, Bangalore/Ben...   \n",
       "1           Bangalore/Bengaluru(Sector 2 HSR Layout)   \n",
       "2           Bangalore/Bengaluru(Sector 2 HSR Layout)   \n",
       "3                                Bangalore/Bengaluru   \n",
       "4                                Bangalore/Bengaluru   \n",
       "5                       Lucknow, Bangalore/Bengaluru   \n",
       "6  Coimbatore, Bangalore/Bengaluru, Trivandrum/Th...   \n",
       "7                                Bangalore/Bengaluru   \n",
       "8                        Mumbai, Bangalore/Bengaluru   \n",
       "9                                Bangalore/Bengaluru   \n",
       "\n",
       "                                        Company Name Experience Required  \n",
       "0                 Inflexion Analytix Private Limited             0-3 Yrs  \n",
       "1                                        Simplilearn             0-2 Yrs  \n",
       "2                                        Simplilearn             0-2 Yrs  \n",
       "3  Dell International Services India Private Limited             0-2 Yrs  \n",
       "4                             IBM India Pvt. Limited            5-10 Yrs  \n",
       "5                 CARNATION INFOTECH PRIVATE LIMITED             0-5 Yrs  \n",
       "6                             Mind Circus Innovation             0-2 Yrs  \n",
       "7                  Flipkart Internet Private Limited             0-2 Yrs  \n",
       "8  INTERTRUSTVITEOS CORPORATE AND FUND SERVICES P...           10-15 Yrs  \n",
       "9                  Flipkart Internet Private Limited             3-5 Yrs  "
      ]
     },
     "execution_count": 15,
     "metadata": {},
     "output_type": "execute_result"
    }
   ],
   "source": [
    "jobs=pd.DataFrame({})\n",
    "jobs['Job Title']=job_titles\n",
    "jobs['Location']=job_location\n",
    "jobs['Company Name']=company_names\n",
    "jobs['Experience Required']=experience\n",
    "jobs.head(10)"
   ]
  },
  {
   "cell_type": "markdown",
   "id": "7164d399",
   "metadata": {},
   "source": [
    "### Q2: Write a python program to scrape data for “Data Scientist” Job position in “Bangalore” location. You have to scrape the job-title, job-location, company_name, full job-description."
   ]
  },
  {
   "cell_type": "code",
   "execution_count": 16,
   "id": "7e516b60",
   "metadata": {},
   "outputs": [
    {
     "name": "stdout",
     "output_type": "stream",
     "text": [
      "Requirement already satisfied: selenium in c:\\users\\krunal\\anaconda3\\lib\\site-packages (3.141.0)\n",
      "Requirement already satisfied: urllib3 in c:\\users\\krunal\\anaconda3\\lib\\site-packages (from selenium) (1.26.4)\n"
     ]
    }
   ],
   "source": [
    "!pip install selenium"
   ]
  },
  {
   "cell_type": "code",
   "execution_count": 2,
   "id": "c64735d4",
   "metadata": {},
   "outputs": [],
   "source": [
    "import pandas as pd\n",
    "import selenium\n",
    "from selenium import webdriver"
   ]
  },
  {
   "cell_type": "code",
   "execution_count": 3,
   "id": "986fb02f",
   "metadata": {},
   "outputs": [],
   "source": [
    "driver=webdriver.Chrome(\"chromedriver.exe\")"
   ]
  },
  {
   "cell_type": "code",
   "execution_count": 4,
   "id": "17acbc50",
   "metadata": {},
   "outputs": [],
   "source": [
    "url='https://www.naukri.com/'\n",
    "driver.get(url)"
   ]
  },
  {
   "cell_type": "code",
   "execution_count": 5,
   "id": "b7b29fa8",
   "metadata": {},
   "outputs": [],
   "source": [
    "search_job=driver.find_element_by_id(\"qsb-keyword-sugg\")\n",
    "search_job.send_keys(\"Data Scientist\")"
   ]
  },
  {
   "cell_type": "code",
   "execution_count": 6,
   "id": "006f2ddc",
   "metadata": {},
   "outputs": [],
   "source": [
    "search_loc=driver.find_element_by_id(\"qsb-location-sugg\")\n",
    "search_loc.send_keys(\"Bangalore\")"
   ]
  },
  {
   "cell_type": "code",
   "execution_count": 7,
   "id": "50a88682",
   "metadata": {},
   "outputs": [],
   "source": [
    "search_btn=driver.find_element_by_xpath(\"//button[@class='btn']\")\n",
    "search_btn.click()"
   ]
  },
  {
   "cell_type": "code",
   "execution_count": 8,
   "id": "0f92d7ab",
   "metadata": {},
   "outputs": [
    {
     "data": {
      "text/plain": [
       "['Senior Data Scientist',\n",
       " 'Lead Data Scientist',\n",
       " 'Data Scientist / Data Analyst -Business Analyst',\n",
       " 'Data Scientist',\n",
       " 'Data Scientist',\n",
       " 'Data Scientist: Advanced Analytics',\n",
       " 'Senior Data Scientist',\n",
       " 'Data Scientist',\n",
       " 'Data Scientist 2',\n",
       " 'Data Scientist 2',\n",
       " 'Hiring Data Scientist',\n",
       " 'Data Scientist',\n",
       " 'Data Scientist',\n",
       " 'Data Scientist - Python/Machine Learning',\n",
       " 'Data Scientist - SQL/R/Python',\n",
       " 'Senior Data Scientist',\n",
       " 'EXL - Senior Data Scientist, 5+ yrs, Mumbai / PUNE / BLR / Chennai',\n",
       " 'Senior Data Scientist',\n",
       " 'Sr Data Scientist',\n",
       " 'Sr Data Scientist']"
      ]
     },
     "execution_count": 8,
     "metadata": {},
     "output_type": "execute_result"
    }
   ],
   "source": [
    "title_tags=driver.find_elements_by_xpath(\"//a[@class='title fw500 ellipsis']\")\n",
    "\n",
    "job_titles=[]\n",
    "for i in title_tags:\n",
    "    job_titles.append(i.text)\n",
    "job_titles"
   ]
  },
  {
   "cell_type": "code",
   "execution_count": 9,
   "id": "eb36c29a",
   "metadata": {},
   "outputs": [
    {
     "data": {
      "text/plain": [
       "['Bangalore/Bengaluru',\n",
       " 'Bangalore/Bengaluru',\n",
       " 'Hyderabad/Secunderabad, Chennai, Bangalore/Bengaluru',\n",
       " 'Bangalore/Bengaluru',\n",
       " 'Noida, Bangalore/Bengaluru',\n",
       " 'Bangalore/Bengaluru',\n",
       " 'Hyderabad/Secunderabad, Gurgaon/Gurugram, Bangalore/Bengaluru',\n",
       " 'Bangalore/Bengaluru',\n",
       " 'Bangalore/Bengaluru',\n",
       " 'Bangalore/Bengaluru',\n",
       " 'Bangalore/Bengaluru(5th block Koramangala)',\n",
       " 'Bangalore/Bengaluru',\n",
       " 'Bangalore/Bengaluru',\n",
       " 'Bangalore/Bengaluru',\n",
       " 'Bangalore/Bengaluru',\n",
       " 'Bangalore/Bengaluru',\n",
       " 'Pune, Chennai, Bangalore/Bengaluru, Delhi / NCR',\n",
       " 'Bangalore/Bengaluru',\n",
       " 'Bangalore/Bengaluru',\n",
       " 'Bangalore/Bengaluru']"
      ]
     },
     "execution_count": 9,
     "metadata": {},
     "output_type": "execute_result"
    }
   ],
   "source": [
    "location=driver.find_elements_by_xpath(\"//li[@class='fleft grey-text br2 placeHolderLi location']//span\")\n",
    "\n",
    "job_location=[]\n",
    "for i in location:\n",
    "    job_location.append(i.text)\n",
    "job_location"
   ]
  },
  {
   "cell_type": "code",
   "execution_count": 10,
   "id": "036588cd",
   "metadata": {},
   "outputs": [
    {
     "data": {
      "text/plain": [
       "['Flipkart Internet Private Limited',\n",
       " 'bd',\n",
       " 'Inflexion Analytix Private Limited',\n",
       " 'Flipkart Internet Private Limited',\n",
       " 'Oracle India Pvt. Ltd.',\n",
       " 'IBM India Pvt. Limited',\n",
       " 'inVentiv International Pharma Services Pvt. Ltd.',\n",
       " 'Applied Materials',\n",
       " 'Gojek Tech',\n",
       " 'GO-JEK India',\n",
       " 'IHX private limited',\n",
       " 'IBM India Pvt. Limited',\n",
       " 'IBM India Pvt. Limited',\n",
       " 'Exploro Solutions',\n",
       " 'iMindYourBusiness',\n",
       " '24/7 Customer',\n",
       " 'EXL Service',\n",
       " 'Superior Group',\n",
       " 'FabHotel Aay Kay Model Town',\n",
       " 'Baker Hughes Incorporated']"
      ]
     },
     "execution_count": 10,
     "metadata": {},
     "output_type": "execute_result"
    }
   ],
   "source": [
    "company_name=driver.find_elements_by_xpath(\"//a[@class='subTitle ellipsis fleft']\")\n",
    "\n",
    "company_names=[]\n",
    "for i in company_name:\n",
    "    company_names.append(i.text)\n",
    "company_names"
   ]
  },
  {
   "cell_type": "code",
   "execution_count": 12,
   "id": "fb5f1ab4",
   "metadata": {},
   "outputs": [
    {
     "data": {
      "text/plain": [
       "['https://www.naukri.com/job-listings-senior-data-scientist-flipkart-internet-private-limited-bangalore-bengaluru-5-to-10-years-090721908235?src=jobsearchDesk&sid=16260119146701604&xp=1&px=1',\n",
       " 'https://www.naukri.com/job-listings-lead-data-scientist-bd-bangalore-bengaluru-2-to-7-years-090721501722?src=jobsearchDesk&sid=16260119146701604&xp=2&px=1',\n",
       " 'https://www.naukri.com/job-listings-data-scientist-data-analyst-business-analyst-inflexion-analytix-private-limited-hyderabad-secunderabad-chennai-bangalore-bengaluru-0-to-3-years-020721003625?src=jobsearchDesk&sid=16260119146701604&xp=3&px=1',\n",
       " 'https://www.naukri.com/job-listings-data-scientist-flipkart-internet-private-limited-bangalore-bengaluru-0-to-5-years-080721904425?src=jobsearchDesk&sid=16260119146701604&xp=4&px=1',\n",
       " 'https://www.naukri.com/job-listings-data-scientist-oracle-india-pvt-ltd-noida-bangalore-bengaluru-5-to-9-years-010621004567?src=jobsearchDesk&sid=16260119146701604&xp=5&px=1',\n",
       " 'https://www.naukri.com/job-listings-data-scientist-advanced-analytics-ibm-india-pvt-limited-bangalore-bengaluru-5-to-10-years-090721906161?src=jobsearchDesk&sid=16260119146701604&xp=6&px=1',\n",
       " 'https://www.naukri.com/job-listings-senior-data-scientist-inventiv-international-pharma-services-pvt-ltd-hyderabad-secunderabad-gurgaon-gurugram-bangalore-bengaluru-3-to-6-years-090721000064?src=jobsearchDesk&sid=16260119146701604&xp=7&px=1',\n",
       " 'https://www.naukri.com/job-listings-data-scientist-applied-materials-india-private-limited-bangalore-bengaluru-5-to-10-years-090721902434?src=jobsearchDesk&sid=16260119146701604&xp=8&px=1',\n",
       " 'https://www.naukri.com/job-listings-data-scientist-2-gojek-tech-bangalore-bengaluru-4-to-8-years-090721501896?src=jobsearchDesk&sid=16260119146701604&xp=9&px=1',\n",
       " 'https://www.naukri.com/job-listings-data-scientist-2-go-jek-india-bangalore-bengaluru-6-to-11-years-090721501884?src=jobsearchDesk&sid=16260119146701604&xp=10&px=1',\n",
       " 'https://www.naukri.com/job-listings-hiring-data-scientist-ihx-private-limited-bangalore-bengaluru-4-to-6-years-090721002695?src=jobsearchDesk&sid=16260119146701604&xp=11&px=1',\n",
       " 'https://www.naukri.com/job-listings-data-scientist-ibm-india-pvt-limited-bangalore-bengaluru-3-to-6-years-080721906014?src=jobsearchDesk&sid=16260119146701604&xp=12&px=1',\n",
       " 'https://www.naukri.com/job-listings-data-scientist-ibm-india-pvt-limited-bangalore-bengaluru-6-to-10-years-090721905332?src=jobsearchDesk&sid=16260119146701604&xp=13&px=1',\n",
       " 'https://www.naukri.com/job-listings-data-scientist-python-machine-learning-exploro-solutions-bangalore-bengaluru-5-to-10-years-100721901978?src=jobsearchDesk&sid=16260119146701604&xp=14&px=1',\n",
       " 'https://www.naukri.com/job-listings-data-scientist-sql-r-python-imindyourbusiness-bangalore-bengaluru-4-to-8-years-100721901754?src=jobsearchDesk&sid=16260119146701604&xp=15&px=1',\n",
       " 'https://www.naukri.com/job-listings-senior-data-scientist-24-7-customer-private-ltd-bangalore-bengaluru-5-to-10-years-280621501037?src=jobsearchDesk&sid=16260119146701604&xp=16&px=1',\n",
       " 'https://www.naukri.com/job-listings-exl-senior-data-scientist-5-yrs-mumbai-pune-blr-chennai-exl-service-pune-chennai-bangalore-bengaluru-delhi-ncr-5-to-10-years-080721005255?src=jobsearchDesk&sid=16260119146701604&xp=17&px=1',\n",
       " 'https://www.naukri.com/job-listings-senior-data-scientist-superior-group-bangalore-bengaluru-4-to-9-years-070721500778?src=jobsearchDesk&sid=16260119146701604&xp=18&px=1',\n",
       " 'https://www.naukri.com/job-listings-sr-data-scientist-fabhotel-aay-kay-model-town-bangalore-bengaluru-2-to-5-years-070721500535?src=jobsearchDesk&sid=16260119146701604&xp=19&px=1',\n",
       " 'https://www.naukri.com/job-listings-sr-data-scientist-baker-hughes-incorporated-bangalore-bengaluru-3-to-7-years-060721500843?src=jobsearchDesk&sid=16260119146701604&xp=20&px=1']"
      ]
     },
     "execution_count": 12,
     "metadata": {},
     "output_type": "execute_result"
    }
   ],
   "source": [
    "job_urls=[]\n",
    "\n",
    "urls=driver.find_elements_by_xpath(\"//a[@class='title fw500 ellipsis']\")\n",
    "\n",
    "for i in urls:\n",
    "    job_urls.append(i.get_attribute('href'))\n",
    "job_urls"
   ]
  },
  {
   "cell_type": "code",
   "execution_count": 30,
   "id": "c4fc0261",
   "metadata": {},
   "outputs": [
    {
     "data": {
      "text/plain": [
       "['A Senior Data Scientist in Flipkart is required to drive research and development of various Machine Learning and Statistical modules, keeping business goals and product planning at the front. The responsible person should be able to communicate and collaborate with multiple stakeholders representing various teams. The crux of the work is defined by developing innovative problem statements as well as end to end implementation of state of the art ML and statistical algorithms. The candidate is additionally expected to work proactively with a team of junior Data Scientists and guide them in various research projects with a view to publish their findings.',\n",
       " '',\n",
       " '',\n",
       " '',\n",
       " 'A consistent record of using product data to drive product, sales, and/or marketing teams to achieve ambitious goals and influencing outcomes.',\n",
       " '',\n",
       " '',\n",
       " 'Brief about the Role',\n",
       " 'Minimum Qualifications: (Specify if degree required & type, number of years of prior experience, certifications, etc.)\\nPost Graduate or MBA (preferred) OR Graduates in Engineering / Mathematics / Operations Research / Science / Statistics\\nWith atleast 5+ years experience in analytics using SQL,SAS, R or Python, basic statistical concepts and analyzing data & interpreting results to the business\\n\\n\\nProficient in data wrangling using SQL and libraries of R,Python such as Dplyr/Pandas, Pyspark etc\\nProficient in basic statistical concepts and analyzing data & interpreting results to the business\\nApplied Machine learning experience or experience in text mining, imaging mining, screen scraping and other big data techniques will be a plus',\n",
       " 'As as Senior Data Scientist, you will work in teams addressing statistical, machine learning and data understanding problems in a commercial technology and consultancy development environment. In this role, you will contribute to the development and deployment of modern machine learning, operational research, semantic analysis, and statistical methods for finding structure in large data sets.',\n",
       " 'As as Senior Data Scientist, you will work in teams addressing statistical, machine learning and data understanding problems in a commercial technology and consultancy development environment. In this role, you will contribute to the development and deployment of modern machine learning, operational research, semantic analysis, and statistical methods for finding structure in large data sets.']"
      ]
     },
     "execution_count": 30,
     "metadata": {},
     "output_type": "execute_result"
    }
   ],
   "source": [
    "job_descs1=[]\n",
    "\n",
    "for i in job_urls:\n",
    "    driver.get(i)\n",
    "    try:\n",
    "        job_desc1=driver.find_element_by_xpath(\"//div[@class='dang-inner-html']//p\")\n",
    "        job_descs1.append(job_desc1.text)\n",
    "#         job_desc1=driver.find_element_by_xpath(\"//div[@class='dang-inner-html']//p\")\n",
    "#         job_descs1.append(job_desc1.text)\n",
    "    except:\n",
    "        pass\n",
    "job_descs1"
   ]
  },
  {
   "cell_type": "code",
   "execution_count": 31,
   "id": "18661c5d",
   "metadata": {},
   "outputs": [
    {
     "data": {
      "text/html": [
       "<div>\n",
       "<style scoped>\n",
       "    .dataframe tbody tr th:only-of-type {\n",
       "        vertical-align: middle;\n",
       "    }\n",
       "\n",
       "    .dataframe tbody tr th {\n",
       "        vertical-align: top;\n",
       "    }\n",
       "\n",
       "    .dataframe thead th {\n",
       "        text-align: right;\n",
       "    }\n",
       "</style>\n",
       "<table border=\"1\" class=\"dataframe\">\n",
       "  <thead>\n",
       "    <tr style=\"text-align: right;\">\n",
       "      <th></th>\n",
       "      <th>Job Title</th>\n",
       "      <th>Location</th>\n",
       "      <th>Company Name</th>\n",
       "      <th>Job Description</th>\n",
       "    </tr>\n",
       "  </thead>\n",
       "  <tbody>\n",
       "    <tr>\n",
       "      <th>0</th>\n",
       "      <td>Senior Data Scientist</td>\n",
       "      <td>Bangalore/Bengaluru</td>\n",
       "      <td>Flipkart Internet Private Limited</td>\n",
       "      <td>A Senior Data Scientist in Flipkart is require...</td>\n",
       "    </tr>\n",
       "    <tr>\n",
       "      <th>1</th>\n",
       "      <td>Lead Data Scientist</td>\n",
       "      <td>Bangalore/Bengaluru</td>\n",
       "      <td>bd</td>\n",
       "      <td></td>\n",
       "    </tr>\n",
       "    <tr>\n",
       "      <th>2</th>\n",
       "      <td>Data Scientist / Data Analyst -Business Analyst</td>\n",
       "      <td>Hyderabad/Secunderabad, Chennai, Bangalore/Ben...</td>\n",
       "      <td>Inflexion Analytix Private Limited</td>\n",
       "      <td></td>\n",
       "    </tr>\n",
       "    <tr>\n",
       "      <th>3</th>\n",
       "      <td>Data Scientist</td>\n",
       "      <td>Bangalore/Bengaluru</td>\n",
       "      <td>Flipkart Internet Private Limited</td>\n",
       "      <td></td>\n",
       "    </tr>\n",
       "    <tr>\n",
       "      <th>4</th>\n",
       "      <td>Data Scientist</td>\n",
       "      <td>Noida, Bangalore/Bengaluru</td>\n",
       "      <td>Oracle India Pvt. Ltd.</td>\n",
       "      <td>A consistent record of using product data to d...</td>\n",
       "    </tr>\n",
       "    <tr>\n",
       "      <th>5</th>\n",
       "      <td>Data Scientist: Advanced Analytics</td>\n",
       "      <td>Bangalore/Bengaluru</td>\n",
       "      <td>IBM India Pvt. Limited</td>\n",
       "      <td></td>\n",
       "    </tr>\n",
       "    <tr>\n",
       "      <th>6</th>\n",
       "      <td>Senior Data Scientist</td>\n",
       "      <td>Hyderabad/Secunderabad, Gurgaon/Gurugram, Bang...</td>\n",
       "      <td>inVentiv International Pharma Services Pvt. Ltd.</td>\n",
       "      <td></td>\n",
       "    </tr>\n",
       "    <tr>\n",
       "      <th>7</th>\n",
       "      <td>Data Scientist</td>\n",
       "      <td>Bangalore/Bengaluru</td>\n",
       "      <td>Applied Materials</td>\n",
       "      <td>Brief about the Role</td>\n",
       "    </tr>\n",
       "    <tr>\n",
       "      <th>8</th>\n",
       "      <td>Data Scientist 2</td>\n",
       "      <td>Bangalore/Bengaluru</td>\n",
       "      <td>Gojek Tech</td>\n",
       "      <td>Minimum Qualifications: (Specify if degree req...</td>\n",
       "    </tr>\n",
       "    <tr>\n",
       "      <th>9</th>\n",
       "      <td>Data Scientist 2</td>\n",
       "      <td>Bangalore/Bengaluru</td>\n",
       "      <td>GO-JEK India</td>\n",
       "      <td>As as Senior Data Scientist, you will work in ...</td>\n",
       "    </tr>\n",
       "  </tbody>\n",
       "</table>\n",
       "</div>"
      ],
      "text/plain": [
       "                                         Job Title  \\\n",
       "0                            Senior Data Scientist   \n",
       "1                              Lead Data Scientist   \n",
       "2  Data Scientist / Data Analyst -Business Analyst   \n",
       "3                                   Data Scientist   \n",
       "4                                   Data Scientist   \n",
       "5               Data Scientist: Advanced Analytics   \n",
       "6                            Senior Data Scientist   \n",
       "7                                   Data Scientist   \n",
       "8                                 Data Scientist 2   \n",
       "9                                 Data Scientist 2   \n",
       "\n",
       "                                            Location  \\\n",
       "0                                Bangalore/Bengaluru   \n",
       "1                                Bangalore/Bengaluru   \n",
       "2  Hyderabad/Secunderabad, Chennai, Bangalore/Ben...   \n",
       "3                                Bangalore/Bengaluru   \n",
       "4                         Noida, Bangalore/Bengaluru   \n",
       "5                                Bangalore/Bengaluru   \n",
       "6  Hyderabad/Secunderabad, Gurgaon/Gurugram, Bang...   \n",
       "7                                Bangalore/Bengaluru   \n",
       "8                                Bangalore/Bengaluru   \n",
       "9                                Bangalore/Bengaluru   \n",
       "\n",
       "                                       Company Name  \\\n",
       "0                 Flipkart Internet Private Limited   \n",
       "1                                                bd   \n",
       "2                Inflexion Analytix Private Limited   \n",
       "3                 Flipkart Internet Private Limited   \n",
       "4                            Oracle India Pvt. Ltd.   \n",
       "5                            IBM India Pvt. Limited   \n",
       "6  inVentiv International Pharma Services Pvt. Ltd.   \n",
       "7                                 Applied Materials   \n",
       "8                                        Gojek Tech   \n",
       "9                                      GO-JEK India   \n",
       "\n",
       "                                     Job Description  \n",
       "0  A Senior Data Scientist in Flipkart is require...  \n",
       "1                                                     \n",
       "2                                                     \n",
       "3                                                     \n",
       "4  A consistent record of using product data to d...  \n",
       "5                                                     \n",
       "6                                                     \n",
       "7                               Brief about the Role  \n",
       "8  Minimum Qualifications: (Specify if degree req...  \n",
       "9  As as Senior Data Scientist, you will work in ...  "
      ]
     },
     "execution_count": 31,
     "metadata": {},
     "output_type": "execute_result"
    }
   ],
   "source": [
    "jobs=pd.DataFrame({})\n",
    "jobs['Job Title']=job_titles\n",
    "jobs['Location']=job_location\n",
    "jobs['Company Name']=company_names\n",
    "jobs['Job Description']=pd.Series(job_descs1)\n",
    "jobs.head(10)"
   ]
  },
  {
   "cell_type": "markdown",
   "id": "d7fc355d",
   "metadata": {},
   "source": [
    "## Q3:Scrape data using the filters available on the webpage"
   ]
  },
  {
   "cell_type": "code",
   "execution_count": 32,
   "id": "ea2b9227",
   "metadata": {},
   "outputs": [
    {
     "name": "stdout",
     "output_type": "stream",
     "text": [
      "Requirement already satisfied: selenium in c:\\users\\krunal\\anaconda3\\lib\\site-packages (3.141.0)\n",
      "Requirement already satisfied: urllib3 in c:\\users\\krunal\\anaconda3\\lib\\site-packages (from selenium) (1.26.4)\n"
     ]
    }
   ],
   "source": [
    "!pip install selenium"
   ]
  },
  {
   "cell_type": "code",
   "execution_count": 41,
   "id": "196e9912",
   "metadata": {},
   "outputs": [],
   "source": [
    "import pandas as pd\n",
    "import selenium\n",
    "from selenium import webdriver"
   ]
  },
  {
   "cell_type": "code",
   "execution_count": 42,
   "id": "f69eb5b9",
   "metadata": {},
   "outputs": [],
   "source": [
    "driver=webdriver.Chrome(\"chromedriver.exe\")"
   ]
  },
  {
   "cell_type": "code",
   "execution_count": 43,
   "id": "23a27af2",
   "metadata": {},
   "outputs": [],
   "source": [
    "url='https://www.naukri.com/'\n",
    "driver.get(url)"
   ]
  },
  {
   "cell_type": "code",
   "execution_count": 44,
   "id": "e70aab11",
   "metadata": {},
   "outputs": [],
   "source": [
    "search_job=driver.find_element_by_id(\"qsb-keyword-sugg\")\n",
    "search_job.send_keys(\"Data Scientist\")"
   ]
  },
  {
   "cell_type": "code",
   "execution_count": 45,
   "id": "dc9f87e9",
   "metadata": {},
   "outputs": [],
   "source": [
    "search_btn=driver.find_element_by_xpath(\"//button[@class='btn']\")\n",
    "search_btn.click()"
   ]
  },
  {
   "cell_type": "code",
   "execution_count": 48,
   "id": "67e285cd",
   "metadata": {},
   "outputs": [],
   "source": [
    "loc_select = driver.find_element_by_xpath(\"//span[@title='Delhi / NCR']\")\n",
    "loc_select.click()"
   ]
  },
  {
   "cell_type": "code",
   "execution_count": 49,
   "id": "968974c4",
   "metadata": {},
   "outputs": [],
   "source": [
    "sal_select = driver.find_element_by_xpath(\"//span[@title='3-6 Lakhs']\")\n",
    "sal_select.click()"
   ]
  },
  {
   "cell_type": "code",
   "execution_count": 50,
   "id": "ec049547",
   "metadata": {},
   "outputs": [
    {
     "data": {
      "text/plain": [
       "['Data Scientist/Data Analyst /Business Analyst',\n",
       " 'Senior Data Scientist',\n",
       " 'Team Leader Operations/Data Scientist',\n",
       " 'Only Fresher / Data Scientist / Data Analyst / Analytics - MNC Jobs',\n",
       " 'Data Scientist (Early Joiner)',\n",
       " 'Data Scientist - Machine Learning/ NLP',\n",
       " 'Data Scientist',\n",
       " 'Data Scientist || Python || C2H',\n",
       " 'Data Scientist || Python || C2H',\n",
       " 'Advanced Analytics -Data Scientist',\n",
       " 'Data Scientist',\n",
       " 'Data Scientist -Delhi',\n",
       " 'Senior Data Scientist',\n",
       " 'Data Scientist',\n",
       " 'Data Scientist',\n",
       " 'Data Scientist',\n",
       " 'Data Scientist',\n",
       " 'Associate Data Scientist',\n",
       " 'Associate Data Scientist',\n",
       " 'DATA SCIENTIST']"
      ]
     },
     "execution_count": 50,
     "metadata": {},
     "output_type": "execute_result"
    }
   ],
   "source": [
    "title_tags=driver.find_elements_by_xpath(\"//a[@class='title fw500 ellipsis']\")\n",
    "\n",
    "job_titles=[]\n",
    "for i in title_tags:\n",
    "    job_titles.append(i.text)\n",
    "job_titles"
   ]
  },
  {
   "cell_type": "code",
   "execution_count": 51,
   "id": "ea68f775",
   "metadata": {},
   "outputs": [
    {
     "data": {
      "text/plain": [
       "['Pune, Delhi / NCR, Mumbai (All Areas)',\n",
       " 'Hyderabad/Secunderabad, Gurgaon/Gurugram, Bangalore/Bengaluru',\n",
       " 'Gurgaon/Gurugram, Delhi / NCR',\n",
       " 'Noida, Greater Noida, Delhi / NCR',\n",
       " 'Noida(Sector-59 Noida)',\n",
       " 'Gurgaon/Gurugram',\n",
       " 'Hyderabad/Secunderabad, Gurgaon/Gurugram, Bangalore/Bengaluru',\n",
       " 'Noida, Kolkata, Gurgaon/Gurugram, Bangalore/Bengaluru',\n",
       " 'Noida, Kolkata, Gurgaon/Gurugram, Bangalore/Bengaluru',\n",
       " 'New Delhi, Hyderabad/Secunderabad',\n",
       " 'Mumbai, Gurgaon/Gurugram, Bangalore/Bengaluru',\n",
       " 'New Delhi',\n",
       " 'Delhi',\n",
       " 'Gurgaon, Bengaluru',\n",
       " 'Bharuch, Jaipur, Bhopal, Mumbai, Jhansi, Nagpur, Ghaziabad, Jaunpur, Kanpur, New Delhi, Lucknow, Agra, Gurgaon/Gurugram, Rajkot, Bangalore/Bengaluru',\n",
       " 'Delhi',\n",
       " 'Delhi',\n",
       " 'Noida',\n",
       " 'New Delhi',\n",
       " 'Gurgaon']"
      ]
     },
     "execution_count": 51,
     "metadata": {},
     "output_type": "execute_result"
    }
   ],
   "source": [
    "location=driver.find_elements_by_xpath(\"//li[@class='fleft grey-text br2 placeHolderLi location']//span\")\n",
    "\n",
    "job_location=[]\n",
    "for i in location:\n",
    "    job_location.append(i.text)\n",
    "job_location"
   ]
  },
  {
   "cell_type": "code",
   "execution_count": 52,
   "id": "f6939575",
   "metadata": {},
   "outputs": [
    {
     "data": {
      "text/plain": [
       "['Inflexion Analytix Private Limited',\n",
       " 'inVentiv International Pharma Services Pvt. Ltd.',\n",
       " 'Optimint Solutions Pvt. Ltd.',\n",
       " 'GABA Consultancy services',\n",
       " 'R Systems International Ltd.',\n",
       " 'TalPro',\n",
       " 'recruitment advisory line',\n",
       " 'Growel Softech Pvt. Ltd.',\n",
       " 'Growel Softech Pvt. Ltd.',\n",
       " 'ERM Placement Services (P) Ltd.',\n",
       " 'Fractal Analytics',\n",
       " 'CHANGE LEADERS CONSULTING',\n",
       " 'iNICU',\n",
       " 'BlackBuck',\n",
       " 'Country Veggie',\n",
       " 'Mahajan Imaging',\n",
       " 'Mahajan Imaging',\n",
       " 'Right Step Consulting',\n",
       " 'Blow Trumpet Solutions',\n",
       " 'Inference Labs']"
      ]
     },
     "execution_count": 52,
     "metadata": {},
     "output_type": "execute_result"
    }
   ],
   "source": [
    "company_name=driver.find_elements_by_xpath(\"//a[@class='subTitle ellipsis fleft']\")\n",
    "\n",
    "company_names=[]\n",
    "for i in company_name:\n",
    "    company_names.append(i.text)\n",
    "company_names"
   ]
  },
  {
   "cell_type": "code",
   "execution_count": 53,
   "id": "ae19b8c0",
   "metadata": {},
   "outputs": [
    {
     "data": {
      "text/plain": [
       "['0-3 Yrs',\n",
       " '3-6 Yrs',\n",
       " '2-5 Yrs',\n",
       " '0-0 Yrs',\n",
       " '4-8 Yrs',\n",
       " '2-6 Yrs',\n",
       " '3-6 Yrs',\n",
       " '4-6 Yrs',\n",
       " '4-6 Yrs',\n",
       " '3-7 Yrs',\n",
       " '3-7 Yrs',\n",
       " '5-8 Yrs',\n",
       " '1-5 Yrs',\n",
       " '3-7 Yrs',\n",
       " '1-3 Yrs',\n",
       " '2-6 Yrs',\n",
       " '2-6 Yrs',\n",
       " '3-6 Yrs',\n",
       " '1-5 Yrs',\n",
       " '3-5 Yrs']"
      ]
     },
     "execution_count": 53,
     "metadata": {},
     "output_type": "execute_result"
    }
   ],
   "source": [
    "exp=driver.find_elements_by_xpath(\"//li[@class='fleft grey-text br2 placeHolderLi experience']//span\")\n",
    "\n",
    "experience=[]\n",
    "for i in exp:\n",
    "    experience.append(i.text)\n",
    "experience"
   ]
  },
  {
   "cell_type": "code",
   "execution_count": 54,
   "id": "6a6af4aa",
   "metadata": {},
   "outputs": [
    {
     "data": {
      "text/html": [
       "<div>\n",
       "<style scoped>\n",
       "    .dataframe tbody tr th:only-of-type {\n",
       "        vertical-align: middle;\n",
       "    }\n",
       "\n",
       "    .dataframe tbody tr th {\n",
       "        vertical-align: top;\n",
       "    }\n",
       "\n",
       "    .dataframe thead th {\n",
       "        text-align: right;\n",
       "    }\n",
       "</style>\n",
       "<table border=\"1\" class=\"dataframe\">\n",
       "  <thead>\n",
       "    <tr style=\"text-align: right;\">\n",
       "      <th></th>\n",
       "      <th>Job Title</th>\n",
       "      <th>Location</th>\n",
       "      <th>Company Name</th>\n",
       "      <th>Experience Required</th>\n",
       "    </tr>\n",
       "  </thead>\n",
       "  <tbody>\n",
       "    <tr>\n",
       "      <th>0</th>\n",
       "      <td>Data Scientist/Data Analyst /Business Analyst</td>\n",
       "      <td>Pune, Delhi / NCR, Mumbai (All Areas)</td>\n",
       "      <td>Inflexion Analytix Private Limited</td>\n",
       "      <td>0-3 Yrs</td>\n",
       "    </tr>\n",
       "    <tr>\n",
       "      <th>1</th>\n",
       "      <td>Senior Data Scientist</td>\n",
       "      <td>Hyderabad/Secunderabad, Gurgaon/Gurugram, Bang...</td>\n",
       "      <td>inVentiv International Pharma Services Pvt. Ltd.</td>\n",
       "      <td>3-6 Yrs</td>\n",
       "    </tr>\n",
       "    <tr>\n",
       "      <th>2</th>\n",
       "      <td>Team Leader Operations/Data Scientist</td>\n",
       "      <td>Gurgaon/Gurugram, Delhi / NCR</td>\n",
       "      <td>Optimint Solutions Pvt. Ltd.</td>\n",
       "      <td>2-5 Yrs</td>\n",
       "    </tr>\n",
       "    <tr>\n",
       "      <th>3</th>\n",
       "      <td>Only Fresher / Data Scientist / Data Analyst /...</td>\n",
       "      <td>Noida, Greater Noida, Delhi / NCR</td>\n",
       "      <td>GABA Consultancy services</td>\n",
       "      <td>0-0 Yrs</td>\n",
       "    </tr>\n",
       "    <tr>\n",
       "      <th>4</th>\n",
       "      <td>Data Scientist (Early Joiner)</td>\n",
       "      <td>Noida(Sector-59 Noida)</td>\n",
       "      <td>R Systems International Ltd.</td>\n",
       "      <td>4-8 Yrs</td>\n",
       "    </tr>\n",
       "    <tr>\n",
       "      <th>5</th>\n",
       "      <td>Data Scientist - Machine Learning/ NLP</td>\n",
       "      <td>Gurgaon/Gurugram</td>\n",
       "      <td>TalPro</td>\n",
       "      <td>2-6 Yrs</td>\n",
       "    </tr>\n",
       "    <tr>\n",
       "      <th>6</th>\n",
       "      <td>Data Scientist</td>\n",
       "      <td>Hyderabad/Secunderabad, Gurgaon/Gurugram, Bang...</td>\n",
       "      <td>recruitment advisory line</td>\n",
       "      <td>3-6 Yrs</td>\n",
       "    </tr>\n",
       "    <tr>\n",
       "      <th>7</th>\n",
       "      <td>Data Scientist || Python || C2H</td>\n",
       "      <td>Noida, Kolkata, Gurgaon/Gurugram, Bangalore/Be...</td>\n",
       "      <td>Growel Softech Pvt. Ltd.</td>\n",
       "      <td>4-6 Yrs</td>\n",
       "    </tr>\n",
       "    <tr>\n",
       "      <th>8</th>\n",
       "      <td>Data Scientist || Python || C2H</td>\n",
       "      <td>Noida, Kolkata, Gurgaon/Gurugram, Bangalore/Be...</td>\n",
       "      <td>Growel Softech Pvt. Ltd.</td>\n",
       "      <td>4-6 Yrs</td>\n",
       "    </tr>\n",
       "    <tr>\n",
       "      <th>9</th>\n",
       "      <td>Advanced Analytics -Data Scientist</td>\n",
       "      <td>New Delhi, Hyderabad/Secunderabad</td>\n",
       "      <td>ERM Placement Services (P) Ltd.</td>\n",
       "      <td>3-7 Yrs</td>\n",
       "    </tr>\n",
       "  </tbody>\n",
       "</table>\n",
       "</div>"
      ],
      "text/plain": [
       "                                           Job Title  \\\n",
       "0      Data Scientist/Data Analyst /Business Analyst   \n",
       "1                              Senior Data Scientist   \n",
       "2              Team Leader Operations/Data Scientist   \n",
       "3  Only Fresher / Data Scientist / Data Analyst /...   \n",
       "4                      Data Scientist (Early Joiner)   \n",
       "5             Data Scientist - Machine Learning/ NLP   \n",
       "6                                     Data Scientist   \n",
       "7                    Data Scientist || Python || C2H   \n",
       "8                    Data Scientist || Python || C2H   \n",
       "9                 Advanced Analytics -Data Scientist   \n",
       "\n",
       "                                            Location  \\\n",
       "0              Pune, Delhi / NCR, Mumbai (All Areas)   \n",
       "1  Hyderabad/Secunderabad, Gurgaon/Gurugram, Bang...   \n",
       "2                      Gurgaon/Gurugram, Delhi / NCR   \n",
       "3                  Noida, Greater Noida, Delhi / NCR   \n",
       "4                             Noida(Sector-59 Noida)   \n",
       "5                                   Gurgaon/Gurugram   \n",
       "6  Hyderabad/Secunderabad, Gurgaon/Gurugram, Bang...   \n",
       "7  Noida, Kolkata, Gurgaon/Gurugram, Bangalore/Be...   \n",
       "8  Noida, Kolkata, Gurgaon/Gurugram, Bangalore/Be...   \n",
       "9                  New Delhi, Hyderabad/Secunderabad   \n",
       "\n",
       "                                       Company Name Experience Required  \n",
       "0                Inflexion Analytix Private Limited             0-3 Yrs  \n",
       "1  inVentiv International Pharma Services Pvt. Ltd.             3-6 Yrs  \n",
       "2                      Optimint Solutions Pvt. Ltd.             2-5 Yrs  \n",
       "3                         GABA Consultancy services             0-0 Yrs  \n",
       "4                      R Systems International Ltd.             4-8 Yrs  \n",
       "5                                            TalPro             2-6 Yrs  \n",
       "6                         recruitment advisory line             3-6 Yrs  \n",
       "7                          Growel Softech Pvt. Ltd.             4-6 Yrs  \n",
       "8                          Growel Softech Pvt. Ltd.             4-6 Yrs  \n",
       "9                   ERM Placement Services (P) Ltd.             3-7 Yrs  "
      ]
     },
     "execution_count": 54,
     "metadata": {},
     "output_type": "execute_result"
    }
   ],
   "source": [
    "jobs=pd.DataFrame({})\n",
    "jobs['Job Title']=job_titles\n",
    "jobs['Location']=job_location\n",
    "jobs['Company Name']=company_names\n",
    "jobs['Experience Required']=experience\n",
    "jobs.head(10)"
   ]
  },
  {
   "cell_type": "markdown",
   "id": "32cfd644",
   "metadata": {},
   "source": [
    "## Q4: Write a python program to scrape data for first 10 job results for Data scientist Designation in Noida location. You have to scrape company_name, No. of days ago when job was posted, Rating of the company."
   ]
  },
  {
   "cell_type": "code",
   "execution_count": 2,
   "id": "4a4008b6",
   "metadata": {},
   "outputs": [
    {
     "name": "stdout",
     "output_type": "stream",
     "text": [
      "Requirement already satisfied: selenium in c:\\users\\krunal\\anaconda3\\lib\\site-packages (3.141.0)\n",
      "Requirement already satisfied: urllib3 in c:\\users\\krunal\\anaconda3\\lib\\site-packages (from selenium) (1.26.4)\n"
     ]
    }
   ],
   "source": [
    "!pip install selenium"
   ]
  },
  {
   "cell_type": "code",
   "execution_count": 3,
   "id": "03c0052f",
   "metadata": {},
   "outputs": [],
   "source": [
    "import pandas as pd\n",
    "import selenium\n",
    "from selenium import webdriver"
   ]
  },
  {
   "cell_type": "code",
   "execution_count": 4,
   "id": "b4a006dd",
   "metadata": {},
   "outputs": [],
   "source": [
    "driver=webdriver.Chrome(\"chromedriver.exe\")"
   ]
  },
  {
   "cell_type": "code",
   "execution_count": 14,
   "id": "cea0c00a",
   "metadata": {},
   "outputs": [],
   "source": [
    "url='https://www.glassdoor.co.in/index.htm'\n",
    "driver.get(url)"
   ]
  },
  {
   "cell_type": "code",
   "execution_count": 15,
   "id": "a81d3354",
   "metadata": {},
   "outputs": [],
   "source": [
    "# search_btn=driver.find_element_by_xpath(\"//button[@class='p-0 SearchStyles__iconBtn']\")\n",
    "# search_btn.click()"
   ]
  },
  {
   "cell_type": "code",
   "execution_count": 17,
   "id": "cc0eb626",
   "metadata": {},
   "outputs": [],
   "source": [
    "search_job=driver.find_element_by_id(\"sc.keyword\")\n",
    "search_job.send_keys(\"Data Scientist\")"
   ]
  },
  {
   "cell_type": "code",
   "execution_count": 29,
   "id": "919cda75",
   "metadata": {},
   "outputs": [],
   "source": [
    "search_loc=driver.find_element_by_id(\"sc.location\")\n",
    "search_loc.clear()\n",
    "search_loc.send_keys(\"Noida (India)\")"
   ]
  },
  {
   "cell_type": "code",
   "execution_count": 30,
   "id": "b957837d",
   "metadata": {},
   "outputs": [],
   "source": [
    "search_btn2=driver.find_element_by_xpath(\"//button[@class='gd-ui-button ml-std col-auto SearchStyles__newSearchButton css-iixdfr']\")\n",
    "search_btn2.click()"
   ]
  },
  {
   "cell_type": "code",
   "execution_count": 31,
   "id": "7a317569",
   "metadata": {},
   "outputs": [
    {
     "data": {
      "text/plain": [
       "['Gravity Advisors Pvt Ltd',\n",
       " 'Ericsson',\n",
       " 'Crowe',\n",
       " 'Urban Company',\n",
       " 'Data Patterns',\n",
       " 'White Vectors',\n",
       " 'Ginger Webs Pvt. Ltd.',\n",
       " 'Biz2Credit Inc',\n",
       " 'Applicate IT Solutions Pvt. Ltd.',\n",
       " 'Barclays',\n",
       " 'MediGence',\n",
       " 'Algo8 AI Pvt. Ltd.',\n",
       " 'KVCH',\n",
       " 'WinZO',\n",
       " 'United Airlines',\n",
       " 'Scymes Services Pvt. ltd',\n",
       " 'Genpact',\n",
       " 'Wobb.ai',\n",
       " 'Verisk',\n",
       " 'Techlive',\n",
       " 'Salasar New Age Technologies',\n",
       " 'Genpact',\n",
       " 'Innovacer',\n",
       " 'Salasar New Age Technologies',\n",
       " 'Applicate IT Solutions Private Limited',\n",
       " 'Ori',\n",
       " 'WishFin',\n",
       " 'Conduent',\n",
       " 'Bulkbyte Company',\n",
       " 'Siemens Technology and Services Private Limited']"
      ]
     },
     "execution_count": 31,
     "metadata": {},
     "output_type": "execute_result"
    }
   ],
   "source": [
    "com_tags=driver.find_elements_by_xpath(\"//a[@class=' css-l2wjgv e1n63ojh0 jobLink']//span\")\n",
    "\n",
    "compny_name=[]\n",
    "for i in com_tags:\n",
    "    compny_name.append(i.text)\n",
    "compny_name"
   ]
  },
  {
   "cell_type": "code",
   "execution_count": 32,
   "id": "cc7213a5",
   "metadata": {},
   "outputs": [
    {
     "data": {
      "text/plain": [
       "['1d',\n",
       " '18d',\n",
       " '30d+',\n",
       " '10d',\n",
       " '27d',\n",
       " '5d',\n",
       " '30d',\n",
       " '30d+',\n",
       " '5d',\n",
       " '4d',\n",
       " '4d',\n",
       " '23d',\n",
       " '2d',\n",
       " '1d',\n",
       " '6d',\n",
       " '9d',\n",
       " '2d',\n",
       " '17d',\n",
       " '1d',\n",
       " '30d+',\n",
       " '30d+',\n",
       " '30d+',\n",
       " '13d',\n",
       " '30d+',\n",
       " '4d',\n",
       " '2d',\n",
       " '30d+',\n",
       " '24d',\n",
       " '8d',\n",
       " '23d']"
      ]
     },
     "execution_count": 32,
     "metadata": {},
     "output_type": "execute_result"
    }
   ],
   "source": [
    "jobpost=driver.find_elements_by_xpath(\"//div[@class='d-flex align-items-end pl-std css-mi55ob']\")\n",
    "\n",
    "job_postd=[]\n",
    "for i in jobpost:\n",
    "    job_postd.append(i.text)\n",
    "job_postd"
   ]
  },
  {
   "cell_type": "code",
   "execution_count": 35,
   "id": "92bb969c",
   "metadata": {},
   "outputs": [
    {
     "data": {
      "text/plain": [
       "['4.1',\n",
       " '3.8',\n",
       " '3.1',\n",
       " '3.9',\n",
       " '4.0',\n",
       " '4.5',\n",
       " '4.6',\n",
       " '4.7',\n",
       " '4.1',\n",
       " '3.8',\n",
       " '4.0',\n",
       " '5.0',\n",
       " '3.8',\n",
       " '3.8',\n",
       " '3.2',\n",
       " '2.2',\n",
       " '3.8',\n",
       " '3.1',\n",
       " '4.1']"
      ]
     },
     "execution_count": 35,
     "metadata": {},
     "output_type": "execute_result"
    }
   ],
   "source": [
    "rate=driver.find_elements_by_xpath(\"//span[@class='css-19pjha7 e1cjmv6j1']\")\n",
    "\n",
    "rating=[]\n",
    "for i in rate:\n",
    "    try:\n",
    "        rating.append(i.text)\n",
    "    except:\n",
    "        pass\n",
    "rating"
   ]
  },
  {
   "cell_type": "code",
   "execution_count": 37,
   "id": "e38e7a64",
   "metadata": {},
   "outputs": [
    {
     "data": {
      "text/html": [
       "<div>\n",
       "<style scoped>\n",
       "    .dataframe tbody tr th:only-of-type {\n",
       "        vertical-align: middle;\n",
       "    }\n",
       "\n",
       "    .dataframe tbody tr th {\n",
       "        vertical-align: top;\n",
       "    }\n",
       "\n",
       "    .dataframe thead th {\n",
       "        text-align: right;\n",
       "    }\n",
       "</style>\n",
       "<table border=\"1\" class=\"dataframe\">\n",
       "  <thead>\n",
       "    <tr style=\"text-align: right;\">\n",
       "      <th></th>\n",
       "      <th>Company Name</th>\n",
       "      <th>Job Posted</th>\n",
       "      <th>Company Rating</th>\n",
       "    </tr>\n",
       "  </thead>\n",
       "  <tbody>\n",
       "    <tr>\n",
       "      <th>0</th>\n",
       "      <td>Gravity Advisors Pvt Ltd</td>\n",
       "      <td>1d</td>\n",
       "      <td>4.1</td>\n",
       "    </tr>\n",
       "    <tr>\n",
       "      <th>1</th>\n",
       "      <td>Ericsson</td>\n",
       "      <td>18d</td>\n",
       "      <td>3.8</td>\n",
       "    </tr>\n",
       "    <tr>\n",
       "      <th>2</th>\n",
       "      <td>Crowe</td>\n",
       "      <td>30d+</td>\n",
       "      <td>3.1</td>\n",
       "    </tr>\n",
       "    <tr>\n",
       "      <th>3</th>\n",
       "      <td>Urban Company</td>\n",
       "      <td>10d</td>\n",
       "      <td>3.9</td>\n",
       "    </tr>\n",
       "    <tr>\n",
       "      <th>4</th>\n",
       "      <td>Data Patterns</td>\n",
       "      <td>27d</td>\n",
       "      <td>4.0</td>\n",
       "    </tr>\n",
       "    <tr>\n",
       "      <th>5</th>\n",
       "      <td>White Vectors</td>\n",
       "      <td>5d</td>\n",
       "      <td>4.5</td>\n",
       "    </tr>\n",
       "    <tr>\n",
       "      <th>6</th>\n",
       "      <td>Ginger Webs Pvt. Ltd.</td>\n",
       "      <td>30d</td>\n",
       "      <td>4.6</td>\n",
       "    </tr>\n",
       "    <tr>\n",
       "      <th>7</th>\n",
       "      <td>Biz2Credit Inc</td>\n",
       "      <td>30d+</td>\n",
       "      <td>4.7</td>\n",
       "    </tr>\n",
       "    <tr>\n",
       "      <th>8</th>\n",
       "      <td>Applicate IT Solutions Pvt. Ltd.</td>\n",
       "      <td>5d</td>\n",
       "      <td>4.1</td>\n",
       "    </tr>\n",
       "    <tr>\n",
       "      <th>9</th>\n",
       "      <td>Barclays</td>\n",
       "      <td>4d</td>\n",
       "      <td>3.8</td>\n",
       "    </tr>\n",
       "  </tbody>\n",
       "</table>\n",
       "</div>"
      ],
      "text/plain": [
       "                       Company Name Job Posted Company Rating\n",
       "0          Gravity Advisors Pvt Ltd         1d            4.1\n",
       "1                          Ericsson        18d            3.8\n",
       "2                             Crowe       30d+            3.1\n",
       "3                     Urban Company        10d            3.9\n",
       "4                     Data Patterns        27d            4.0\n",
       "5                     White Vectors         5d            4.5\n",
       "6             Ginger Webs Pvt. Ltd.        30d            4.6\n",
       "7                    Biz2Credit Inc       30d+            4.7\n",
       "8  Applicate IT Solutions Pvt. Ltd.         5d            4.1\n",
       "9                          Barclays         4d            3.8"
      ]
     },
     "execution_count": 37,
     "metadata": {},
     "output_type": "execute_result"
    }
   ],
   "source": [
    "jobs=pd.DataFrame({})\n",
    "jobs['Company Name']=compny_name\n",
    "jobs['Job Posted']=job_postd\n",
    "jobs['Company Rating']=pd.Series(rating)\n",
    "\n",
    "jobs.head(10)"
   ]
  },
  {
   "cell_type": "markdown",
   "id": "5a9dc9b2",
   "metadata": {},
   "source": [
    "## Q5. Write a python program to scrape the salary data for Data Scientist designation in Noida location."
   ]
  },
  {
   "cell_type": "code",
   "execution_count": 5,
   "id": "b340c22c",
   "metadata": {},
   "outputs": [
    {
     "name": "stdout",
     "output_type": "stream",
     "text": [
      "Requirement already satisfied: selenium in c:\\users\\krunal\\anaconda3\\lib\\site-packages (3.141.0)\n",
      "Requirement already satisfied: urllib3 in c:\\users\\krunal\\anaconda3\\lib\\site-packages (from selenium) (1.26.4)\n"
     ]
    }
   ],
   "source": [
    "!pip install selenium"
   ]
  },
  {
   "cell_type": "code",
   "execution_count": 6,
   "id": "f3146477",
   "metadata": {},
   "outputs": [],
   "source": [
    "import pandas as pd\n",
    "import selenium\n",
    "from selenium import webdriver"
   ]
  },
  {
   "cell_type": "code",
   "execution_count": 7,
   "id": "5ebca660",
   "metadata": {},
   "outputs": [],
   "source": [
    "driver=webdriver.Chrome(\"chromedriver.exe\")"
   ]
  },
  {
   "cell_type": "code",
   "execution_count": 8,
   "id": "c5c420ac",
   "metadata": {},
   "outputs": [],
   "source": [
    "url='https://www.glassdoor.co.in/Salaries/index.htm'\n",
    "driver.get(url)"
   ]
  },
  {
   "cell_type": "code",
   "execution_count": 9,
   "id": "1901c1b6",
   "metadata": {},
   "outputs": [],
   "source": [
    "search_job=driver.find_element_by_id(\"KeywordSearch\")\n",
    "search_job.send_keys(\"Data Scientist\")"
   ]
  },
  {
   "cell_type": "code",
   "execution_count": 11,
   "id": "bba938bb",
   "metadata": {},
   "outputs": [],
   "source": [
    "search_loc=driver.find_element_by_id(\"LocationSearch\")\n",
    "search_loc.clear()\n",
    "search_loc.send_keys(\"Noida (India)\")"
   ]
  },
  {
   "cell_type": "code",
   "execution_count": 12,
   "id": "577b824e",
   "metadata": {},
   "outputs": [],
   "source": [
    "search_btn2=driver.find_element_by_xpath(\"//button[@class='gd-btn-mkt']\")\n",
    "search_btn2.click()"
   ]
  },
  {
   "cell_type": "code",
   "execution_count": 13,
   "id": "4af8b358",
   "metadata": {},
   "outputs": [
    {
     "data": {
      "text/plain": [
       "['IBM',\n",
       " 'Tata Consultancy Services',\n",
       " 'Accenture',\n",
       " 'Delhivery',\n",
       " 'Ericsson-Worldwide',\n",
       " 'UnitedHealth Group',\n",
       " 'Valiance Solutions',\n",
       " 'EXL Service',\n",
       " 'Optum',\n",
       " 'Optum Global Solutions',\n",
       " 'ZS Associates',\n",
       " 'Innovaccer',\n",
       " 'Cognizant Technology Solutions',\n",
       " 'OYO',\n",
       " 'Nagarro',\n",
       " 'dunnhumby',\n",
       " 'Vidooly Media Tech',\n",
       " 'Tech Mahindra',\n",
       " 'R Systems',\n",
       " 'CARS24.com']"
      ]
     },
     "execution_count": 13,
     "metadata": {},
     "output_type": "execute_result"
    }
   ],
   "source": [
    "com_tags=driver.find_elements_by_xpath(\"//a[@class='css-f3vw95 e1aj7ssy3']\")\n",
    "\n",
    "compny_name=[]\n",
    "for i in com_tags:\n",
    "    compny_name.append(i.text)\n",
    "compny_name"
   ]
  },
  {
   "cell_type": "code",
   "execution_count": 15,
   "id": "cc7213a5",
   "metadata": {
    "scrolled": true
   },
   "outputs": [
    {
     "data": {
      "text/plain": [
       "['18 salaries',\n",
       " '17 salaries',\n",
       " '15 salaries',\n",
       " '15 salaries',\n",
       " '14 salaries',\n",
       " '13 salaries',\n",
       " '10 salaries',\n",
       " '9 salaries',\n",
       " '9 salaries',\n",
       " '9 salaries',\n",
       " '8 salaries',\n",
       " '8 salaries',\n",
       " '6 salaries',\n",
       " '6 salaries',\n",
       " '6 salaries',\n",
       " '6 salaries',\n",
       " '6 salaries',\n",
       " '5 salaries',\n",
       " '5 salaries',\n",
       " '5 salaries']"
      ]
     },
     "execution_count": 15,
     "metadata": {},
     "output_type": "execute_result"
    }
   ],
   "source": [
    "sal=driver.find_elements_by_xpath(\"//div[@class='col-12 col-lg-auto']//span\")\n",
    "\n",
    "sald=[]\n",
    "for i in sal:\n",
    "    sald.append(i.text)\n",
    "sald"
   ]
  },
  {
   "cell_type": "code",
   "execution_count": 19,
   "id": "cc7213a5",
   "metadata": {
    "scrolled": true
   },
   "outputs": [
    {
     "data": {
      "text/plain": [
       "['₹9,00,000 /yr',\n",
       " '₹6,15,289 /yr',\n",
       " '₹11,63,336 /yr',\n",
       " '₹12,18,244 /yr',\n",
       " '₹7,39,238 /yr',\n",
       " '₹13,00,000 /yr',\n",
       " '₹8,63,750 /yr',\n",
       " '₹11,10,000 /yr',\n",
       " '₹14,23,677 /yr',\n",
       " '₹13,28,697 /yr',\n",
       " '₹11,42,356 /yr',\n",
       " '₹12,09,040 /yr',\n",
       " '₹10,09,021 /yr',\n",
       " '₹12,58,227 /yr',\n",
       " '₹9,92,632 /yr',\n",
       " '₹10,55,478 /yr',\n",
       " '₹34,157 /mo',\n",
       " '₹10,54,402 /yr',\n",
       " '₹18,40,134 /yr',\n",
       " '₹10,00,000 /yr']"
      ]
     },
     "execution_count": 19,
     "metadata": {},
     "output_type": "execute_result"
    }
   ],
   "source": [
    "avgsal=driver.find_elements_by_xpath(\"//div[@class='col-12 col-lg-4 px-lg-0 d-flex align-items-baseline']\")\n",
    "\n",
    "salavg=[]\n",
    "for i in avgsal:\n",
    "    salavg.append(i.text.replace('\\n',''))\n",
    "salavg"
   ]
  },
  {
   "cell_type": "code",
   "execution_count": 23,
   "id": "cc7213a5",
   "metadata": {
    "scrolled": true
   },
   "outputs": [
    {
     "data": {
      "text/plain": [
       "['₹6L',\n",
       " '₹3L',\n",
       " '₹6L',\n",
       " '₹5L',\n",
       " '₹4L',\n",
       " '₹8L',\n",
       " '₹5L',\n",
       " '₹6L',\n",
       " '₹8L',\n",
       " '₹4L',\n",
       " '₹2L',\n",
       " '₹6L',\n",
       " '₹8L',\n",
       " '₹10L',\n",
       " '₹4L',\n",
       " '₹8L',\n",
       " '₹12T',\n",
       " '₹4L',\n",
       " '₹8L',\n",
       " '₹9L']"
      ]
     },
     "execution_count": 23,
     "metadata": {},
     "output_type": "execute_result"
    }
   ],
   "source": [
    "minsal=driver.find_elements_by_xpath(\"//div[@class='d-flex mt-xxsm css-79elbk epuxyqn0']//p[1]\")\n",
    "\n",
    "salmin=[]\n",
    "for i in minsal:\n",
    "    salmin.append(i.text.replace('\\n',''))\n",
    "salmin"
   ]
  },
  {
   "cell_type": "code",
   "execution_count": 24,
   "id": "cc7213a5",
   "metadata": {
    "scrolled": true
   },
   "outputs": [
    {
     "data": {
      "text/plain": [
       "['₹27L',\n",
       " '₹13L',\n",
       " '₹22L',\n",
       " '₹1Cr',\n",
       " '₹16L',\n",
       " '₹15L',\n",
       " '₹15L',\n",
       " '₹15L',\n",
       " '₹20L',\n",
       " '₹22L',\n",
       " '₹18L',\n",
       " '₹17L',\n",
       " '₹13L',\n",
       " '₹19L',\n",
       " '₹16L',\n",
       " '₹20L',\n",
       " '₹63T',\n",
       " '₹17L',\n",
       " '₹30L',\n",
       " '₹15L']"
      ]
     },
     "execution_count": 24,
     "metadata": {},
     "output_type": "execute_result"
    }
   ],
   "source": [
    "maxsal=driver.find_elements_by_xpath(\"//div[@class='d-flex mt-xxsm css-79elbk epuxyqn0']//p[2]\")\n",
    "\n",
    "salmax=[]\n",
    "for i in maxsal:\n",
    "    salmax.append(i.text.replace('\\n',''))\n",
    "salmax"
   ]
  },
  {
   "cell_type": "code",
   "execution_count": 26,
   "id": "e38e7a64",
   "metadata": {},
   "outputs": [
    {
     "data": {
      "text/html": [
       "<div>\n",
       "<style scoped>\n",
       "    .dataframe tbody tr th:only-of-type {\n",
       "        vertical-align: middle;\n",
       "    }\n",
       "\n",
       "    .dataframe tbody tr th {\n",
       "        vertical-align: top;\n",
       "    }\n",
       "\n",
       "    .dataframe thead th {\n",
       "        text-align: right;\n",
       "    }\n",
       "</style>\n",
       "<table border=\"1\" class=\"dataframe\">\n",
       "  <thead>\n",
       "    <tr style=\"text-align: right;\">\n",
       "      <th></th>\n",
       "      <th>Company Name</th>\n",
       "      <th>No. of Salaries</th>\n",
       "      <th>Average Salary</th>\n",
       "      <th>Minimum Salary</th>\n",
       "      <th>Maximum Salary</th>\n",
       "    </tr>\n",
       "  </thead>\n",
       "  <tbody>\n",
       "    <tr>\n",
       "      <th>0</th>\n",
       "      <td>IBM</td>\n",
       "      <td>18 salaries</td>\n",
       "      <td>₹9,00,000 /yr</td>\n",
       "      <td>₹6L</td>\n",
       "      <td>₹27L</td>\n",
       "    </tr>\n",
       "    <tr>\n",
       "      <th>1</th>\n",
       "      <td>Tata Consultancy Services</td>\n",
       "      <td>17 salaries</td>\n",
       "      <td>₹6,15,289 /yr</td>\n",
       "      <td>₹3L</td>\n",
       "      <td>₹13L</td>\n",
       "    </tr>\n",
       "    <tr>\n",
       "      <th>2</th>\n",
       "      <td>Accenture</td>\n",
       "      <td>15 salaries</td>\n",
       "      <td>₹11,63,336 /yr</td>\n",
       "      <td>₹6L</td>\n",
       "      <td>₹22L</td>\n",
       "    </tr>\n",
       "    <tr>\n",
       "      <th>3</th>\n",
       "      <td>Delhivery</td>\n",
       "      <td>15 salaries</td>\n",
       "      <td>₹12,18,244 /yr</td>\n",
       "      <td>₹5L</td>\n",
       "      <td>₹1Cr</td>\n",
       "    </tr>\n",
       "    <tr>\n",
       "      <th>4</th>\n",
       "      <td>Ericsson-Worldwide</td>\n",
       "      <td>14 salaries</td>\n",
       "      <td>₹7,39,238 /yr</td>\n",
       "      <td>₹4L</td>\n",
       "      <td>₹16L</td>\n",
       "    </tr>\n",
       "    <tr>\n",
       "      <th>5</th>\n",
       "      <td>UnitedHealth Group</td>\n",
       "      <td>13 salaries</td>\n",
       "      <td>₹13,00,000 /yr</td>\n",
       "      <td>₹8L</td>\n",
       "      <td>₹15L</td>\n",
       "    </tr>\n",
       "    <tr>\n",
       "      <th>6</th>\n",
       "      <td>Valiance Solutions</td>\n",
       "      <td>10 salaries</td>\n",
       "      <td>₹8,63,750 /yr</td>\n",
       "      <td>₹5L</td>\n",
       "      <td>₹15L</td>\n",
       "    </tr>\n",
       "    <tr>\n",
       "      <th>7</th>\n",
       "      <td>EXL Service</td>\n",
       "      <td>9 salaries</td>\n",
       "      <td>₹11,10,000 /yr</td>\n",
       "      <td>₹6L</td>\n",
       "      <td>₹15L</td>\n",
       "    </tr>\n",
       "    <tr>\n",
       "      <th>8</th>\n",
       "      <td>Optum</td>\n",
       "      <td>9 salaries</td>\n",
       "      <td>₹14,23,677 /yr</td>\n",
       "      <td>₹8L</td>\n",
       "      <td>₹20L</td>\n",
       "    </tr>\n",
       "    <tr>\n",
       "      <th>9</th>\n",
       "      <td>Optum Global Solutions</td>\n",
       "      <td>9 salaries</td>\n",
       "      <td>₹13,28,697 /yr</td>\n",
       "      <td>₹4L</td>\n",
       "      <td>₹22L</td>\n",
       "    </tr>\n",
       "  </tbody>\n",
       "</table>\n",
       "</div>"
      ],
      "text/plain": [
       "                Company Name No. of Salaries  Average Salary Minimum Salary  \\\n",
       "0                        IBM     18 salaries   ₹9,00,000 /yr            ₹6L   \n",
       "1  Tata Consultancy Services     17 salaries   ₹6,15,289 /yr            ₹3L   \n",
       "2                  Accenture     15 salaries  ₹11,63,336 /yr            ₹6L   \n",
       "3                  Delhivery     15 salaries  ₹12,18,244 /yr            ₹5L   \n",
       "4         Ericsson-Worldwide     14 salaries   ₹7,39,238 /yr            ₹4L   \n",
       "5         UnitedHealth Group     13 salaries  ₹13,00,000 /yr            ₹8L   \n",
       "6         Valiance Solutions     10 salaries   ₹8,63,750 /yr            ₹5L   \n",
       "7                EXL Service      9 salaries  ₹11,10,000 /yr            ₹6L   \n",
       "8                      Optum      9 salaries  ₹14,23,677 /yr            ₹8L   \n",
       "9     Optum Global Solutions      9 salaries  ₹13,28,697 /yr            ₹4L   \n",
       "\n",
       "  Maximum Salary  \n",
       "0           ₹27L  \n",
       "1           ₹13L  \n",
       "2           ₹22L  \n",
       "3           ₹1Cr  \n",
       "4           ₹16L  \n",
       "5           ₹15L  \n",
       "6           ₹15L  \n",
       "7           ₹15L  \n",
       "8           ₹20L  \n",
       "9           ₹22L  "
      ]
     },
     "execution_count": 26,
     "metadata": {},
     "output_type": "execute_result"
    }
   ],
   "source": [
    "jobs=pd.DataFrame({})\n",
    "jobs['Company Name']=compny_name\n",
    "jobs['No. of Salaries']=sald\n",
    "jobs['Average Salary']=pd.Series(salavg)\n",
    "jobs['Minimum Salary']=salmin\n",
    "jobs['Maximum Salary']=salmax\n",
    "jobs.head(10)"
   ]
  },
  {
   "cell_type": "code",
   "execution_count": null,
   "id": "ff5f7b6f",
   "metadata": {},
   "outputs": [],
   "source": []
  }
 ],
 "metadata": {
  "kernelspec": {
   "display_name": "Python 3",
   "language": "python",
   "name": "python3"
  },
  "language_info": {
   "codemirror_mode": {
    "name": "ipython",
    "version": 3
   },
   "file_extension": ".py",
   "mimetype": "text/x-python",
   "name": "python",
   "nbconvert_exporter": "python",
   "pygments_lexer": "ipython3",
   "version": "3.8.8"
  }
 },
 "nbformat": 4,
 "nbformat_minor": 5
}
