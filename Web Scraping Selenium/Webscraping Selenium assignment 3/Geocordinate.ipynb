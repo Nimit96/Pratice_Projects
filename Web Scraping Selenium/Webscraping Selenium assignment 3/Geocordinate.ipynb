{
 "cells": [
  {
   "cell_type": "code",
   "execution_count": 1,
   "id": "01674596",
   "metadata": {},
   "outputs": [
    {
     "name": "stdout",
     "output_type": "stream",
     "text": [
      "Requirement already satisfied: selenium in c:\\users\\krunal\\anaconda3\\lib\\site-packages (3.141.0)\n",
      "Requirement already satisfied: urllib3 in c:\\users\\krunal\\anaconda3\\lib\\site-packages (from selenium) (1.26.4)\n"
     ]
    }
   ],
   "source": [
    "!pip install selenium"
   ]
  },
  {
   "cell_type": "code",
   "execution_count": 2,
   "id": "47556310",
   "metadata": {},
   "outputs": [],
   "source": [
    "import pandas as pd\n",
    "import time\n",
    "import selenium\n",
    "from selenium import webdriver\n",
    "import re"
   ]
  },
  {
   "cell_type": "code",
   "execution_count": 3,
   "id": "5c40e2ca",
   "metadata": {},
   "outputs": [],
   "source": [
    "driver=webdriver.Chrome(\"chromedriver.exe\")"
   ]
  },
  {
   "cell_type": "code",
   "execution_count": 4,
   "id": "993d0592",
   "metadata": {},
   "outputs": [],
   "source": [
    "url='https://maps.google.com/'\n",
    "driver.get(url)\n",
    "time.sleep(5)\n",
    "driver.maximize_window()\n"
   ]
  },
  {
   "cell_type": "code",
   "execution_count": 5,
   "id": "42680bbb",
   "metadata": {},
   "outputs": [
    {
     "name": "stdout",
     "output_type": "stream",
     "text": [
      "Enter keyword\n",
      "india\n"
     ]
    }
   ],
   "source": [
    "search_prod=driver.find_element_by_xpath(\"//input[@id='searchboxinput']\")\n",
    "search_prod.clear()\n",
    "print(\"Enter keyword\")\n",
    "keyword=input()\n",
    "search_prod.send_keys(keyword)"
   ]
  },
  {
   "cell_type": "code",
   "execution_count": 6,
   "id": "32baadd1",
   "metadata": {},
   "outputs": [],
   "source": [
    "search_btn=driver.find_element_by_xpath(\"//button[@id='searchbox-searchbutton']\")\n",
    "search_btn.click()"
   ]
  },
  {
   "cell_type": "code",
   "execution_count": 7,
   "id": "6e5750df",
   "metadata": {},
   "outputs": [
    {
     "name": "stdout",
     "output_type": "stream",
     "text": [
      "Geocordinates =  ['19.9981759', '64.3159169']\n",
      "Latitude =  19.9981759\n",
      "Longitude =  64.3159169\n"
     ]
    }
   ],
   "source": [
    "time.sleep(5)\n",
    "loc=driver.current_url\n",
    "\n",
    "try:\n",
    "    found = re.search('/@(.+?)/', loc).group(1)\n",
    "except AttributeError:\n",
    "    found = ''\n",
    "\n",
    "location=found.split(',')\n",
    "locat=location[:2]\n",
    "lat=location[0]\n",
    "lng=location[1]\n",
    "print(\"Geocordinates = \",locat)\n",
    "print(\"Latitude = \",lat)\n",
    "print(\"Longitude = \",lng)"
   ]
  },
  {
   "cell_type": "code",
   "execution_count": 8,
   "id": "72462db7",
   "metadata": {},
   "outputs": [],
   "source": [
    "driver.close()"
   ]
  },
  {
   "cell_type": "code",
   "execution_count": null,
   "id": "d8a8424a",
   "metadata": {},
   "outputs": [],
   "source": []
  }
 ],
 "metadata": {
  "kernelspec": {
   "display_name": "Python 3",
   "language": "python",
   "name": "python3"
  },
  "language_info": {
   "codemirror_mode": {
    "name": "ipython",
    "version": 3
   },
   "file_extension": ".py",
   "mimetype": "text/x-python",
   "name": "python",
   "nbconvert_exporter": "python",
   "pygments_lexer": "ipython3",
   "version": "3.8.8"
  }
 },
 "nbformat": 4,
 "nbformat_minor": 5
}
