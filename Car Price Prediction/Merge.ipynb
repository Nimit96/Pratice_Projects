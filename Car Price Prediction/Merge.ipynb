{
 "cells": [
  {
   "cell_type": "code",
   "execution_count": 1,
   "metadata": {},
   "outputs": [],
   "source": [
    "import numpy as np\n",
    "import pandas as pd"
   ]
  },
  {
   "cell_type": "code",
   "execution_count": 2,
   "metadata": {},
   "outputs": [],
   "source": [
    "ah = pd.read_excel(r'C:\\Users\\LENOVO\\Documents\\Post Graduation\\internship\\car-data collection\\ahmedabad.xlsx')\n",
    "bn = pd.read_excel(r'C:\\Users\\LENOVO\\Documents\\Post Graduation\\internship\\car-data collection\\bangalore.xlsx')\n",
    "hy = pd.read_excel(r'C:\\Users\\LENOVO\\Documents\\Post Graduation\\internship\\car-data collection\\hyderabad.xlsx')"
   ]
  },
  {
   "cell_type": "code",
   "execution_count": 3,
   "metadata": {},
   "outputs": [],
   "source": [
    "cardekho = pd.concat([ah,bn,hy], axis = 0, ignore_index = True)"
   ]
  },
  {
   "cell_type": "code",
   "execution_count": 4,
   "metadata": {},
   "outputs": [
    {
     "data": {
      "text/html": [
       "<div>\n",
       "<style scoped>\n",
       "    .dataframe tbody tr th:only-of-type {\n",
       "        vertical-align: middle;\n",
       "    }\n",
       "\n",
       "    .dataframe tbody tr th {\n",
       "        vertical-align: top;\n",
       "    }\n",
       "\n",
       "    .dataframe thead th {\n",
       "        text-align: right;\n",
       "    }\n",
       "</style>\n",
       "<table border=\"1\" class=\"dataframe\">\n",
       "  <thead>\n",
       "    <tr style=\"text-align: right;\">\n",
       "      <th></th>\n",
       "      <th>price</th>\n",
       "      <th>year</th>\n",
       "      <th>title</th>\n",
       "      <th>fuel</th>\n",
       "      <th>trans</th>\n",
       "      <th>mile</th>\n",
       "      <th>color</th>\n",
       "      <th>owner</th>\n",
       "      <th>engine</th>\n",
       "      <th>seating</th>\n",
       "      <th>location</th>\n",
       "      <th>Body</th>\n",
       "    </tr>\n",
       "  </thead>\n",
       "  <tbody>\n",
       "    <tr>\n",
       "      <th>0</th>\n",
       "      <td>422000</td>\n",
       "      <td>2019</td>\n",
       "      <td>2019 Maruti S-Presso</td>\n",
       "      <td>Petrol</td>\n",
       "      <td>Manual</td>\n",
       "      <td>24230 Kms</td>\n",
       "      <td>NaN</td>\n",
       "      <td>1st Owner</td>\n",
       "      <td>998</td>\n",
       "      <td>5.0</td>\n",
       "      <td>Ahmedabad</td>\n",
       "      <td>hatchback</td>\n",
       "    </tr>\n",
       "    <tr>\n",
       "      <th>1</th>\n",
       "      <td>585000</td>\n",
       "      <td>2018</td>\n",
       "      <td>2018 Maruti Swift</td>\n",
       "      <td>Diesel</td>\n",
       "      <td>Manual</td>\n",
       "      <td>31694 Kms</td>\n",
       "      <td>NaN</td>\n",
       "      <td>1st Owner</td>\n",
       "      <td>1248</td>\n",
       "      <td>5.0</td>\n",
       "      <td>Ahmedabad</td>\n",
       "      <td>hatchback</td>\n",
       "    </tr>\n",
       "    <tr>\n",
       "      <th>2</th>\n",
       "      <td>610000</td>\n",
       "      <td>2017</td>\n",
       "      <td>2017 Maruti Baleno</td>\n",
       "      <td>Petrol</td>\n",
       "      <td>Manual</td>\n",
       "      <td>49072 Kms</td>\n",
       "      <td>NaN</td>\n",
       "      <td>1st Owner</td>\n",
       "      <td>1197</td>\n",
       "      <td>5.0</td>\n",
       "      <td>Ahmedabad</td>\n",
       "      <td>hatchback</td>\n",
       "    </tr>\n",
       "    <tr>\n",
       "      <th>3</th>\n",
       "      <td>399000</td>\n",
       "      <td>2013</td>\n",
       "      <td>2013 Maruti Swift</td>\n",
       "      <td>Diesel</td>\n",
       "      <td>Manual</td>\n",
       "      <td>72301 Kms</td>\n",
       "      <td>NaN</td>\n",
       "      <td>1st Owner</td>\n",
       "      <td>1248</td>\n",
       "      <td>5.0</td>\n",
       "      <td>Ahmedabad</td>\n",
       "      <td>hatchback</td>\n",
       "    </tr>\n",
       "    <tr>\n",
       "      <th>4</th>\n",
       "      <td>600000</td>\n",
       "      <td>2019</td>\n",
       "      <td>2019 Maruti Swift</td>\n",
       "      <td>Petrol</td>\n",
       "      <td>Manual</td>\n",
       "      <td>21060 Kms</td>\n",
       "      <td>NaN</td>\n",
       "      <td>1st Owner</td>\n",
       "      <td>1197</td>\n",
       "      <td>5.0</td>\n",
       "      <td>Ahmedabad</td>\n",
       "      <td>hatchback</td>\n",
       "    </tr>\n",
       "  </tbody>\n",
       "</table>\n",
       "</div>"
      ],
      "text/plain": [
       "    price  year                 title    fuel   trans       mile color  \\\n",
       "0  422000  2019  2019 Maruti S-Presso  Petrol  Manual  24230 Kms   NaN   \n",
       "1  585000  2018     2018 Maruti Swift  Diesel  Manual  31694 Kms   NaN   \n",
       "2  610000  2017    2017 Maruti Baleno  Petrol  Manual  49072 Kms   NaN   \n",
       "3  399000  2013     2013 Maruti Swift  Diesel  Manual  72301 Kms   NaN   \n",
       "4  600000  2019     2019 Maruti Swift  Petrol  Manual  21060 Kms   NaN   \n",
       "\n",
       "       owner  engine  seating   location       Body  \n",
       "0  1st Owner     998      5.0  Ahmedabad  hatchback  \n",
       "1  1st Owner    1248      5.0  Ahmedabad  hatchback  \n",
       "2  1st Owner    1197      5.0  Ahmedabad  hatchback  \n",
       "3  1st Owner    1248      5.0  Ahmedabad  hatchback  \n",
       "4  1st Owner    1197      5.0  Ahmedabad  hatchback  "
      ]
     },
     "execution_count": 4,
     "metadata": {},
     "output_type": "execute_result"
    }
   ],
   "source": [
    "cardekho.head()"
   ]
  },
  {
   "cell_type": "code",
   "execution_count": 5,
   "metadata": {},
   "outputs": [],
   "source": [
    "cardekho['make'] = cardekho['title'].str.split(' ', expand = True)[1]\n",
    "cardekho['model'] = cardekho['title'].str.split(' ', expand = True)[2]"
   ]
  },
  {
   "cell_type": "code",
   "execution_count": 6,
   "metadata": {},
   "outputs": [
    {
     "data": {
      "text/html": [
       "<div>\n",
       "<style scoped>\n",
       "    .dataframe tbody tr th:only-of-type {\n",
       "        vertical-align: middle;\n",
       "    }\n",
       "\n",
       "    .dataframe tbody tr th {\n",
       "        vertical-align: top;\n",
       "    }\n",
       "\n",
       "    .dataframe thead th {\n",
       "        text-align: right;\n",
       "    }\n",
       "</style>\n",
       "<table border=\"1\" class=\"dataframe\">\n",
       "  <thead>\n",
       "    <tr style=\"text-align: right;\">\n",
       "      <th></th>\n",
       "      <th>price</th>\n",
       "      <th>year</th>\n",
       "      <th>title</th>\n",
       "      <th>fuel</th>\n",
       "      <th>trans</th>\n",
       "      <th>mile</th>\n",
       "      <th>color</th>\n",
       "      <th>owner</th>\n",
       "      <th>engine</th>\n",
       "      <th>seating</th>\n",
       "      <th>location</th>\n",
       "      <th>Body</th>\n",
       "      <th>make</th>\n",
       "      <th>model</th>\n",
       "    </tr>\n",
       "  </thead>\n",
       "  <tbody>\n",
       "    <tr>\n",
       "      <th>0</th>\n",
       "      <td>422000</td>\n",
       "      <td>2019</td>\n",
       "      <td>2019 Maruti S-Presso</td>\n",
       "      <td>Petrol</td>\n",
       "      <td>Manual</td>\n",
       "      <td>24230 Kms</td>\n",
       "      <td>NaN</td>\n",
       "      <td>1st Owner</td>\n",
       "      <td>998</td>\n",
       "      <td>5.0</td>\n",
       "      <td>Ahmedabad</td>\n",
       "      <td>hatchback</td>\n",
       "      <td>Maruti</td>\n",
       "      <td>S-Presso</td>\n",
       "    </tr>\n",
       "    <tr>\n",
       "      <th>1</th>\n",
       "      <td>585000</td>\n",
       "      <td>2018</td>\n",
       "      <td>2018 Maruti Swift</td>\n",
       "      <td>Diesel</td>\n",
       "      <td>Manual</td>\n",
       "      <td>31694 Kms</td>\n",
       "      <td>NaN</td>\n",
       "      <td>1st Owner</td>\n",
       "      <td>1248</td>\n",
       "      <td>5.0</td>\n",
       "      <td>Ahmedabad</td>\n",
       "      <td>hatchback</td>\n",
       "      <td>Maruti</td>\n",
       "      <td>Swift</td>\n",
       "    </tr>\n",
       "    <tr>\n",
       "      <th>2</th>\n",
       "      <td>610000</td>\n",
       "      <td>2017</td>\n",
       "      <td>2017 Maruti Baleno</td>\n",
       "      <td>Petrol</td>\n",
       "      <td>Manual</td>\n",
       "      <td>49072 Kms</td>\n",
       "      <td>NaN</td>\n",
       "      <td>1st Owner</td>\n",
       "      <td>1197</td>\n",
       "      <td>5.0</td>\n",
       "      <td>Ahmedabad</td>\n",
       "      <td>hatchback</td>\n",
       "      <td>Maruti</td>\n",
       "      <td>Baleno</td>\n",
       "    </tr>\n",
       "    <tr>\n",
       "      <th>3</th>\n",
       "      <td>399000</td>\n",
       "      <td>2013</td>\n",
       "      <td>2013 Maruti Swift</td>\n",
       "      <td>Diesel</td>\n",
       "      <td>Manual</td>\n",
       "      <td>72301 Kms</td>\n",
       "      <td>NaN</td>\n",
       "      <td>1st Owner</td>\n",
       "      <td>1248</td>\n",
       "      <td>5.0</td>\n",
       "      <td>Ahmedabad</td>\n",
       "      <td>hatchback</td>\n",
       "      <td>Maruti</td>\n",
       "      <td>Swift</td>\n",
       "    </tr>\n",
       "    <tr>\n",
       "      <th>4</th>\n",
       "      <td>600000</td>\n",
       "      <td>2019</td>\n",
       "      <td>2019 Maruti Swift</td>\n",
       "      <td>Petrol</td>\n",
       "      <td>Manual</td>\n",
       "      <td>21060 Kms</td>\n",
       "      <td>NaN</td>\n",
       "      <td>1st Owner</td>\n",
       "      <td>1197</td>\n",
       "      <td>5.0</td>\n",
       "      <td>Ahmedabad</td>\n",
       "      <td>hatchback</td>\n",
       "      <td>Maruti</td>\n",
       "      <td>Swift</td>\n",
       "    </tr>\n",
       "  </tbody>\n",
       "</table>\n",
       "</div>"
      ],
      "text/plain": [
       "    price  year                 title    fuel   trans       mile color  \\\n",
       "0  422000  2019  2019 Maruti S-Presso  Petrol  Manual  24230 Kms   NaN   \n",
       "1  585000  2018     2018 Maruti Swift  Diesel  Manual  31694 Kms   NaN   \n",
       "2  610000  2017    2017 Maruti Baleno  Petrol  Manual  49072 Kms   NaN   \n",
       "3  399000  2013     2013 Maruti Swift  Diesel  Manual  72301 Kms   NaN   \n",
       "4  600000  2019     2019 Maruti Swift  Petrol  Manual  21060 Kms   NaN   \n",
       "\n",
       "       owner  engine  seating   location       Body    make     model  \n",
       "0  1st Owner     998      5.0  Ahmedabad  hatchback  Maruti  S-Presso  \n",
       "1  1st Owner    1248      5.0  Ahmedabad  hatchback  Maruti     Swift  \n",
       "2  1st Owner    1197      5.0  Ahmedabad  hatchback  Maruti    Baleno  \n",
       "3  1st Owner    1248      5.0  Ahmedabad  hatchback  Maruti     Swift  \n",
       "4  1st Owner    1197      5.0  Ahmedabad  hatchback  Maruti     Swift  "
      ]
     },
     "execution_count": 6,
     "metadata": {},
     "output_type": "execute_result"
    }
   ],
   "source": [
    "cardekho.head()"
   ]
  },
  {
   "cell_type": "code",
   "execution_count": 7,
   "metadata": {},
   "outputs": [],
   "source": [
    "cardekho = cardekho.drop(columns = 'title')\n",
    "cardekho['mile']  = cardekho['mile'].replace('Kms','')"
   ]
  },
  {
   "cell_type": "code",
   "execution_count": 8,
   "metadata": {},
   "outputs": [],
   "source": [
    "cardekho['color'] = cardekho['color'].fillna(cardekho['color'].mode()[0])"
   ]
  },
  {
   "cell_type": "code",
   "execution_count": 9,
   "metadata": {},
   "outputs": [],
   "source": [
    "cardekho['seating'] = cardekho['seating'].fillna(5)"
   ]
  },
  {
   "cell_type": "code",
   "execution_count": 10,
   "metadata": {},
   "outputs": [
    {
     "data": {
      "text/plain": [
       "(456, 13)"
      ]
     },
     "execution_count": 10,
     "metadata": {},
     "output_type": "execute_result"
    }
   ],
   "source": [
    "cardekho.shape"
   ]
  },
  {
   "cell_type": "code",
   "execution_count": 11,
   "metadata": {},
   "outputs": [],
   "source": [
    "carwale = pd.read_excel(r'C:\\Users\\LENOVO\\Documents\\Post Graduation\\internship\\car-data collection\\carwale.xlsx')"
   ]
  },
  {
   "cell_type": "code",
   "execution_count": 13,
   "metadata": {},
   "outputs": [
    {
     "data": {
      "text/plain": [
       "(6325, 13)"
      ]
     },
     "execution_count": 13,
     "metadata": {},
     "output_type": "execute_result"
    }
   ],
   "source": [
    "carwale = carwale.iloc[:,:13]\n",
    "carwale.shape"
   ]
  },
  {
   "cell_type": "code",
   "execution_count": 14,
   "metadata": {},
   "outputs": [
    {
     "data": {
      "text/html": [
       "<div>\n",
       "<style scoped>\n",
       "    .dataframe tbody tr th:only-of-type {\n",
       "        vertical-align: middle;\n",
       "    }\n",
       "\n",
       "    .dataframe tbody tr th {\n",
       "        vertical-align: top;\n",
       "    }\n",
       "\n",
       "    .dataframe thead th {\n",
       "        text-align: right;\n",
       "    }\n",
       "</style>\n",
       "<table border=\"1\" class=\"dataframe\">\n",
       "  <thead>\n",
       "    <tr style=\"text-align: right;\">\n",
       "      <th></th>\n",
       "      <th>price</th>\n",
       "      <th>year</th>\n",
       "      <th>make</th>\n",
       "      <th>model</th>\n",
       "      <th>fuel</th>\n",
       "      <th>trans</th>\n",
       "      <th>location</th>\n",
       "      <th>mile</th>\n",
       "      <th>color</th>\n",
       "      <th>owner</th>\n",
       "      <th>engine</th>\n",
       "      <th>seating</th>\n",
       "      <th>Body</th>\n",
       "    </tr>\n",
       "  </thead>\n",
       "  <tbody>\n",
       "    <tr>\n",
       "      <th>0</th>\n",
       "      <td>5.9</td>\n",
       "      <td>2018.0</td>\n",
       "      <td>Volkswagen</td>\n",
       "      <td>Polo</td>\n",
       "      <td>Petrol</td>\n",
       "      <td>Manual</td>\n",
       "      <td>Ahmedabad</td>\n",
       "      <td>61982.0</td>\n",
       "      <td>Red</td>\n",
       "      <td>First</td>\n",
       "      <td>1198 cc</td>\n",
       "      <td>5</td>\n",
       "      <td>hatchback</td>\n",
       "    </tr>\n",
       "    <tr>\n",
       "      <th>1</th>\n",
       "      <td>7.25</td>\n",
       "      <td>2018.0</td>\n",
       "      <td>Maruti Suzuki</td>\n",
       "      <td>Swift</td>\n",
       "      <td>Diesel</td>\n",
       "      <td>Automatic</td>\n",
       "      <td>Ahmedabad</td>\n",
       "      <td>35387.0</td>\n",
       "      <td>White</td>\n",
       "      <td>First</td>\n",
       "      <td>1248 cc</td>\n",
       "      <td>5</td>\n",
       "      <td>hatchback</td>\n",
       "    </tr>\n",
       "    <tr>\n",
       "      <th>2</th>\n",
       "      <td>2.25</td>\n",
       "      <td>2013.0</td>\n",
       "      <td>Hyundai</td>\n",
       "      <td>Eon</td>\n",
       "      <td>Petrol</td>\n",
       "      <td>Manual</td>\n",
       "      <td>Ahmedabad</td>\n",
       "      <td>51600.0</td>\n",
       "      <td>Grey</td>\n",
       "      <td>Second</td>\n",
       "      <td>814 cc</td>\n",
       "      <td>5</td>\n",
       "      <td>hatchback</td>\n",
       "    </tr>\n",
       "    <tr>\n",
       "      <th>3</th>\n",
       "      <td>3.25</td>\n",
       "      <td>2013.0</td>\n",
       "      <td>Volkswagen</td>\n",
       "      <td>Polo</td>\n",
       "      <td>Diesel</td>\n",
       "      <td>Manual</td>\n",
       "      <td>Ahmedabad</td>\n",
       "      <td>65000.0</td>\n",
       "      <td>Silver</td>\n",
       "      <td>First</td>\n",
       "      <td>1199 cc</td>\n",
       "      <td>5</td>\n",
       "      <td>hatchback</td>\n",
       "    </tr>\n",
       "    <tr>\n",
       "      <th>4</th>\n",
       "      <td>6.25</td>\n",
       "      <td>2017.0</td>\n",
       "      <td>Hyundai</td>\n",
       "      <td>Elite i20</td>\n",
       "      <td>Diesel</td>\n",
       "      <td>Manual</td>\n",
       "      <td>Ahmedabad</td>\n",
       "      <td>56000.0</td>\n",
       "      <td>White</td>\n",
       "      <td>First</td>\n",
       "      <td>1396 cc</td>\n",
       "      <td>5</td>\n",
       "      <td>hatchback</td>\n",
       "    </tr>\n",
       "  </tbody>\n",
       "</table>\n",
       "</div>"
      ],
      "text/plain": [
       "    price    year           make      model    fuel      trans   location  \\\n",
       "0    5.9   2018.0     Volkswagen       Polo  Petrol     Manual  Ahmedabad   \n",
       "1   7.25   2018.0  Maruti Suzuki      Swift  Diesel  Automatic  Ahmedabad   \n",
       "2   2.25   2013.0        Hyundai        Eon  Petrol     Manual  Ahmedabad   \n",
       "3   3.25   2013.0     Volkswagen       Polo  Diesel     Manual  Ahmedabad   \n",
       "4   6.25   2017.0        Hyundai  Elite i20  Diesel     Manual  Ahmedabad   \n",
       "\n",
       "      mile   color   owner   engine seating       Body  \n",
       "0  61982.0     Red   First  1198 cc      5   hatchback  \n",
       "1  35387.0   White   First  1248 cc      5   hatchback  \n",
       "2  51600.0    Grey  Second   814 cc      5   hatchback  \n",
       "3  65000.0  Silver   First  1199 cc      5   hatchback  \n",
       "4  56000.0   White   First  1396 cc      5   hatchback  "
      ]
     },
     "execution_count": 14,
     "metadata": {},
     "output_type": "execute_result"
    }
   ],
   "source": [
    "carwale.head()"
   ]
  },
  {
   "cell_type": "code",
   "execution_count": 26,
   "metadata": {},
   "outputs": [
    {
     "data": {
      "text/plain": [
       "array([' 5.9 ', ' 7.25 ', ' 2.25 ', ' 3.25 ', ' 6.25 ', ' 2.81 ', ' 6.9 ',\n",
       "       ' 4.25 ', ' 4.9 ', ' 3.4 ', ' 5.75 ', ' 4.15 ', ' 6.5 ', ' 4.5 ',\n",
       "       ' 10.5 ', ' 2.9 ', ' 1.25 ', ' 1.9 ', ' 2.89 ', ' 3.11 ', ' 3.95 ',\n",
       "       ' 8.25 ', ' 5.3 ', ' 2.65 ', ' 1.95 ', ' 3.8 ', ' 3.35 ', ' 6.75 ',\n",
       "       ' 3.75 ', ' 3.65 ', ' 2.1 ', ' 2.75 ', ' 4.6 ', ' 10.75 ', ' 7.5 ',\n",
       "       ' 3.99 ', ' 4.3 ', ' 3.51 ', ' 5.15 ', ' 7.75 ', ' 6 ', ' 3 ',\n",
       "       ' 2.6 ', ' 2.8 ', ' 2.45 ', ' 3.6 ', ' 2.5 ', ' 5.5 ', ' 3.9 ',\n",
       "       ' 4.35 ', ' 3.5 ', ' 1.4 ', ' 2.95 ', ' 12.9 ', ' 4.65 ', ' 5.65 ',\n",
       "       ' 3.45 ', ' 7 ', ' 6.51 ', ' 2.35 ', ' 3.46 ', ' 3.85 ', ' 13.5 ',\n",
       "       ' 3.55 ', ' 5.6 ', ' 2.3 ', ' 2.4 ', ' 3.15 ', ' 1.45 ', ' 1.2 ',\n",
       "       ' 5.4 ', ' 3.3 ', ' 4.7 ', ' 4.21 ', ' 2.7 ', ' 5.8 ', ' 4.4 ',\n",
       "       ' 2.64 ', ' 2.05 ', ' 10.51 ', ' 4.75 ', ' 3.05 ', ' 4.45 ',\n",
       "       ' 4.8 ', ' 2.99 ', ' 2.55 ', ' 4.1 ', ' 6.4 ', ' 11 ', ' 2.31 ',\n",
       "       ' 2.51 ', ' 4.31 ', ' 1.85 ', ' 1.05 ', ' 1.55 ', ' 1.5 ', ' 5 ',\n",
       "       ' 1.7 ', ' 1.6 ', ' 2.85 ', ' 1.65 ', ' 2.61 ', ' 21 ', ' 45 ',\n",
       "       ' 65 ', ' 5.25 ', ' 25 ', ' 17.75 ', ' 6.3 ', ' 30.5 ', ' 9.75 ',\n",
       "       ' 11.5 ', ' 27.5 ', ' 32.75 ', ' 8.75 ', ' 24.5 ', ' 29.5 ',\n",
       "       ' 21.51 ', ' 8.9 ', ' 9.15 ', ' 9.71 ', ' 54 ', ' 5.95 ', ' 37 ',\n",
       "       ' 75 ', ' 8.78 ', ' 7.9 ', ' 16.9 ', ' 15.9 ', ' 8.5 ', ' 9.9 ',\n",
       "       ' 36 ', ' 62 ', ' 8.6 ', ' 2.15 ', ' 18.5 ', ' 23.5 ', ' 17.9 ',\n",
       "       ' 21.5 ', ' 6.73 ', ' 58 ', ' 11.75 ', ' 15 ', ' 29 ', ' 9.5 ',\n",
       "       ' 31.5 ', ' 10 ', ' 18.25 ', ' 14.5 ', ' 14 ', ' 11.9 ', ' 6.45 ',\n",
       "       ' 5.35 ', ' 25.25 ', ' 52.35 ', ' 11.8 ', ' 19.75 ', ' 18 ',\n",
       "       ' 16.5 ', ' 7.15 ', ' 12.75 ', ' 6.99 ', ' 10.25 ', ' 16.25 ',\n",
       "       ' 8.15 ', ' 35 ', ' 25.5 ', ' 41 ', ' 7.1 ', ' 14.75 ', ' 12.5 ',\n",
       "       ' 7.49 ', ' 13.75 ', ' 19.9 ', ' 13.9 ', ' 26 ', ' 15.5 ',\n",
       "       ' 8.85 ', ' 9.25 ', ' 52.5 ', ' 8.65 ', ' 56 ', ' 19.5 ', ' 72 ',\n",
       "       ' 22.5 ', ' 7.65 ', ' 8.8 ', ' 10.9 ', ' 16.75 ', ' 53 ', ' 5.7 ',\n",
       "       ' 7.85 ', ' 5.55 ', ' 7.95 ', ' 14.51 ', ' 8.55 ', ' 9.6 ',\n",
       "       ' 8.99 ', ' 5.1 ', ' 9 ', ' 16.51 ', ' 52 ', ' 34.5 ', ' 46.5 ',\n",
       "       ' 8.4 ', ' 32.5 ', ' 33 ', ' 42 ', ' 17.5 ', ' 10.6 ', ' 14.25 ',\n",
       "       ' 48 ', ' 11.25 ', ' 6.65 ', ' 8.51 ', ' 26.51 ', ' 14.31 ',\n",
       "       ' 43 ', ' 39.5 ', ' 17 ', ' 12 ', ' 7.55 ', ' 39 ', ' 13.51 ',\n",
       "       ' 36.5 ', ' 34 ', ' 2 ', ' 3.39 ', ' 14.95 ', ' 5.45 ', ' 4.76 ',\n",
       "       ' 4.05 ', ' 3.7 ', ' 20 ', ' 38 ', ' 85.11 ', ' 19 ', ' 16 ',\n",
       "       ' 55 ', ' 26.5 ', ' 11.35 ', ' 51 ', ' 22.51 ', ' 18.11 ',\n",
       "       ' 4.55 ', ' 11.71 ', ' 21.99 ', ' 4.41 ', ' 4.91 ', ' 4.95 ',\n",
       "       ' 4 ', ' 1.8 ', ' 1.75 ', ' 4.2 ', ' 5.2 ', ' 4.85 ', ' 3.2 ',\n",
       "       ' 38.5 ', ' 4.89 ', ' 3.21 ', ' 5.99 ', ' 4.49 ', ' 5.78 ',\n",
       "       ' 4.99 ', ' 7.35 ', ' 6.85 ', ' 9.65 ', ' 5.85 ', ' 8.95 ',\n",
       "       ' 15.75 ', ' 6.7 ', ' 3.1 ', ' 6.95 ', ' 6.15 ', ' 6.05 ', ' 6.6 ',\n",
       "       ' 22.75 ', ' 6.49 ', ' 5.68 ', ' 7.45 ', ' 3.29 ', ' 6.2 ',\n",
       "       ' 6.35 ', ' 11.85 ', ' 13.45 ', ' 9.1 ', ' 12.45 ', ' 22.65 ',\n",
       "       ' 11.65 ', ' 21.35 ', ' 9.48 ', ' 12.99 ', ' 31.99 ', ' 8.45 ',\n",
       "       ' 12.95 ', ' 22.95 ', ' 17.99 ', ' 21.25 ', ' 15.65 ', ' 20.5 ',\n",
       "       ' 33.99 ', ' 13.3 ', ' 8 ', ' 14.99 ', ' 9.95 ', ' 26.85 ', ' 40 ',\n",
       "       ' 11.45 ', ' 18.95 ', ' 57.45 ', ' 9.85 ', ' 19.8 ', ' 13.7 ',\n",
       "       ' 18.45 ', ' 12.25 ', ' 13 ', ' 10.65 ', ' 31 ', ' 92 ', ' 30 ',\n",
       "       ' 59.75 ', ' 18.7 ', ' 33.5 ', ' 32 ', ' 19.6 ', ' 19.25 ',\n",
       "       ' 26.25 ', ' 34.95 ', ' 20.45 ', ' 25.85 ', ' 13.25 ', ' 28 ',\n",
       "       ' 39.75 ', ' 17.89 ', ' 48.5 ', ' 70 ', ' 45.75 ', ' 10.35 ',\n",
       "       ' 17.25 ', ' 75.75 ', ' 10.15 ', ' 27.75 ', ' 47 ', ' 35.5 ',\n",
       "       ' 57.25 ', ' 53.75 ', ' 28.5 ', ' 49.75 ', ' 49.5 ', ' 53.25 ',\n",
       "       ' 32.45 ', ' 18.75 ', ' 46 ', ' 38.95 ', ' 32.95 ', ' 26.75 ',\n",
       "       ' 60.75 ', ' 32.25 ', ' 54.75 ', ' 7.3 ', ' 9.45 ', ' 2.2 ',\n",
       "       ' 10.95 ', ' 44.75 ', ' 9.49 ', ' 8.35 ', ' 43.5 ', ' 10.49 ',\n",
       "       ' 7.8 ', ' 10.4 ', ' 20.75 ', ' 4.79 ', ' 11.95 ', ' 23.85 ',\n",
       "       ' 10.85 ', ' 6.55 ', ' 9.8 ', ' 29.75 ', ' 11.99 ', ' 34.75 ',\n",
       "       ' 37.85 ', ' 9.2 ', ' 43.75 ', ' 28.75 ', ' 50 ', ' 15.95 ',\n",
       "       ' 58.75 ', ' 20.95 ', ' 47.75 ', ' 21.95 ', ' 24.65 ', ' 7.99 ',\n",
       "       ' 27 ', ' 22.85 ', ' 75.95 ', ' 59 ', ' 23 ', ' 67 ', ' 4.48 ',\n",
       "       ' 3.26 ', ' 5.59 ', ' 4.24 ', ' 3.24 ', ' 6.24 ', ' 8.2 ', ' 8.1 ',\n",
       "       ' 6.1 ', ' 7.4 ', ' 6.8 ', ' 20.25 ', ' 27.9 ', ' 22.9 ', ' 44 ',\n",
       "       ' 68 ', ' 85 ', ' 29.99 ', ' 21.9 ', ' 22 ', ' 18.49 ', ' 13.95 ',\n",
       "       ' 26.99 ', ' 49 ', ' 95 ', ' 11.4 ', ' 57 ', ' 62.9 ', ' 21.75 ',\n",
       "       ' 8.7 ', ' 18.9 ', ' 79 ', ' 23.9 ', ' 40.5 ', ' 24 ', ' 12.7 ',\n",
       "       ' 9.35 ', ' 9.3 ', ' 14.85 ', ' 7.7 ', ' 80 ', ' 69 ', ' 38.9 ',\n",
       "       ' 28.9 ', ' 15.6 ', ' 7.24 ', ' 63.9 ', ' 7.6 ', ' 60 ', ' 45.5 ',\n",
       "       ' 56.9 ', ' 12.8 ', ' 12.85 ', ' 14.9 ', ' 33.9 ', ' 71.5 ',\n",
       "       ' 69.9 ', ' 64.9 ', ' 3.98 ', ' 4.98 ', ' 1.38 ', ' 1 ', ' 63.5 ',\n",
       "       ' 13.85 ', ' 34.9 ', ' 29.95 ', ' 29.9 ', ' 53.9 ', ' 32.8 ',\n",
       "       ' 24.9 ', ' 6.48 ', ' 59.9 ', ' 5.49 ', ' 17.95 ', ' 9.99 ',\n",
       "       ' 1.35 ', ' 4.59 ', ' 1.99 ', ' 31.75 ', ' 14.4 ', ' 3.41 ',\n",
       "       ' 3.54 ', ' 1.89 ', ' 7.2 ', ' 19.99 ', ' 54.5 ', ' 6.11 ',\n",
       "       ' 2.29 ', ' 3.79 ', ' 3.49 ', ' 1.49 ', ' 6.17 ', ' 11.49 ',\n",
       "       ' 6.58 ', ' 42.99 ', ' 44.5 ', ' 5.51 ', ' 1.1 ', ' 10.76 ',\n",
       "       ' 23.97 ', ' 3.07 ', ' 15.05 ', ' 3.33 ', ' 6.96 ', ' 3.58 ',\n",
       "       ' 8.3 ', ' 7.71 ', ' 2.53 ', ' 3.22 ', ' 6.33 ', ' 4.19 ',\n",
       "       ' 6.16 ', ' 6.91 ', ' 11.6 ', ' 15.35 ', ' 14.8 ', ' 15.3 ',\n",
       "       ' 16.65 ', ' 34.3 ', ' 10.8 ', ' 21.45 ', ' 16.3 ', ' 9.55 ',\n",
       "       ' 12.35 ', ' 15.45 ', ' 7.89 ', ' 9.7 ', ' 17.3 ', ' 17.65 ',\n",
       "       ' 72.5 ', ' 10.7 ', ' 68.5 ', ' 5.98 ', ' 4.69 ', ' 14.1 ',\n",
       "       ' 24.99 ', ' 8.42 ', ' 7.13 ', ' 13.99 ', ' 7.34 ', ' 4.32 ',\n",
       "       ' 1.59 ', ' 3.48 ', ' 78 ', ' 1.3 ', ' 1.97 ', ' 2.22 ', ' 5.11 ',\n",
       "       ' 1.15 ', ' 12.1 ', ' 92.5 ', ' 7.21 ', ' 12.11 ', ' 80.5 ',\n",
       "       ' 51.5 ', ' 79.5 ', ' 87 ', ' 24.75 ', ' 5.21 ', ' 2.11 ',\n",
       "       ' 69.5 ', ' 67.5 ', ' 13.35 ', ' 4.14 ', ' 10.99 ', ' 37.5 ',\n",
       "       ' 12.97 ', ' 36.25 ', ' 3.38 ', ' 87,500', ' 26.26 ', ' 25.75 ',\n",
       "       ' 88 ', ' 35.29 ', ' 6.89 ', ' 18.89 ', ' 21.65 ', ' 6.67 ',\n",
       "       ' 16.49 ', ' 8.49 ', ' 39.9 ', ' 89.5 ', ' 6.79 ', ' 13.79 ',\n",
       "       ' 7.14 ', ' 7.74 ', ' 30.3 ', ' 6.13 ', ' 2.49 ', ' 5.81 ',\n",
       "       ' 7.84 ', ' 5.88 ', ' 76 ', ' 16.55 ', ' 16.99 ', ' 18.39 ',\n",
       "       ' 23.99 ', ' 7.41 ', ' 22.99 ', ' 32.99 ', ' 33.51 ', ' 15.7 ',\n",
       "       ' 29.93 ', ' 5.71 ', ' 7.28 ', ' 14.6 ', ' 13.8 ', ' 6.37 ',\n",
       "       ' 4.94 ', ' 3.19 ', ' 2.18 ', ' 2.91 ', ' 4.11 ', ' 1.87 ',\n",
       "       ' 1.37 ', ' 5.05 ', ' 36.99 ', ' 3.44 ', ' 2.21 ', ' 3.61 ',\n",
       "       ' 4.61 ', ' 11.3 ', ' 13.4 ', ' 43.15 ', ' 44.9 ', ' 14.3 ',\n",
       "       ' 17.85 ', ' 11.55 ', ' 12.2 ', ' 47.5 ', ' 4.71 ', ' 9.91 ',\n",
       "       ' 3.91 ', ' 15.8 ', ' 17.4 ', ' 27.8 ', ' 49.49 ', ' 20.65 ',\n",
       "       ' 11.1 ', ' 64 ', ' 15.25 ', ' 15.99 ', ' 4.16 ', ' 21.85 ',\n",
       "       ' 6.21 ', ' 61 ', ' 38.8 ', ' 8.31 ', ' 23.95 ', ' 24.95 ',\n",
       "       ' 39.99 ', ' 45.9 ', ' 70.5 ', 235, 185, 135, 218.00000000000003,\n",
       "       229.99999999999997, 355, 325, 670, 395, 175, 100, 169, 147, 125,\n",
       "       118, 140, 409.99999999999994, 400, 114.99999999999999, 129,\n",
       "       110.00000000000001, 130, 0.7, 0.20077, 0.9, 0.75, 0.43, 0.65, 0.6,\n",
       "       0.45, 0.8, 0.55, 0.85, 0.8625, 0.95, 0.97, 0.99, 0.72999, 0.88,\n",
       "       0.4, 0.68, 0.5, 0.98], dtype=object)"
      ]
     },
     "execution_count": 26,
     "metadata": {},
     "output_type": "execute_result"
    }
   ],
   "source": [
    "carwale['price'].unique()"
   ]
  },
  {
   "cell_type": "code",
   "execution_count": 17,
   "metadata": {},
   "outputs": [],
   "source": [
    "carwale['engine'] = carwale['engine'].replace('cc','')"
   ]
  },
  {
   "cell_type": "code",
   "execution_count": 18,
   "metadata": {},
   "outputs": [],
   "source": [
    "carwale = carwale.replace('-',None)"
   ]
  },
  {
   "cell_type": "code",
   "execution_count": 19,
   "metadata": {},
   "outputs": [
    {
     "data": {
      "text/plain": [
       "price       100\n",
       "year        100\n",
       "make        100\n",
       "model       100\n",
       "fuel        100\n",
       "trans       100\n",
       "location    100\n",
       "mile        100\n",
       "color       100\n",
       "owner       100\n",
       "engine      100\n",
       "seating     100\n",
       "Body        100\n",
       "dtype: int64"
      ]
     },
     "execution_count": 19,
     "metadata": {},
     "output_type": "execute_result"
    }
   ],
   "source": [
    "carwale.isnull().sum()"
   ]
  },
  {
   "cell_type": "code",
   "execution_count": 20,
   "metadata": {},
   "outputs": [],
   "source": [
    "carwale = carwale.dropna(axis = 0)"
   ]
  },
  {
   "cell_type": "code",
   "execution_count": 21,
   "metadata": {},
   "outputs": [
    {
     "data": {
      "text/plain": [
       "(6225, 13)"
      ]
     },
     "execution_count": 21,
     "metadata": {},
     "output_type": "execute_result"
    }
   ],
   "source": [
    "carwale.shape"
   ]
  },
  {
   "cell_type": "code",
   "execution_count": 22,
   "metadata": {},
   "outputs": [],
   "source": [
    "carwale['engine'] = np.where(carwale['engine'].isin(['Petrol','14.28 seconds','4 Cylinders Inline','11.48 seconds',\n",
    "                                                    'Diesel','250 Kmph','233 Kmph','226 Kmph','6.5 seconds','4.5 seconds']),None, carwale['engine'])"
   ]
  },
  {
   "cell_type": "code",
   "execution_count": 23,
   "metadata": {},
   "outputs": [],
   "source": [
    "carwale = carwale.dropna(axis = 0)"
   ]
  },
  {
   "cell_type": "code",
   "execution_count": 24,
   "metadata": {},
   "outputs": [
    {
     "data": {
      "text/plain": [
       "array(['1198 cc', '1248 cc', '814 cc', '1199 cc', '1396 cc', '1197 cc',\n",
       "       '1196 cc', '999 cc', '998 cc', '799 cc', '1595 cc', '1461 cc',\n",
       "       '1298 cc', '1061 cc', '1086 cc', '1364 cc', '1186 cc', '1336 cc',\n",
       "       '1498 cc', '796 cc', '1399 cc', '1120 cc', '1984 cc', '995 cc',\n",
       "       '2179 cc', '1991 cc', '2967 cc', '4134 cc', '2755 cc', '2199 cc',\n",
       "       '1591 cc', '1968 cc', '2982 cc', '1999 cc', '1462 cc', '2696 cc',\n",
       "       '1598 cc', '1956 cc', '1995 cc', '2400 cc', '1497 cc', '1582 cc',\n",
       "       '1368 cc', '2499 cc', '1996 cc', '1493 cc', '2393 cc', '2198 cc',\n",
       "       '1997 cc', '2143 cc', '1499 cc', '3198 cc', '2956 cc', '1451 cc',\n",
       "       '2477 cc', '2494 cc', '2987 cc', '1950 cc', '4367 cc', '2184 cc',\n",
       "       '1969 cc', '2997 cc', '1998 cc', '1373 cc', '2359 cc', '2993 cc',\n",
       "       '1798 cc', '1495 cc', '1496 cc', '1799 cc', '2349 cc', '1797 cc',\n",
       "       '1194 cc', '1596 cc', '2148 cc', '1405 cc', '1796 cc', '2354 cc',\n",
       "       '2497 cc', '2995 cc', '5198 cc', '624 cc', '1047 cc', '2953 cc',\n",
       "       '4461 cc', '2498 cc', '1795 cc', '2685 cc', '1586 cc', '1299 cc',\n",
       "       '3498 cc', '1896 cc', '1794 cc', '2996 cc', '4735 cc', '4691 cc',\n",
       "       '936 cc', '5461 cc', '2999 cc', '2157 cc', '2362 cc', '1193 cc',\n",
       "       '1395 cc', '2925 cc', '3189 cc', '4951 cc', '3800 cc', '1108 cc',\n",
       "       '1172 cc', '993 cc', '1341 cc', '3200 cc', '2523 cc', '2609 cc',\n",
       "       '2489 cc', '2698 cc', '1599 cc', '1986 cc', '3628 cc', '1388 cc',\n",
       "       '5998 cc', '2496 cc', '1389 cc', '793 cc', '1150 cc', '3604 cc',\n",
       "       '2979 cc', '1422 cc', '1589 cc', '1993 cc', '3956 cc', '1390 cc',\n",
       "       '2694 cc', '3496 cc', '2596 cc', '4163 cc', '1988 cc', '5935 cc',\n",
       "       '5204 cc', '3902 cc', '6749 cc', '6498 cc', '3996 cc', '3456 cc',\n",
       "       '5950 cc', '3993 cc'], dtype=object)"
      ]
     },
     "execution_count": 24,
     "metadata": {},
     "output_type": "execute_result"
    }
   ],
   "source": [
    "carwale['engine'].unique()"
   ]
  },
  {
   "cell_type": "code",
   "execution_count": 30,
   "metadata": {},
   "outputs": [],
   "source": [
    "carwale['price'] =  carwale['price'].replace(' 87,500', None)"
   ]
  },
  {
   "cell_type": "code",
   "execution_count": 35,
   "metadata": {},
   "outputs": [],
   "source": [
    "carwale['engine'] = carwale['engine'].str.replace(' cc','')"
   ]
  },
  {
   "cell_type": "code",
   "execution_count": 38,
   "metadata": {},
   "outputs": [],
   "source": [
    "carwale['seating'] = carwale['seating'].str.replace(' ','')"
   ]
  },
  {
   "cell_type": "code",
   "execution_count": 42,
   "metadata": {},
   "outputs": [],
   "source": [
    "carwale['seating'] =  carwale['seating'].replace('7&9','9').replace('7&8','8')"
   ]
  },
  {
   "cell_type": "code",
   "execution_count": 43,
   "metadata": {},
   "outputs": [],
   "source": [
    "carwale['price'] = pd.to_numeric(carwale['price'])\n",
    "carwale['year'] = pd.to_numeric(carwale['year'])\n",
    "carwale['mile'] = pd.to_numeric(carwale['mile'])\n",
    "carwale['engine'] = pd.to_numeric(carwale['engine'])\n",
    "carwale['seating'] = pd.to_numeric(carwale['seating'])"
   ]
  },
  {
   "cell_type": "code",
   "execution_count": 44,
   "metadata": {},
   "outputs": [],
   "source": [
    "cars = pd.concat([cardekho,carwale], axis = 0, ignore_index = True)"
   ]
  },
  {
   "cell_type": "code",
   "execution_count": 45,
   "metadata": {},
   "outputs": [
    {
     "data": {
      "text/plain": [
       "(6591, 13)"
      ]
     },
     "execution_count": 45,
     "metadata": {},
     "output_type": "execute_result"
    }
   ],
   "source": [
    "cars.shape"
   ]
  },
  {
   "cell_type": "code",
   "execution_count": 47,
   "metadata": {},
   "outputs": [],
   "source": [
    "cars['make'] = cars['make'].replace('Maruti','Maruti Suzuki')"
   ]
  },
  {
   "cell_type": "code",
   "execution_count": 48,
   "metadata": {},
   "outputs": [
    {
     "data": {
      "text/html": [
       "<div>\n",
       "<style scoped>\n",
       "    .dataframe tbody tr th:only-of-type {\n",
       "        vertical-align: middle;\n",
       "    }\n",
       "\n",
       "    .dataframe tbody tr th {\n",
       "        vertical-align: top;\n",
       "    }\n",
       "\n",
       "    .dataframe thead th {\n",
       "        text-align: right;\n",
       "    }\n",
       "</style>\n",
       "<table border=\"1\" class=\"dataframe\">\n",
       "  <thead>\n",
       "    <tr style=\"text-align: right;\">\n",
       "      <th></th>\n",
       "      <th>price</th>\n",
       "      <th>year</th>\n",
       "      <th>fuel</th>\n",
       "      <th>trans</th>\n",
       "      <th>mile</th>\n",
       "      <th>color</th>\n",
       "      <th>owner</th>\n",
       "      <th>engine</th>\n",
       "      <th>seating</th>\n",
       "      <th>location</th>\n",
       "      <th>Body</th>\n",
       "      <th>make</th>\n",
       "      <th>model</th>\n",
       "    </tr>\n",
       "  </thead>\n",
       "  <tbody>\n",
       "    <tr>\n",
       "      <th>0</th>\n",
       "      <td>422000.0</td>\n",
       "      <td>2019.0</td>\n",
       "      <td>Petrol</td>\n",
       "      <td>Manual</td>\n",
       "      <td>24230 Kms</td>\n",
       "      <td>White</td>\n",
       "      <td>1st Owner</td>\n",
       "      <td>998</td>\n",
       "      <td>5.0</td>\n",
       "      <td>Ahmedabad</td>\n",
       "      <td>hatchback</td>\n",
       "      <td>Maruti Suzuki</td>\n",
       "      <td>S-Presso</td>\n",
       "    </tr>\n",
       "    <tr>\n",
       "      <th>1</th>\n",
       "      <td>585000.0</td>\n",
       "      <td>2018.0</td>\n",
       "      <td>Diesel</td>\n",
       "      <td>Manual</td>\n",
       "      <td>31694 Kms</td>\n",
       "      <td>White</td>\n",
       "      <td>1st Owner</td>\n",
       "      <td>1248</td>\n",
       "      <td>5.0</td>\n",
       "      <td>Ahmedabad</td>\n",
       "      <td>hatchback</td>\n",
       "      <td>Maruti Suzuki</td>\n",
       "      <td>Swift</td>\n",
       "    </tr>\n",
       "    <tr>\n",
       "      <th>2</th>\n",
       "      <td>610000.0</td>\n",
       "      <td>2017.0</td>\n",
       "      <td>Petrol</td>\n",
       "      <td>Manual</td>\n",
       "      <td>49072 Kms</td>\n",
       "      <td>White</td>\n",
       "      <td>1st Owner</td>\n",
       "      <td>1197</td>\n",
       "      <td>5.0</td>\n",
       "      <td>Ahmedabad</td>\n",
       "      <td>hatchback</td>\n",
       "      <td>Maruti Suzuki</td>\n",
       "      <td>Baleno</td>\n",
       "    </tr>\n",
       "    <tr>\n",
       "      <th>3</th>\n",
       "      <td>399000.0</td>\n",
       "      <td>2013.0</td>\n",
       "      <td>Diesel</td>\n",
       "      <td>Manual</td>\n",
       "      <td>72301 Kms</td>\n",
       "      <td>White</td>\n",
       "      <td>1st Owner</td>\n",
       "      <td>1248</td>\n",
       "      <td>5.0</td>\n",
       "      <td>Ahmedabad</td>\n",
       "      <td>hatchback</td>\n",
       "      <td>Maruti Suzuki</td>\n",
       "      <td>Swift</td>\n",
       "    </tr>\n",
       "    <tr>\n",
       "      <th>4</th>\n",
       "      <td>600000.0</td>\n",
       "      <td>2019.0</td>\n",
       "      <td>Petrol</td>\n",
       "      <td>Manual</td>\n",
       "      <td>21060 Kms</td>\n",
       "      <td>White</td>\n",
       "      <td>1st Owner</td>\n",
       "      <td>1197</td>\n",
       "      <td>5.0</td>\n",
       "      <td>Ahmedabad</td>\n",
       "      <td>hatchback</td>\n",
       "      <td>Maruti Suzuki</td>\n",
       "      <td>Swift</td>\n",
       "    </tr>\n",
       "  </tbody>\n",
       "</table>\n",
       "</div>"
      ],
      "text/plain": [
       "      price    year    fuel   trans       mile  color      owner  engine  \\\n",
       "0  422000.0  2019.0  Petrol  Manual  24230 Kms  White  1st Owner     998   \n",
       "1  585000.0  2018.0  Diesel  Manual  31694 Kms  White  1st Owner    1248   \n",
       "2  610000.0  2017.0  Petrol  Manual  49072 Kms  White  1st Owner    1197   \n",
       "3  399000.0  2013.0  Diesel  Manual  72301 Kms  White  1st Owner    1248   \n",
       "4  600000.0  2019.0  Petrol  Manual  21060 Kms  White  1st Owner    1197   \n",
       "\n",
       "   seating   location       Body           make     model  \n",
       "0      5.0  Ahmedabad  hatchback  Maruti Suzuki  S-Presso  \n",
       "1      5.0  Ahmedabad  hatchback  Maruti Suzuki     Swift  \n",
       "2      5.0  Ahmedabad  hatchback  Maruti Suzuki    Baleno  \n",
       "3      5.0  Ahmedabad  hatchback  Maruti Suzuki     Swift  \n",
       "4      5.0  Ahmedabad  hatchback  Maruti Suzuki     Swift  "
      ]
     },
     "execution_count": 48,
     "metadata": {},
     "output_type": "execute_result"
    }
   ],
   "source": [
    "cars.head()"
   ]
  },
  {
   "cell_type": "code",
   "execution_count": 50,
   "metadata": {},
   "outputs": [],
   "source": [
    "cars['mile'] = pd.to_numeric(cars['mile'].str.replace(' Kms',''))"
   ]
  },
  {
   "cell_type": "code",
   "execution_count": null,
   "metadata": {},
   "outputs": [],
   "source": [
    "cars.to_excel('cars.xlsx', index= False)"
   ]
  }
 ],
 "metadata": {
  "kernelspec": {
   "display_name": "Python 3",
   "language": "python",
   "name": "python3"
  },
  "language_info": {
   "codemirror_mode": {
    "name": "ipython",
    "version": 3
   },
   "file_extension": ".py",
   "mimetype": "text/x-python",
   "name": "python",
   "nbconvert_exporter": "python",
   "pygments_lexer": "ipython3",
   "version": "3.8.8"
  }
 },
 "nbformat": 4,
 "nbformat_minor": 2
}
